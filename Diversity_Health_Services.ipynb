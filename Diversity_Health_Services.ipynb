{
  "nbformat": 4,
  "nbformat_minor": 0,
  "metadata": {
    "colab": {
      "provenance": [],
      "authorship_tag": "ABX9TyMbNP9N7i0UnpYtkhND1h5f",
      "include_colab_link": true
    },
    "kernelspec": {
      "name": "python3",
      "display_name": "Python 3"
    },
    "language_info": {
      "name": "python"
    }
  },
  "cells": [
    {
      "cell_type": "markdown",
      "metadata": {
        "id": "view-in-github",
        "colab_type": "text"
      },
      "source": [
        "<a href=\"https://colab.research.google.com/github/sonleh96/wb-gpbp-ldt/blob/dev-ghinwa/Diversity_Health_Services.ipynb\" target=\"_parent\"><img src=\"https://colab.research.google.com/assets/colab-badge.svg\" alt=\"Open In Colab\"/></a>"
      ]
    },
    {
      "cell_type": "code",
      "execution_count": 20,
      "metadata": {
        "id": "ADb4waVUIWJ9"
      },
      "outputs": [],
      "source": [
        "!pip install google-cloud-storage\n",
        "!pip install gcsfs\n",
        "import pandas as pd\n",
        "import gcsfs\n",
        "import geopandas as gpd\n",
        "from collections import Counter\n",
        "import numpy as np"
      ]
    },
    {
      "cell_type": "code",
      "source": [
        "from google.colab import auth\n",
        "auth.authenticate_user()"
      ],
      "metadata": {
        "id": "DD_fK2rDIckE"
      },
      "execution_count": 2,
      "outputs": []
    },
    {
      "cell_type": "code",
      "source": [
        "from google.cloud import storage\n",
        "\n",
        "# Create a client\n",
        "client = storage.Client()\n",
        "\n",
        "#Access the Google Bucket\n",
        "bucket_name = 'wb-ldt'\n",
        "bucket = client.get_bucket(bucket_name)"
      ],
      "metadata": {
        "id": "cxZVqFmrIgX9"
      },
      "execution_count": 3,
      "outputs": []
    },
    {
      "cell_type": "markdown",
      "source": [
        "**Shape File for Serbia**"
      ],
      "metadata": {
        "id": "p_KmMq5hZQLS"
      }
    },
    {
      "cell_type": "code",
      "source": [
        "#Name of Shape File\n",
        "file_path = \"shapefiles/gadm41_SRB_2.json\"\n",
        "gcs_file_path = 'gs://' + bucket_name + '/' + file_path\n",
        "\n",
        "#Read Shape File --> The shape file gives a MultiPolygon Geometry Column\n",
        "gdf = gpd.read_file(gcs_file_path)\n",
        "\n",
        "#Adjust for GeoSpatial Data\n",
        "center = gpd.GeoDataFrame(gdf[['GID_2', 'NAME_2']])\n",
        "\n",
        "#Change the MultiPolygon Geometry Column to make it more useful\n",
        "center['geometry'] = gdf.centroid\n",
        "center = center.to_crs(gdf.crs)\n",
        "center['lat'] = center.geometry.y\n",
        "center['lon'] = center.geometry.x\n",
        "#center"
      ],
      "metadata": {
        "colab": {
          "base_uri": "https://localhost:8080/"
        },
        "id": "W4SWr84hIllp",
        "outputId": "94b84191-ef98-4157-8f06-e44c7fd994b6"
      },
      "execution_count": 4,
      "outputs": [
        {
          "output_type": "stream",
          "name": "stderr",
          "text": [
            "<ipython-input-4-90075547e9ca>:12: UserWarning: Geometry is in a geographic CRS. Results from 'centroid' are likely incorrect. Use 'GeoSeries.to_crs()' to re-project geometries to a projected CRS before this operation.\n",
            "\n",
            "  center['geometry'] = gdf.centroid\n",
            "<ipython-input-4-90075547e9ca>:12: FutureWarning: You are adding a column named 'geometry' to a GeoDataFrame constructed without an active geometry column. Currently, this automatically sets the active geometry column to 'geometry' but in the future that will no longer happen. Instead, either provide geometry to the GeoDataFrame constructor (GeoDataFrame(... geometry=GeoSeries()) or use `set_geometry('geometry')` to explicitly set the active geometry column.\n",
            "  center['geometry'] = gdf.centroid\n"
          ]
        }
      ]
    },
    {
      "cell_type": "markdown",
      "source": [
        "**Extract Healthcare Facilities Data using OverPass API**"
      ],
      "metadata": {
        "id": "tLetn38rZYzI"
      }
    },
    {
      "cell_type": "code",
      "source": [
        "import requests\n",
        "\n",
        "# Overpass API endpoint\n",
        "overpass_url = \"http://overpass-api.de/api/interpreter\"\n",
        "\n",
        "# Overpass Query: Fetching all healthcare-related facilities in Serbia\n",
        "overpass_query = \"\"\"\n",
        "[out:json];\n",
        "area[\"ISO3166-1\"=\"RS\"]->.searchArea;\n",
        "(\n",
        "  node[\"healthcare\"](area.searchArea);\n",
        "  way[\"healthcare\"](area.searchArea);\n",
        "  relation[\"healthcare\"](area.searchArea);\n",
        "\n",
        "  node[\"amenity\"=\"hospital\"](area.searchArea);\n",
        "  way[\"amenity\"=\"hospital\"](area.searchArea);\n",
        "  relation[\"amenity\"=\"hospital\"](area.searchArea);\n",
        "\n",
        "  node[\"amenity\"=\"clinic\"](area.searchArea);\n",
        "  way[\"amenity\"=\"clinic\"](area.searchArea);\n",
        "  relation[\"amenity\"=\"clinic\"](area.searchArea);\n",
        "\n",
        "  node[\"amenity\"=\"pharmacy\"](area.searchArea);\n",
        "  way[\"amenity\"=\"pharmacy\"](area.searchArea);\n",
        "  relation[\"amenity\"=\"pharmacy\"](area.searchArea);\n",
        "\n",
        "  node[\"amenity\"=\"dentist\"](area.searchArea);\n",
        "  way[\"amenity\"=\"dentist\"](area.searchArea);\n",
        "  relation[\"amenity\"=\"dentist\"](area.searchArea);\n",
        ");\n",
        "out center;\n",
        "\"\"\"\n",
        "\n",
        "# Make the request to Overpass API\n",
        "response = requests.get(overpass_url, params={'data': overpass_query})\n",
        "data = response.json()\n",
        "\n",
        "# Convert the response to a Pandas DataFrame\n",
        "df_facilities = pd.DataFrame(data['elements'])\n",
        "\n",
        "# Extract the 'name', 'amenity/healthcare', 'lat', 'lon', 'type' of facility\n",
        "df_facilities['name'] = df_facilities['tags'].apply(lambda x: x.get('name', None))\n",
        "df_facilities['amenity_or_healthcare'] = df_facilities['tags'].apply(\n",
        "    lambda x: x.get('amenity', x.get('healthcare', None))\n",
        ")\n",
        "\n",
        "# Filter necessary columns: 'id', 'lat', 'lon', 'name', 'amenity_or_healthcare', and deduplicate\n",
        "df_facilities = df_facilities[['id', 'lat', 'lon', 'name', 'amenity_or_healthcare']].drop_duplicates()"
      ],
      "metadata": {
        "colab": {
          "base_uri": "https://localhost:8080/"
        },
        "id": "XhLPwaKPIrkm",
        "outputId": "2fe1c42c-cf59-4184-83cb-27bfd52905d7"
      },
      "execution_count": 7,
      "outputs": [
        {
          "output_type": "stream",
          "name": "stdout",
          "text": [
            "          id        lat        lon                                     name  \\\n",
            "0  291178034  44.839801  20.413859  Здравствена станица „Авијатичарски трг“   \n",
            "1  301465610  44.826951  20.456656                          Др Јосиф Панчић   \n",
            "2  311840660  45.774674  19.112893                                     None   \n",
            "3  347788107  46.098935  19.663886                                     None   \n",
            "4  356074529  44.788549  20.465502                                     None   \n",
            "\n",
            "  amenity_or_healthcare  \n",
            "0              hospital  \n",
            "1              pharmacy  \n",
            "2              pharmacy  \n",
            "3              pharmacy  \n",
            "4              pharmacy  \n"
          ]
        }
      ]
    },
    {
      "cell_type": "markdown",
      "source": [
        "**Connect Healthcare Data to Shape File**"
      ],
      "metadata": {
        "id": "5-AGeEvNZfRf"
      }
    },
    {
      "cell_type": "code",
      "source": [
        "#GeoSpatial DataFrame\n",
        "df_facilities = gpd.GeoDataFrame(df_facilities, geometry=gpd.points_from_xy(df_facilities.lon, df_facilities.lat))\n",
        "df_facilities = df_facilities.set_crs(gdf.crs)\n",
        "\n",
        "#Join\n",
        "serbia_facilities = gpd.sjoin(df_facilities, gdf, predicate='within')"
      ],
      "metadata": {
        "id": "xF_tBIU8JlKf"
      },
      "execution_count": 14,
      "outputs": []
    },
    {
      "cell_type": "code",
      "source": [
        "len(serbia_facilities)"
      ],
      "metadata": {
        "colab": {
          "base_uri": "https://localhost:8080/"
        },
        "id": "iOEgEknjJ-Yi",
        "outputId": "fff97179-d47f-4597-80a6-3e4a9e1f1be4"
      },
      "execution_count": 15,
      "outputs": [
        {
          "output_type": "execute_result",
          "data": {
            "text/plain": [
              "1784"
            ]
          },
          "metadata": {},
          "execution_count": 15
        }
      ]
    },
    {
      "cell_type": "markdown",
      "source": [
        "**Calculate the Shannon Entropy Index for Each Municipality**"
      ],
      "metadata": {
        "id": "DTW4pqCWZolR"
      }
    },
    {
      "cell_type": "code",
      "source": [
        "diversity_healthcare = list()\n",
        "year = '2024'"
      ],
      "metadata": {
        "id": "kr8XrGgObdGh"
      },
      "execution_count": 24,
      "outputs": []
    },
    {
      "cell_type": "code",
      "source": [
        "municipalities = gdf['GID_2'].unique()\n",
        "\n",
        "for municipality in municipalities:\n",
        "  serbia_facilities_temp = serbia_facilities[serbia_facilities['GID_2'] == municipality]\n",
        "\n",
        "  type_counts = serbia_facilities_temp['amenity_or_healthcare'].value_counts()\n",
        "\n",
        "  # Step 2: Convert counts to proportions\n",
        "  total_facilities = type_counts.sum()\n",
        "  proportions = type_counts / total_facilities\n",
        "\n",
        "  # Step 3: Calculate Shannon Diversity Index\n",
        "  shannon_diversity = -np.sum(proportions * np.log(proportions))\n",
        "\n",
        "  diversity_healthcare.append([municipality, year, shannon_diversity])"
      ],
      "metadata": {
        "id": "WrQLQ1KcKG76"
      },
      "execution_count": 25,
      "outputs": []
    },
    {
      "cell_type": "code",
      "source": [
        "#Save into Data Frame\n",
        "columns = ['GID_2', 'Year', 'healthcare-facilities-diversity']\n",
        "\n",
        "# Create DataFrame\n",
        "df = pd.DataFrame(diversity_healthcare, columns=columns)\n",
        "\n",
        "df = df.merge(center[['GID_2', 'NAME_2']],\n",
        "              how = 'left')\n",
        "\n",
        "# Define new column order\n",
        "new_column_order = ['GID_2', 'NAME_2', 'Year', 'healthcare-facilities-diversity']\n",
        "\n",
        "# Reorder columns\n",
        "df = df[new_column_order]"
      ],
      "metadata": {
        "id": "a_buCVWdbnqj"
      },
      "execution_count": 28,
      "outputs": []
    },
    {
      "cell_type": "code",
      "source": [
        "#Save the HealthCare Facilities in Serbia CSV file\n",
        "from io import BytesIO\n",
        "\n",
        "# Convert DataFrame to CSV in memory\n",
        "csv_buffer = BytesIO()\n",
        "df.to_csv(csv_buffer, index=False)\n",
        "\n",
        "# Move the buffer's position to the beginning\n",
        "csv_buffer.seek(0)\n",
        "\n",
        "def upload_csv_to_gcs(bucket_name, destination_blob_name, file_buffer):\n",
        "    \"\"\"Uploads a file from a buffer to Google Cloud Storage.\"\"\"\n",
        "    storage_client = storage.Client()\n",
        "    bucket = storage_client.bucket(bucket_name)\n",
        "    blob = bucket.blob(destination_blob_name)\n",
        "\n",
        "    # Upload the file-like object (buffer)\n",
        "    blob.upload_from_file(file_buffer, content_type='text/csv')\n",
        "    print(f\"File uploaded to {destination_blob_name}.\")\n",
        "\n",
        "# Define your GCS bucket name and destination path\n",
        "destination_blob_name = 'RS/processed-data/SRB_healthcarefacilities_diversity.csv'\n",
        "\n",
        "# Upload the CSV from the buffer directly\n",
        "upload_csv_to_gcs(bucket_name, destination_blob_name, csv_buffer)"
      ],
      "metadata": {
        "colab": {
          "base_uri": "https://localhost:8080/"
        },
        "id": "Ra6kMCp0bqd0",
        "outputId": "cbea3dc5-9e35-47e9-deb9-0f5a9efc1c7f"
      },
      "execution_count": 30,
      "outputs": [
        {
          "output_type": "stream",
          "name": "stdout",
          "text": [
            "File uploaded to RS/processed-data/SRB_healthcarefacilities_diversity.csv.\n"
          ]
        }
      ]
    }
  ]
}
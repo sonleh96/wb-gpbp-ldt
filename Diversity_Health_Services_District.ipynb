{
  "nbformat": 4,
  "nbformat_minor": 0,
  "metadata": {
    "colab": {
      "provenance": [],
      "authorship_tag": "ABX9TyMwaVoHf9STh2l9EuPYRnyD",
      "include_colab_link": true
    },
    "kernelspec": {
      "name": "python3",
      "display_name": "Python 3"
    },
    "language_info": {
      "name": "python"
    }
  },
  "cells": [
    {
      "cell_type": "markdown",
      "metadata": {
        "id": "view-in-github",
        "colab_type": "text"
      },
      "source": [
        "<a href=\"https://colab.research.google.com/github/sonleh96/wb-gpbp-ldt/blob/dev-ghinwa/Diversity_Health_Services_District.ipynb\" target=\"_parent\"><img src=\"https://colab.research.google.com/assets/colab-badge.svg\" alt=\"Open In Colab\"/></a>"
      ]
    },
    {
      "cell_type": "markdown",
      "source": [
        "Measures Diversity of Health Services on the District Level\n"
      ],
      "metadata": {
        "id": "cwyhDtKep1_O"
      }
    },
    {
      "cell_type": "code",
      "execution_count": null,
      "metadata": {
        "id": "ADb4waVUIWJ9",
        "colab": {
          "base_uri": "https://localhost:8080/"
        },
        "outputId": "9c3e026b-9643-4223-d210-457e6cb64b88"
      },
      "outputs": [
        {
          "output_type": "stream",
          "name": "stdout",
          "text": [
            "Requirement already satisfied: google-cloud-storage in /usr/local/lib/python3.10/dist-packages (2.8.0)\n",
            "Requirement already satisfied: google-auth<3.0dev,>=1.25.0 in /usr/local/lib/python3.10/dist-packages (from google-cloud-storage) (2.27.0)\n",
            "Requirement already satisfied: google-api-core!=2.0.*,!=2.1.*,!=2.2.*,!=2.3.0,<3.0.0dev,>=1.31.5 in /usr/local/lib/python3.10/dist-packages (from google-cloud-storage) (2.19.2)\n",
            "Requirement already satisfied: google-cloud-core<3.0dev,>=2.3.0 in /usr/local/lib/python3.10/dist-packages (from google-cloud-storage) (2.4.1)\n",
            "Requirement already satisfied: google-resumable-media>=2.3.2 in /usr/local/lib/python3.10/dist-packages (from google-cloud-storage) (2.7.2)\n",
            "Requirement already satisfied: requests<3.0.0dev,>=2.18.0 in /usr/local/lib/python3.10/dist-packages (from google-cloud-storage) (2.32.3)\n",
            "Requirement already satisfied: googleapis-common-protos<2.0.dev0,>=1.56.2 in /usr/local/lib/python3.10/dist-packages (from google-api-core!=2.0.*,!=2.1.*,!=2.2.*,!=2.3.0,<3.0.0dev,>=1.31.5->google-cloud-storage) (1.65.0)\n",
            "Requirement already satisfied: protobuf!=3.20.0,!=3.20.1,!=4.21.0,!=4.21.1,!=4.21.2,!=4.21.3,!=4.21.4,!=4.21.5,<6.0.0.dev0,>=3.19.5 in /usr/local/lib/python3.10/dist-packages (from google-api-core!=2.0.*,!=2.1.*,!=2.2.*,!=2.3.0,<3.0.0dev,>=1.31.5->google-cloud-storage) (3.20.3)\n",
            "Requirement already satisfied: proto-plus<2.0.0dev,>=1.22.3 in /usr/local/lib/python3.10/dist-packages (from google-api-core!=2.0.*,!=2.1.*,!=2.2.*,!=2.3.0,<3.0.0dev,>=1.31.5->google-cloud-storage) (1.25.0)\n",
            "Requirement already satisfied: cachetools<6.0,>=2.0.0 in /usr/local/lib/python3.10/dist-packages (from google-auth<3.0dev,>=1.25.0->google-cloud-storage) (5.5.0)\n",
            "Requirement already satisfied: pyasn1-modules>=0.2.1 in /usr/local/lib/python3.10/dist-packages (from google-auth<3.0dev,>=1.25.0->google-cloud-storage) (0.4.1)\n",
            "Requirement already satisfied: rsa<5,>=3.1.4 in /usr/local/lib/python3.10/dist-packages (from google-auth<3.0dev,>=1.25.0->google-cloud-storage) (4.9)\n",
            "Requirement already satisfied: google-crc32c<2.0dev,>=1.0 in /usr/local/lib/python3.10/dist-packages (from google-resumable-media>=2.3.2->google-cloud-storage) (1.6.0)\n",
            "Requirement already satisfied: charset-normalizer<4,>=2 in /usr/local/lib/python3.10/dist-packages (from requests<3.0.0dev,>=2.18.0->google-cloud-storage) (3.4.0)\n",
            "Requirement already satisfied: idna<4,>=2.5 in /usr/local/lib/python3.10/dist-packages (from requests<3.0.0dev,>=2.18.0->google-cloud-storage) (3.10)\n",
            "Requirement already satisfied: urllib3<3,>=1.21.1 in /usr/local/lib/python3.10/dist-packages (from requests<3.0.0dev,>=2.18.0->google-cloud-storage) (2.2.3)\n",
            "Requirement already satisfied: certifi>=2017.4.17 in /usr/local/lib/python3.10/dist-packages (from requests<3.0.0dev,>=2.18.0->google-cloud-storage) (2024.8.30)\n",
            "Requirement already satisfied: pyasn1<0.7.0,>=0.4.6 in /usr/local/lib/python3.10/dist-packages (from pyasn1-modules>=0.2.1->google-auth<3.0dev,>=1.25.0->google-cloud-storage) (0.6.1)\n",
            "Requirement already satisfied: gcsfs in /usr/local/lib/python3.10/dist-packages (2024.10.0)\n",
            "Requirement already satisfied: aiohttp!=4.0.0a0,!=4.0.0a1 in /usr/local/lib/python3.10/dist-packages (from gcsfs) (3.10.10)\n",
            "Requirement already satisfied: decorator>4.1.2 in /usr/local/lib/python3.10/dist-packages (from gcsfs) (4.4.2)\n",
            "Requirement already satisfied: fsspec==2024.10.0 in /usr/local/lib/python3.10/dist-packages (from gcsfs) (2024.10.0)\n",
            "Requirement already satisfied: google-auth>=1.2 in /usr/local/lib/python3.10/dist-packages (from gcsfs) (2.27.0)\n",
            "Requirement already satisfied: google-auth-oauthlib in /usr/local/lib/python3.10/dist-packages (from gcsfs) (1.2.1)\n",
            "Requirement already satisfied: google-cloud-storage in /usr/local/lib/python3.10/dist-packages (from gcsfs) (2.8.0)\n",
            "Requirement already satisfied: requests in /usr/local/lib/python3.10/dist-packages (from gcsfs) (2.32.3)\n",
            "Requirement already satisfied: aiohappyeyeballs>=2.3.0 in /usr/local/lib/python3.10/dist-packages (from aiohttp!=4.0.0a0,!=4.0.0a1->gcsfs) (2.4.3)\n",
            "Requirement already satisfied: aiosignal>=1.1.2 in /usr/local/lib/python3.10/dist-packages (from aiohttp!=4.0.0a0,!=4.0.0a1->gcsfs) (1.3.1)\n",
            "Requirement already satisfied: attrs>=17.3.0 in /usr/local/lib/python3.10/dist-packages (from aiohttp!=4.0.0a0,!=4.0.0a1->gcsfs) (24.2.0)\n",
            "Requirement already satisfied: frozenlist>=1.1.1 in /usr/local/lib/python3.10/dist-packages (from aiohttp!=4.0.0a0,!=4.0.0a1->gcsfs) (1.5.0)\n",
            "Requirement already satisfied: multidict<7.0,>=4.5 in /usr/local/lib/python3.10/dist-packages (from aiohttp!=4.0.0a0,!=4.0.0a1->gcsfs) (6.1.0)\n",
            "Requirement already satisfied: yarl<2.0,>=1.12.0 in /usr/local/lib/python3.10/dist-packages (from aiohttp!=4.0.0a0,!=4.0.0a1->gcsfs) (1.17.0)\n",
            "Requirement already satisfied: async-timeout<5.0,>=4.0 in /usr/local/lib/python3.10/dist-packages (from aiohttp!=4.0.0a0,!=4.0.0a1->gcsfs) (4.0.3)\n",
            "Requirement already satisfied: cachetools<6.0,>=2.0.0 in /usr/local/lib/python3.10/dist-packages (from google-auth>=1.2->gcsfs) (5.5.0)\n",
            "Requirement already satisfied: pyasn1-modules>=0.2.1 in /usr/local/lib/python3.10/dist-packages (from google-auth>=1.2->gcsfs) (0.4.1)\n",
            "Requirement already satisfied: rsa<5,>=3.1.4 in /usr/local/lib/python3.10/dist-packages (from google-auth>=1.2->gcsfs) (4.9)\n",
            "Requirement already satisfied: requests-oauthlib>=0.7.0 in /usr/local/lib/python3.10/dist-packages (from google-auth-oauthlib->gcsfs) (1.3.1)\n",
            "Requirement already satisfied: google-api-core!=2.0.*,!=2.1.*,!=2.2.*,!=2.3.0,<3.0.0dev,>=1.31.5 in /usr/local/lib/python3.10/dist-packages (from google-cloud-storage->gcsfs) (2.19.2)\n",
            "Requirement already satisfied: google-cloud-core<3.0dev,>=2.3.0 in /usr/local/lib/python3.10/dist-packages (from google-cloud-storage->gcsfs) (2.4.1)\n",
            "Requirement already satisfied: google-resumable-media>=2.3.2 in /usr/local/lib/python3.10/dist-packages (from google-cloud-storage->gcsfs) (2.7.2)\n",
            "Requirement already satisfied: charset-normalizer<4,>=2 in /usr/local/lib/python3.10/dist-packages (from requests->gcsfs) (3.4.0)\n",
            "Requirement already satisfied: idna<4,>=2.5 in /usr/local/lib/python3.10/dist-packages (from requests->gcsfs) (3.10)\n",
            "Requirement already satisfied: urllib3<3,>=1.21.1 in /usr/local/lib/python3.10/dist-packages (from requests->gcsfs) (2.2.3)\n",
            "Requirement already satisfied: certifi>=2017.4.17 in /usr/local/lib/python3.10/dist-packages (from requests->gcsfs) (2024.8.30)\n",
            "Requirement already satisfied: googleapis-common-protos<2.0.dev0,>=1.56.2 in /usr/local/lib/python3.10/dist-packages (from google-api-core!=2.0.*,!=2.1.*,!=2.2.*,!=2.3.0,<3.0.0dev,>=1.31.5->google-cloud-storage->gcsfs) (1.65.0)\n",
            "Requirement already satisfied: protobuf!=3.20.0,!=3.20.1,!=4.21.0,!=4.21.1,!=4.21.2,!=4.21.3,!=4.21.4,!=4.21.5,<6.0.0.dev0,>=3.19.5 in /usr/local/lib/python3.10/dist-packages (from google-api-core!=2.0.*,!=2.1.*,!=2.2.*,!=2.3.0,<3.0.0dev,>=1.31.5->google-cloud-storage->gcsfs) (3.20.3)\n",
            "Requirement already satisfied: proto-plus<2.0.0dev,>=1.22.3 in /usr/local/lib/python3.10/dist-packages (from google-api-core!=2.0.*,!=2.1.*,!=2.2.*,!=2.3.0,<3.0.0dev,>=1.31.5->google-cloud-storage->gcsfs) (1.25.0)\n",
            "Requirement already satisfied: google-crc32c<2.0dev,>=1.0 in /usr/local/lib/python3.10/dist-packages (from google-resumable-media>=2.3.2->google-cloud-storage->gcsfs) (1.6.0)\n",
            "Requirement already satisfied: typing-extensions>=4.1.0 in /usr/local/lib/python3.10/dist-packages (from multidict<7.0,>=4.5->aiohttp!=4.0.0a0,!=4.0.0a1->gcsfs) (4.12.2)\n",
            "Requirement already satisfied: pyasn1<0.7.0,>=0.4.6 in /usr/local/lib/python3.10/dist-packages (from pyasn1-modules>=0.2.1->google-auth>=1.2->gcsfs) (0.6.1)\n",
            "Requirement already satisfied: oauthlib>=3.0.0 in /usr/local/lib/python3.10/dist-packages (from requests-oauthlib>=0.7.0->google-auth-oauthlib->gcsfs) (3.2.2)\n",
            "Requirement already satisfied: propcache>=0.2.0 in /usr/local/lib/python3.10/dist-packages (from yarl<2.0,>=1.12.0->aiohttp!=4.0.0a0,!=4.0.0a1->gcsfs) (0.2.0)\n"
          ]
        }
      ],
      "source": [
        "!pip install google-cloud-storage\n",
        "!pip install gcsfs\n",
        "import pandas as pd\n",
        "import gcsfs\n",
        "import geopandas as gpd\n",
        "from collections import Counter\n",
        "import numpy as np"
      ]
    },
    {
      "cell_type": "code",
      "source": [
        "from google.colab import auth\n",
        "auth.authenticate_user()"
      ],
      "metadata": {
        "id": "DD_fK2rDIckE"
      },
      "execution_count": null,
      "outputs": []
    },
    {
      "cell_type": "code",
      "source": [
        "from google.cloud import storage\n",
        "\n",
        "# Create a client\n",
        "client = storage.Client()\n",
        "\n",
        "#Access the Google Bucket\n",
        "bucket_name = 'wb-ldt'\n",
        "bucket = client.get_bucket(bucket_name)"
      ],
      "metadata": {
        "id": "cxZVqFmrIgX9"
      },
      "execution_count": null,
      "outputs": []
    },
    {
      "cell_type": "markdown",
      "source": [
        "**Shape File for Serbia**"
      ],
      "metadata": {
        "id": "p_KmMq5hZQLS"
      }
    },
    {
      "cell_type": "code",
      "source": [
        "#Name of Shape File\n",
        "file_path = \"shapefiles/gadm41_SRB_2.json\"\n",
        "gcs_file_path = 'gs://' + bucket_name + '/' + file_path\n",
        "\n",
        "#Read Shape File --> The shape file gives a MultiPolygon Geometry Column\n",
        "gdf = gpd.read_file(gcs_file_path)\n",
        "\n",
        "#Adjust for GeoSpatial Data\n",
        "center = gpd.GeoDataFrame(gdf[['GID_1', 'NAME_1']])\n",
        "\n",
        "#Change the MultiPolygon Geometry Column to make it more useful\n",
        "center['geometry'] = gdf.centroid\n",
        "center = center.to_crs(gdf.crs)\n",
        "center['lat'] = center.geometry.y\n",
        "center['lon'] = center.geometry.x\n",
        "#center"
      ],
      "metadata": {
        "colab": {
          "base_uri": "https://localhost:8080/"
        },
        "id": "W4SWr84hIllp",
        "outputId": "c71e0d31-9fd0-4ed7-e5d9-cbf82b6a4f20"
      },
      "execution_count": null,
      "outputs": [
        {
          "output_type": "stream",
          "name": "stderr",
          "text": [
            "<ipython-input-4-bc2ae66525c0>:12: UserWarning: Geometry is in a geographic CRS. Results from 'centroid' are likely incorrect. Use 'GeoSeries.to_crs()' to re-project geometries to a projected CRS before this operation.\n",
            "\n",
            "  center['geometry'] = gdf.centroid\n",
            "<ipython-input-4-bc2ae66525c0>:12: FutureWarning: You are adding a column named 'geometry' to a GeoDataFrame constructed without an active geometry column. Currently, this automatically sets the active geometry column to 'geometry' but in the future that will no longer happen. Instead, either provide geometry to the GeoDataFrame constructor (GeoDataFrame(... geometry=GeoSeries()) or use `set_geometry('geometry')` to explicitly set the active geometry column.\n",
            "  center['geometry'] = gdf.centroid\n"
          ]
        }
      ]
    },
    {
      "cell_type": "markdown",
      "source": [
        "**Extract Healthcare Facilities Data using OverPass API**"
      ],
      "metadata": {
        "id": "tLetn38rZYzI"
      }
    },
    {
      "cell_type": "code",
      "source": [
        "import requests\n",
        "\n",
        "# Overpass API endpoint\n",
        "overpass_url = \"http://overpass-api.de/api/interpreter\"\n",
        "\n",
        "# Overpass Query: Fetching all healthcare-related facilities in Serbia\n",
        "overpass_query = \"\"\"\n",
        "[out:json];\n",
        "area[\"ISO3166-1\"=\"RS\"]->.searchArea;\n",
        "(\n",
        "  node[\"healthcare\"](area.searchArea);\n",
        "  way[\"healthcare\"](area.searchArea);\n",
        "  relation[\"healthcare\"](area.searchArea);\n",
        "\n",
        "  node[\"amenity\"=\"hospital\"](area.searchArea);\n",
        "  way[\"amenity\"=\"hospital\"](area.searchArea);\n",
        "  relation[\"amenity\"=\"hospital\"](area.searchArea);\n",
        "\n",
        "  node[\"amenity\"=\"clinic\"](area.searchArea);\n",
        "  way[\"amenity\"=\"clinic\"](area.searchArea);\n",
        "  relation[\"amenity\"=\"clinic\"](area.searchArea);\n",
        "\n",
        "  node[\"amenity\"=\"pharmacy\"](area.searchArea);\n",
        "  way[\"amenity\"=\"pharmacy\"](area.searchArea);\n",
        "  relation[\"amenity\"=\"pharmacy\"](area.searchArea);\n",
        "\n",
        "  node[\"amenity\"=\"dentist\"](area.searchArea);\n",
        "  way[\"amenity\"=\"dentist\"](area.searchArea);\n",
        "  relation[\"amenity\"=\"dentist\"](area.searchArea);\n",
        ");\n",
        "out center;\n",
        "\"\"\"\n",
        "\n",
        "# Make the request to Overpass API\n",
        "response = requests.get(overpass_url, params={'data': overpass_query})\n",
        "data = response.json()\n",
        "\n",
        "# Convert the response to a Pandas DataFrame\n",
        "df_facilities = pd.DataFrame(data['elements'])\n",
        "\n",
        "# Extract the 'name', 'amenity/healthcare', 'lat', 'lon', 'type' of facility\n",
        "df_facilities['name'] = df_facilities['tags'].apply(lambda x: x.get('name', None))\n",
        "df_facilities['amenity_or_healthcare'] = df_facilities['tags'].apply(\n",
        "    lambda x: x.get('amenity', x.get('healthcare', None))\n",
        ")\n",
        "\n",
        "# Filter necessary columns: 'id', 'lat', 'lon', 'name', 'amenity_or_healthcare', and deduplicate\n",
        "df_facilities = df_facilities[['id', 'lat', 'lon', 'name', 'amenity_or_healthcare']].drop_duplicates()"
      ],
      "metadata": {
        "id": "XhLPwaKPIrkm"
      },
      "execution_count": null,
      "outputs": []
    },
    {
      "cell_type": "markdown",
      "source": [
        "**Connect Healthcare Data to Shape File**"
      ],
      "metadata": {
        "id": "5-AGeEvNZfRf"
      }
    },
    {
      "cell_type": "code",
      "source": [
        "#GeoSpatial DataFrame\n",
        "df_facilities = gpd.GeoDataFrame(df_facilities, geometry=gpd.points_from_xy(df_facilities.lon, df_facilities.lat))\n",
        "df_facilities = df_facilities.set_crs(gdf.crs)\n",
        "\n",
        "#Join\n",
        "serbia_facilities = gpd.sjoin(df_facilities, gdf, predicate='within')"
      ],
      "metadata": {
        "id": "xF_tBIU8JlKf"
      },
      "execution_count": null,
      "outputs": []
    },
    {
      "cell_type": "code",
      "source": [
        "len(serbia_facilities)"
      ],
      "metadata": {
        "colab": {
          "base_uri": "https://localhost:8080/"
        },
        "id": "iOEgEknjJ-Yi",
        "outputId": "eaa133bb-bde5-4215-e4a5-682031dbfd1d"
      },
      "execution_count": null,
      "outputs": [
        {
          "output_type": "execute_result",
          "data": {
            "text/plain": [
              "1812"
            ]
          },
          "metadata": {},
          "execution_count": 7
        }
      ]
    },
    {
      "cell_type": "markdown",
      "source": [
        "**Calculate the Shannon Entropy Index for Each Municipality**"
      ],
      "metadata": {
        "id": "DTW4pqCWZolR"
      }
    },
    {
      "cell_type": "code",
      "source": [
        "diversity_healthcare = list()\n",
        "year = '2022'"
      ],
      "metadata": {
        "id": "kr8XrGgObdGh"
      },
      "execution_count": null,
      "outputs": []
    },
    {
      "cell_type": "code",
      "source": [
        "districts = gdf['GID_1'].unique()\n",
        "\n",
        "for district in districts:\n",
        "  serbia_facilities_temp = serbia_facilities[serbia_facilities['GID_1'] == district]\n",
        "\n",
        "  type_counts = serbia_facilities_temp['amenity_or_healthcare'].value_counts()\n",
        "\n",
        "  # Step 2: Convert counts to proportions\n",
        "  total_facilities = type_counts.sum()\n",
        "  proportions = type_counts / total_facilities\n",
        "\n",
        "  # Step 3: Calculate Shannon Diversity Index\n",
        "  shannon_diversity = -np.sum(proportions * np.log(proportions))\n",
        "\n",
        "  diversity_healthcare.append([district, year, shannon_diversity])"
      ],
      "metadata": {
        "id": "WrQLQ1KcKG76"
      },
      "execution_count": null,
      "outputs": []
    },
    {
      "cell_type": "code",
      "source": [
        "#Save into Data Frame\n",
        "columns = ['GID_1', 'Year', 'healthcare-facilities-diversity']\n",
        "\n",
        "# Create DataFrame\n",
        "df = pd.DataFrame(diversity_healthcare, columns=columns)\n",
        "\n",
        "df = df.merge(center[['GID_1', 'NAME_1']],\n",
        "              how = 'left')\n",
        "\n",
        "# Define new column order\n",
        "new_column_order = ['GID_1', 'NAME_1', 'Year', 'healthcare-facilities-diversity']\n",
        "\n",
        "# Reorder columns\n",
        "df = df[new_column_order]"
      ],
      "metadata": {
        "id": "a_buCVWdbnqj"
      },
      "execution_count": null,
      "outputs": []
    },
    {
      "cell_type": "code",
      "source": [
        "len(df['GID_1'].unique())"
      ],
      "metadata": {
        "colab": {
          "base_uri": "https://localhost:8080/"
        },
        "id": "c-9l-BxF2j1k",
        "outputId": "3ecdcd55-5ffd-439d-9ad2-3aa2d908bf96"
      },
      "execution_count": null,
      "outputs": [
        {
          "output_type": "execute_result",
          "data": {
            "text/plain": [
              "25"
            ]
          },
          "metadata": {},
          "execution_count": 17
        }
      ]
    },
    {
      "cell_type": "code",
      "source": [
        "#Save the HealthCare Facilities in Serbia CSV file\n",
        "from io import BytesIO\n",
        "\n",
        "# Convert DataFrame to CSV in memory\n",
        "csv_buffer = BytesIO()\n",
        "df.to_csv(csv_buffer, index=False)\n",
        "\n",
        "# Move the buffer's position to the beginning\n",
        "csv_buffer.seek(0)\n",
        "\n",
        "def upload_csv_to_gcs(bucket_name, destination_blob_name, file_buffer):\n",
        "    \"\"\"Uploads a file from a buffer to Google Cloud Storage.\"\"\"\n",
        "    storage_client = storage.Client()\n",
        "    bucket = storage_client.bucket(bucket_name)\n",
        "    blob = bucket.blob(destination_blob_name)\n",
        "\n",
        "    # Upload the file-like object (buffer)\n",
        "    blob.upload_from_file(file_buffer, content_type='text/csv')\n",
        "    print(f\"File uploaded to {destination_blob_name}.\")\n",
        "\n",
        "# Define your GCS bucket name and destination path\n",
        "destination_blob_name = 'RS/processed-data-district/SRB_healthcarefacilities_diversity.csv'\n",
        "\n",
        "# Upload the CSV from the buffer directly\n",
        "upload_csv_to_gcs(bucket_name, destination_blob_name, csv_buffer)"
      ],
      "metadata": {
        "colab": {
          "base_uri": "https://localhost:8080/"
        },
        "id": "Ra6kMCp0bqd0",
        "outputId": "1ac22ab4-2880-468f-eb9f-e4f226075d91"
      },
      "execution_count": null,
      "outputs": [
        {
          "output_type": "stream",
          "name": "stdout",
          "text": [
            "File uploaded to RS/processed-data-district/SRB_healthcarefacilities_diversity.csv.\n"
          ]
        }
      ]
    },
    {
      "cell_type": "code",
      "source": [],
      "metadata": {
        "id": "bOTZOOeo3VW3"
      },
      "execution_count": null,
      "outputs": []
    }
  ]
}
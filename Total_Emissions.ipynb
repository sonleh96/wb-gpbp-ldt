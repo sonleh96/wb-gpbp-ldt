{
  "nbformat": 4,
  "nbformat_minor": 0,
  "metadata": {
    "colab": {
      "provenance": [],
      "authorship_tag": "ABX9TyNMRLvFzAxT4NTzIXGtP7To",
      "include_colab_link": true
    },
    "kernelspec": {
      "name": "python3",
      "display_name": "Python 3"
    },
    "language_info": {
      "name": "python"
    }
  },
  "cells": [
    {
      "cell_type": "markdown",
      "metadata": {
        "id": "view-in-github",
        "colab_type": "text"
      },
      "source": [
        "<a href=\"https://colab.research.google.com/github/sonleh96/wb-gpbp-ldt/blob/dev-ghinwa/Total_Emissions.ipynb\" target=\"_parent\"><img src=\"https://colab.research.google.com/assets/colab-badge.svg\" alt=\"Open In Colab\"/></a>"
      ]
    },
    {
      "cell_type": "code",
      "source": [
        "#Libraries Needed\n",
        "import geopandas as gpd\n",
        "import pandas as pd\n",
        "from google.cloud import storage\n",
        "from io import StringIO\n",
        "\n",
        "from shapely.geometry import Point"
      ],
      "metadata": {
        "id": "berhV9H1_WJb"
      },
      "execution_count": 48,
      "outputs": []
    },
    {
      "cell_type": "code",
      "source": [
        "from google.colab import auth\n",
        "auth.authenticate_user()"
      ],
      "metadata": {
        "id": "b7fwp7vp_V7p"
      },
      "execution_count": 1,
      "outputs": []
    },
    {
      "cell_type": "code",
      "execution_count": 49,
      "metadata": {
        "id": "tuOLWEWs-POb"
      },
      "outputs": [],
      "source": [
        "# Create a client\n",
        "client = storage.Client()\n",
        "\n",
        "# Access the Google Cloud Storage bucket\n",
        "bucket_name = 'wb-ldt'\n",
        "bucket = client.get_bucket(bucket_name)\n",
        "\n",
        "# Define the folder path in the bucket (ensure it ends with '/')\n",
        "folder_path = 'RS/raw-data/geospatial/climate-trace-emissions/filtered_emissions_data/'"
      ]
    },
    {
      "cell_type": "markdown",
      "source": [
        "**Download Emissions Data**"
      ],
      "metadata": {
        "id": "YwJ41J5FI0pT"
      }
    },
    {
      "cell_type": "code",
      "source": [
        "files = list()\n",
        "\n",
        "blobs = bucket.list_blobs(prefix=folder_path)\n",
        "for i, blob in enumerate(blobs):\n",
        "  if i == 0:\n",
        "    continue  # Skip iteration when i == 1\n",
        "\n",
        "  else:\n",
        "    files.append(blob.name)"
      ],
      "metadata": {
        "id": "hP4ZfqvoDZJt"
      },
      "execution_count": 40,
      "outputs": []
    },
    {
      "cell_type": "code",
      "source": [
        "# List and read files into DataFrames\n",
        "blobs = bucket.list_blobs(prefix=folder_path)\n",
        "\n",
        "# Initialize an empty list to hold DataFrames\n",
        "df_list = []\n",
        "\n",
        "# Iterate through the blobs\n",
        "for i, blob in enumerate(blobs):\n",
        "    # Skip the first file, if needed\n",
        "    if i == 0:\n",
        "        continue\n",
        "    elif i == max_files - 3:\n",
        "        break\n",
        "    else:\n",
        "        # Read the content of the blob (assuming it's a CSV file)\n",
        "        blob_content = blob.download_as_text()  # Download content as a string\n",
        "\n",
        "        # Convert the content into a DataFrame\n",
        "        df = pd.read_csv(StringIO(blob_content))\n",
        "\n",
        "        # Append the DataFrame to the list\n",
        "        df_list.append(df)\n",
        "        print(f\"Read {blob.name} into a DataFrame\")\n",
        "\n",
        "# Concatenate all DataFrames into a single DataFrame\n",
        "final_df = pd.concat(df_list, ignore_index=True)\n",
        "final_df_cleaned = final_df.drop_duplicates()"
      ],
      "metadata": {
        "colab": {
          "base_uri": "https://localhost:8080/"
        },
        "id": "ncKzgh4oDw-T",
        "outputId": "3726c1b3-c538-4aa0-dd17-27281f575a83"
      },
      "execution_count": 52,
      "outputs": [
        {
          "output_type": "stream",
          "name": "stdout",
          "text": [
            "Read RS/raw-data/geospatial/climate-trace-emissions/filtered_emissions_data/cement_emissions_sources.csv into a DataFrame\n",
            "Read RS/raw-data/geospatial/climate-trace-emissions/filtered_emissions_data/coal-mining_emissions_sources.csv into a DataFrame\n",
            "Read RS/raw-data/geospatial/climate-trace-emissions/filtered_emissions_data/copper-mining_emissions_sources.csv into a DataFrame\n",
            "Read RS/raw-data/geospatial/climate-trace-emissions/filtered_emissions_data/cropland-fires_emissions_sources.csv into a DataFrame\n",
            "Read RS/raw-data/geospatial/climate-trace-emissions/filtered_emissions_data/domestic-aviation_emissions_sources.csv into a DataFrame\n",
            "Read RS/raw-data/geospatial/climate-trace-emissions/filtered_emissions_data/domestic-shipping_emissions_sources.csv into a DataFrame\n",
            "Read RS/raw-data/geospatial/climate-trace-emissions/filtered_emissions_data/electricity-generation_emissions_sources.csv into a DataFrame\n",
            "Read RS/raw-data/geospatial/climate-trace-emissions/filtered_emissions_data/enteric-fermentation-cattle-pasture_emissions_sources.csv into a DataFrame\n",
            "Read RS/raw-data/geospatial/climate-trace-emissions/filtered_emissions_data/forest-land-clearing_emissions_sources.csv into a DataFrame\n",
            "Read RS/raw-data/geospatial/climate-trace-emissions/filtered_emissions_data/forest-land-degradation_emissions_sources.csv into a DataFrame\n",
            "Read RS/raw-data/geospatial/climate-trace-emissions/filtered_emissions_data/forest-land-fires_emissions_sources.csv into a DataFrame\n",
            "Read RS/raw-data/geospatial/climate-trace-emissions/filtered_emissions_data/international-aviation_emissions_sources.csv into a DataFrame\n",
            "Read RS/raw-data/geospatial/climate-trace-emissions/filtered_emissions_data/international-shipping_emissions_sources.csv into a DataFrame\n",
            "Read RS/raw-data/geospatial/climate-trace-emissions/filtered_emissions_data/manure-left-on-pasture-cattle_emissions_sources.csv into a DataFrame\n",
            "Read RS/raw-data/geospatial/climate-trace-emissions/filtered_emissions_data/net-forest-land_emissions_sources.csv into a DataFrame\n",
            "Read RS/raw-data/geospatial/climate-trace-emissions/filtered_emissions_data/net-shrubgrass_emissions_sources.csv into a DataFrame\n",
            "Read RS/raw-data/geospatial/climate-trace-emissions/filtered_emissions_data/net-wetland_emissions_sources.csv into a DataFrame\n",
            "Read RS/raw-data/geospatial/climate-trace-emissions/filtered_emissions_data/oil-and-gas-production-and-transport_emissions_sources.csv into a DataFrame\n",
            "Read RS/raw-data/geospatial/climate-trace-emissions/filtered_emissions_data/removals_emissions_sources.csv into a DataFrame\n",
            "Read RS/raw-data/geospatial/climate-trace-emissions/filtered_emissions_data/road-transportation_emissions_sources.csv into a DataFrame\n",
            "Read RS/raw-data/geospatial/climate-trace-emissions/filtered_emissions_data/shrubgrass-fires_emissions_sources.csv into a DataFrame\n",
            "Read RS/raw-data/geospatial/climate-trace-emissions/filtered_emissions_data/solid-waste-disposal_emissions_sources.csv into a DataFrame\n",
            "Read RS/raw-data/geospatial/climate-trace-emissions/filtered_emissions_data/steel_emissions_sources.csv into a DataFrame\n",
            "Read RS/raw-data/geospatial/climate-trace-emissions/filtered_emissions_data/synthetic-fertilizer-application_emissions_sources.csv into a DataFrame\n",
            "Read RS/raw-data/geospatial/climate-trace-emissions/filtered_emissions_data/wastewater-treatment-and-discharge_emissions_sources.csv into a DataFrame\n",
            "Read RS/raw-data/geospatial/climate-trace-emissions/filtered_emissions_data/water-reservoirs_emissions_sources.csv into a DataFrame\n",
            "Read RS/raw-data/geospatial/climate-trace-emissions/filtered_emissions_data/wetland-fires_emissions_sources.csv into a DataFrame\n"
          ]
        }
      ]
    },
    {
      "cell_type": "code",
      "source": [
        "final_df = final_df[['source_id', 'source_name', 'source_type', 'sector', 'subsector', 'lat', 'lon', 'geometry_ref', 'gas', 'emissions_quantity', 'emissions_factor', 'emissions_factor_units']]"
      ],
      "metadata": {
        "id": "xYO7DmOzAPEz"
      },
      "execution_count": 62,
      "outputs": []
    },
    {
      "cell_type": "code",
      "source": [
        "# Convert the DataFrame into a GeoDataFrame using lat and lon columns\n",
        "final_df['geometry'] = final_df.apply(lambda row: Point((row['lon'], row['lat'])), axis=1)\n",
        "\n",
        "# Define the GeoDataFrame with a coordinate reference system (CRS) such as WGS84 (EPSG:4326)\n",
        "final_df = gpd.GeoDataFrame(final_df, geometry='geometry', crs=\"EPSG:4326\")"
      ],
      "metadata": {
        "id": "rX97E-hXEvKj"
      },
      "execution_count": 69,
      "outputs": []
    },
    {
      "cell_type": "markdown",
      "source": [
        "**Serbia Shape File**"
      ],
      "metadata": {
        "id": "43ciDhvkI3SN"
      }
    },
    {
      "cell_type": "code",
      "source": [
        "#Name of Shape File\n",
        "file_path = \"shapefiles/gadm41_SRB_2.json\"\n",
        "gcs_file_path = 'gs://' + bucket_name + '/' + file_path\n",
        "\n",
        "#Read Shape File --> The shape file gives a MultiPolygon Geometry Column\n",
        "gdf = gpd.read_file(gcs_file_path)\n",
        "\n",
        "#Adjust for GeoSpatial Data\n",
        "center = gpd.GeoDataFrame(gdf[['GID_2', 'NAME_2']])\n",
        "\n",
        "#Change the MultiPolygon Geometry Column to make it more useful\n",
        "center['geometry'] = gdf.centroid\n",
        "center = center.to_crs(gdf.crs)\n",
        "center['lat'] = center.geometry.y\n",
        "center['lon'] = center.geometry.x"
      ],
      "metadata": {
        "colab": {
          "base_uri": "https://localhost:8080/"
        },
        "id": "VXgF_jgMFLaE",
        "outputId": "4ad6969d-726b-4cc0-8718-1c315ddd9209"
      },
      "execution_count": 70,
      "outputs": [
        {
          "output_type": "stream",
          "name": "stderr",
          "text": [
            "<ipython-input-70-4b176a84641e>:12: UserWarning: Geometry is in a geographic CRS. Results from 'centroid' are likely incorrect. Use 'GeoSeries.to_crs()' to re-project geometries to a projected CRS before this operation.\n",
            "\n",
            "  center['geometry'] = gdf.centroid\n",
            "<ipython-input-70-4b176a84641e>:12: FutureWarning: You are adding a column named 'geometry' to a GeoDataFrame constructed without an active geometry column. Currently, this automatically sets the active geometry column to 'geometry' but in the future that will no longer happen. Instead, either provide geometry to the GeoDataFrame constructor (GeoDataFrame(... geometry=GeoSeries()) or use `set_geometry('geometry')` to explicitly set the active geometry column.\n",
            "  center['geometry'] = gdf.centroid\n"
          ]
        }
      ]
    },
    {
      "cell_type": "code",
      "source": [
        "emissions = gpd.sjoin(final_df, gdf, predicate = 'within',\n",
        "                      how = 'inner')"
      ],
      "metadata": {
        "id": "EQxhljEmI9jD"
      },
      "execution_count": 71,
      "outputs": []
    },
    {
      "cell_type": "code",
      "source": [
        "emissions.head()"
      ],
      "metadata": {
        "colab": {
          "base_uri": "https://localhost:8080/",
          "height": 342
        },
        "id": "Aiw_BJYvJnph",
        "outputId": "d7f57810-a33e-4110-b41d-c23c6815f187"
      },
      "execution_count": 73,
      "outputs": [
        {
          "output_type": "execute_result",
          "data": {
            "text/plain": [
              "   source_id          source_name source_type         sector subsector  \\\n",
              "0   18657080  Beočin cement plant         Dry  manufacturing    cement   \n",
              "1   18657080  Beočin cement plant         Dry  manufacturing    cement   \n",
              "2   18657080  Beočin cement plant         Dry  manufacturing    cement   \n",
              "3   18657080  Beočin cement plant         Dry  manufacturing    cement   \n",
              "4   18657080  Beočin cement plant         Dry  manufacturing    cement   \n",
              "\n",
              "         lat        lon               geometry_ref         gas  \\\n",
              "0  45.207937  19.707231  trace_19.707231_45.207937         ch4   \n",
              "1  45.207937  19.707231  trace_19.707231_45.207937         co2   \n",
              "2  45.207937  19.707231  trace_19.707231_45.207937  co2e_100yr   \n",
              "3  45.207937  19.707231  trace_19.707231_45.207937   co2e_20yr   \n",
              "4  45.207937  19.707231  trace_19.707231_45.207937         n2o   \n",
              "\n",
              "   emissions_quantity  ...    GID_1       NAME_1   NL_NAME_1  NAME_2  \\\n",
              "0                 NaN  ...  SRB.5_1  Južno-Bački  Јужнобачки  Beočin   \n",
              "1                 0.0  ...  SRB.5_1  Južno-Bački  Јужнобачки  Beočin   \n",
              "2                 0.0  ...  SRB.5_1  Južno-Bački  Јужнобачки  Beočin   \n",
              "3                 0.0  ...  SRB.5_1  Južno-Bački  Јужнобачки  Beočin   \n",
              "4                 NaN  ...  SRB.5_1  Južno-Bački  Јужнобачки  Beočin   \n",
              "\n",
              "  VARNAME_2 NL_NAME_2   TYPE_2       ENGTYPE_2 CC_2 HASC_2  \n",
              "0        NA    Беочин  Opštine  Town|Municipal   NA     NA  \n",
              "1        NA    Беочин  Opštine  Town|Municipal   NA     NA  \n",
              "2        NA    Беочин  Opštine  Town|Municipal   NA     NA  \n",
              "3        NA    Беочин  Opštine  Town|Municipal   NA     NA  \n",
              "4        NA    Беочин  Opštine  Town|Municipal   NA     NA  \n",
              "\n",
              "[5 rows x 27 columns]"
            ],
            "text/html": [
              "\n",
              "  <div id=\"df-f4e8e5ee-a1b4-45f4-9766-8599f2f0c801\" class=\"colab-df-container\">\n",
              "    <div>\n",
              "<style scoped>\n",
              "    .dataframe tbody tr th:only-of-type {\n",
              "        vertical-align: middle;\n",
              "    }\n",
              "\n",
              "    .dataframe tbody tr th {\n",
              "        vertical-align: top;\n",
              "    }\n",
              "\n",
              "    .dataframe thead th {\n",
              "        text-align: right;\n",
              "    }\n",
              "</style>\n",
              "<table border=\"1\" class=\"dataframe\">\n",
              "  <thead>\n",
              "    <tr style=\"text-align: right;\">\n",
              "      <th></th>\n",
              "      <th>source_id</th>\n",
              "      <th>source_name</th>\n",
              "      <th>source_type</th>\n",
              "      <th>sector</th>\n",
              "      <th>subsector</th>\n",
              "      <th>lat</th>\n",
              "      <th>lon</th>\n",
              "      <th>geometry_ref</th>\n",
              "      <th>gas</th>\n",
              "      <th>emissions_quantity</th>\n",
              "      <th>...</th>\n",
              "      <th>GID_1</th>\n",
              "      <th>NAME_1</th>\n",
              "      <th>NL_NAME_1</th>\n",
              "      <th>NAME_2</th>\n",
              "      <th>VARNAME_2</th>\n",
              "      <th>NL_NAME_2</th>\n",
              "      <th>TYPE_2</th>\n",
              "      <th>ENGTYPE_2</th>\n",
              "      <th>CC_2</th>\n",
              "      <th>HASC_2</th>\n",
              "    </tr>\n",
              "  </thead>\n",
              "  <tbody>\n",
              "    <tr>\n",
              "      <th>0</th>\n",
              "      <td>18657080</td>\n",
              "      <td>Beočin cement plant</td>\n",
              "      <td>Dry</td>\n",
              "      <td>manufacturing</td>\n",
              "      <td>cement</td>\n",
              "      <td>45.207937</td>\n",
              "      <td>19.707231</td>\n",
              "      <td>trace_19.707231_45.207937</td>\n",
              "      <td>ch4</td>\n",
              "      <td>NaN</td>\n",
              "      <td>...</td>\n",
              "      <td>SRB.5_1</td>\n",
              "      <td>Južno-Bački</td>\n",
              "      <td>Јужнобачки</td>\n",
              "      <td>Beočin</td>\n",
              "      <td>NA</td>\n",
              "      <td>Беочин</td>\n",
              "      <td>Opštine</td>\n",
              "      <td>Town|Municipal</td>\n",
              "      <td>NA</td>\n",
              "      <td>NA</td>\n",
              "    </tr>\n",
              "    <tr>\n",
              "      <th>1</th>\n",
              "      <td>18657080</td>\n",
              "      <td>Beočin cement plant</td>\n",
              "      <td>Dry</td>\n",
              "      <td>manufacturing</td>\n",
              "      <td>cement</td>\n",
              "      <td>45.207937</td>\n",
              "      <td>19.707231</td>\n",
              "      <td>trace_19.707231_45.207937</td>\n",
              "      <td>co2</td>\n",
              "      <td>0.0</td>\n",
              "      <td>...</td>\n",
              "      <td>SRB.5_1</td>\n",
              "      <td>Južno-Bački</td>\n",
              "      <td>Јужнобачки</td>\n",
              "      <td>Beočin</td>\n",
              "      <td>NA</td>\n",
              "      <td>Беочин</td>\n",
              "      <td>Opštine</td>\n",
              "      <td>Town|Municipal</td>\n",
              "      <td>NA</td>\n",
              "      <td>NA</td>\n",
              "    </tr>\n",
              "    <tr>\n",
              "      <th>2</th>\n",
              "      <td>18657080</td>\n",
              "      <td>Beočin cement plant</td>\n",
              "      <td>Dry</td>\n",
              "      <td>manufacturing</td>\n",
              "      <td>cement</td>\n",
              "      <td>45.207937</td>\n",
              "      <td>19.707231</td>\n",
              "      <td>trace_19.707231_45.207937</td>\n",
              "      <td>co2e_100yr</td>\n",
              "      <td>0.0</td>\n",
              "      <td>...</td>\n",
              "      <td>SRB.5_1</td>\n",
              "      <td>Južno-Bački</td>\n",
              "      <td>Јужнобачки</td>\n",
              "      <td>Beočin</td>\n",
              "      <td>NA</td>\n",
              "      <td>Беочин</td>\n",
              "      <td>Opštine</td>\n",
              "      <td>Town|Municipal</td>\n",
              "      <td>NA</td>\n",
              "      <td>NA</td>\n",
              "    </tr>\n",
              "    <tr>\n",
              "      <th>3</th>\n",
              "      <td>18657080</td>\n",
              "      <td>Beočin cement plant</td>\n",
              "      <td>Dry</td>\n",
              "      <td>manufacturing</td>\n",
              "      <td>cement</td>\n",
              "      <td>45.207937</td>\n",
              "      <td>19.707231</td>\n",
              "      <td>trace_19.707231_45.207937</td>\n",
              "      <td>co2e_20yr</td>\n",
              "      <td>0.0</td>\n",
              "      <td>...</td>\n",
              "      <td>SRB.5_1</td>\n",
              "      <td>Južno-Bački</td>\n",
              "      <td>Јужнобачки</td>\n",
              "      <td>Beočin</td>\n",
              "      <td>NA</td>\n",
              "      <td>Беочин</td>\n",
              "      <td>Opštine</td>\n",
              "      <td>Town|Municipal</td>\n",
              "      <td>NA</td>\n",
              "      <td>NA</td>\n",
              "    </tr>\n",
              "    <tr>\n",
              "      <th>4</th>\n",
              "      <td>18657080</td>\n",
              "      <td>Beočin cement plant</td>\n",
              "      <td>Dry</td>\n",
              "      <td>manufacturing</td>\n",
              "      <td>cement</td>\n",
              "      <td>45.207937</td>\n",
              "      <td>19.707231</td>\n",
              "      <td>trace_19.707231_45.207937</td>\n",
              "      <td>n2o</td>\n",
              "      <td>NaN</td>\n",
              "      <td>...</td>\n",
              "      <td>SRB.5_1</td>\n",
              "      <td>Južno-Bački</td>\n",
              "      <td>Јужнобачки</td>\n",
              "      <td>Beočin</td>\n",
              "      <td>NA</td>\n",
              "      <td>Беочин</td>\n",
              "      <td>Opštine</td>\n",
              "      <td>Town|Municipal</td>\n",
              "      <td>NA</td>\n",
              "      <td>NA</td>\n",
              "    </tr>\n",
              "  </tbody>\n",
              "</table>\n",
              "<p>5 rows × 27 columns</p>\n",
              "</div>\n",
              "    <div class=\"colab-df-buttons\">\n",
              "\n",
              "  <div class=\"colab-df-container\">\n",
              "    <button class=\"colab-df-convert\" onclick=\"convertToInteractive('df-f4e8e5ee-a1b4-45f4-9766-8599f2f0c801')\"\n",
              "            title=\"Convert this dataframe to an interactive table.\"\n",
              "            style=\"display:none;\">\n",
              "\n",
              "  <svg xmlns=\"http://www.w3.org/2000/svg\" height=\"24px\" viewBox=\"0 -960 960 960\">\n",
              "    <path d=\"M120-120v-720h720v720H120Zm60-500h600v-160H180v160Zm220 220h160v-160H400v160Zm0 220h160v-160H400v160ZM180-400h160v-160H180v160Zm440 0h160v-160H620v160ZM180-180h160v-160H180v160Zm440 0h160v-160H620v160Z\"/>\n",
              "  </svg>\n",
              "    </button>\n",
              "\n",
              "  <style>\n",
              "    .colab-df-container {\n",
              "      display:flex;\n",
              "      gap: 12px;\n",
              "    }\n",
              "\n",
              "    .colab-df-convert {\n",
              "      background-color: #E8F0FE;\n",
              "      border: none;\n",
              "      border-radius: 50%;\n",
              "      cursor: pointer;\n",
              "      display: none;\n",
              "      fill: #1967D2;\n",
              "      height: 32px;\n",
              "      padding: 0 0 0 0;\n",
              "      width: 32px;\n",
              "    }\n",
              "\n",
              "    .colab-df-convert:hover {\n",
              "      background-color: #E2EBFA;\n",
              "      box-shadow: 0px 1px 2px rgba(60, 64, 67, 0.3), 0px 1px 3px 1px rgba(60, 64, 67, 0.15);\n",
              "      fill: #174EA6;\n",
              "    }\n",
              "\n",
              "    .colab-df-buttons div {\n",
              "      margin-bottom: 4px;\n",
              "    }\n",
              "\n",
              "    [theme=dark] .colab-df-convert {\n",
              "      background-color: #3B4455;\n",
              "      fill: #D2E3FC;\n",
              "    }\n",
              "\n",
              "    [theme=dark] .colab-df-convert:hover {\n",
              "      background-color: #434B5C;\n",
              "      box-shadow: 0px 1px 3px 1px rgba(0, 0, 0, 0.15);\n",
              "      filter: drop-shadow(0px 1px 2px rgba(0, 0, 0, 0.3));\n",
              "      fill: #FFFFFF;\n",
              "    }\n",
              "  </style>\n",
              "\n",
              "    <script>\n",
              "      const buttonEl =\n",
              "        document.querySelector('#df-f4e8e5ee-a1b4-45f4-9766-8599f2f0c801 button.colab-df-convert');\n",
              "      buttonEl.style.display =\n",
              "        google.colab.kernel.accessAllowed ? 'block' : 'none';\n",
              "\n",
              "      async function convertToInteractive(key) {\n",
              "        const element = document.querySelector('#df-f4e8e5ee-a1b4-45f4-9766-8599f2f0c801');\n",
              "        const dataTable =\n",
              "          await google.colab.kernel.invokeFunction('convertToInteractive',\n",
              "                                                    [key], {});\n",
              "        if (!dataTable) return;\n",
              "\n",
              "        const docLinkHtml = 'Like what you see? Visit the ' +\n",
              "          '<a target=\"_blank\" href=https://colab.research.google.com/notebooks/data_table.ipynb>data table notebook</a>'\n",
              "          + ' to learn more about interactive tables.';\n",
              "        element.innerHTML = '';\n",
              "        dataTable['output_type'] = 'display_data';\n",
              "        await google.colab.output.renderOutput(dataTable, element);\n",
              "        const docLink = document.createElement('div');\n",
              "        docLink.innerHTML = docLinkHtml;\n",
              "        element.appendChild(docLink);\n",
              "      }\n",
              "    </script>\n",
              "  </div>\n",
              "\n",
              "\n",
              "<div id=\"df-5168752d-5fad-4bd7-b998-ad2c024fc7ac\">\n",
              "  <button class=\"colab-df-quickchart\" onclick=\"quickchart('df-5168752d-5fad-4bd7-b998-ad2c024fc7ac')\"\n",
              "            title=\"Suggest charts\"\n",
              "            style=\"display:none;\">\n",
              "\n",
              "<svg xmlns=\"http://www.w3.org/2000/svg\" height=\"24px\"viewBox=\"0 0 24 24\"\n",
              "     width=\"24px\">\n",
              "    <g>\n",
              "        <path d=\"M19 3H5c-1.1 0-2 .9-2 2v14c0 1.1.9 2 2 2h14c1.1 0 2-.9 2-2V5c0-1.1-.9-2-2-2zM9 17H7v-7h2v7zm4 0h-2V7h2v10zm4 0h-2v-4h2v4z\"/>\n",
              "    </g>\n",
              "</svg>\n",
              "  </button>\n",
              "\n",
              "<style>\n",
              "  .colab-df-quickchart {\n",
              "      --bg-color: #E8F0FE;\n",
              "      --fill-color: #1967D2;\n",
              "      --hover-bg-color: #E2EBFA;\n",
              "      --hover-fill-color: #174EA6;\n",
              "      --disabled-fill-color: #AAA;\n",
              "      --disabled-bg-color: #DDD;\n",
              "  }\n",
              "\n",
              "  [theme=dark] .colab-df-quickchart {\n",
              "      --bg-color: #3B4455;\n",
              "      --fill-color: #D2E3FC;\n",
              "      --hover-bg-color: #434B5C;\n",
              "      --hover-fill-color: #FFFFFF;\n",
              "      --disabled-bg-color: #3B4455;\n",
              "      --disabled-fill-color: #666;\n",
              "  }\n",
              "\n",
              "  .colab-df-quickchart {\n",
              "    background-color: var(--bg-color);\n",
              "    border: none;\n",
              "    border-radius: 50%;\n",
              "    cursor: pointer;\n",
              "    display: none;\n",
              "    fill: var(--fill-color);\n",
              "    height: 32px;\n",
              "    padding: 0;\n",
              "    width: 32px;\n",
              "  }\n",
              "\n",
              "  .colab-df-quickchart:hover {\n",
              "    background-color: var(--hover-bg-color);\n",
              "    box-shadow: 0 1px 2px rgba(60, 64, 67, 0.3), 0 1px 3px 1px rgba(60, 64, 67, 0.15);\n",
              "    fill: var(--button-hover-fill-color);\n",
              "  }\n",
              "\n",
              "  .colab-df-quickchart-complete:disabled,\n",
              "  .colab-df-quickchart-complete:disabled:hover {\n",
              "    background-color: var(--disabled-bg-color);\n",
              "    fill: var(--disabled-fill-color);\n",
              "    box-shadow: none;\n",
              "  }\n",
              "\n",
              "  .colab-df-spinner {\n",
              "    border: 2px solid var(--fill-color);\n",
              "    border-color: transparent;\n",
              "    border-bottom-color: var(--fill-color);\n",
              "    animation:\n",
              "      spin 1s steps(1) infinite;\n",
              "  }\n",
              "\n",
              "  @keyframes spin {\n",
              "    0% {\n",
              "      border-color: transparent;\n",
              "      border-bottom-color: var(--fill-color);\n",
              "      border-left-color: var(--fill-color);\n",
              "    }\n",
              "    20% {\n",
              "      border-color: transparent;\n",
              "      border-left-color: var(--fill-color);\n",
              "      border-top-color: var(--fill-color);\n",
              "    }\n",
              "    30% {\n",
              "      border-color: transparent;\n",
              "      border-left-color: var(--fill-color);\n",
              "      border-top-color: var(--fill-color);\n",
              "      border-right-color: var(--fill-color);\n",
              "    }\n",
              "    40% {\n",
              "      border-color: transparent;\n",
              "      border-right-color: var(--fill-color);\n",
              "      border-top-color: var(--fill-color);\n",
              "    }\n",
              "    60% {\n",
              "      border-color: transparent;\n",
              "      border-right-color: var(--fill-color);\n",
              "    }\n",
              "    80% {\n",
              "      border-color: transparent;\n",
              "      border-right-color: var(--fill-color);\n",
              "      border-bottom-color: var(--fill-color);\n",
              "    }\n",
              "    90% {\n",
              "      border-color: transparent;\n",
              "      border-bottom-color: var(--fill-color);\n",
              "    }\n",
              "  }\n",
              "</style>\n",
              "\n",
              "  <script>\n",
              "    async function quickchart(key) {\n",
              "      const quickchartButtonEl =\n",
              "        document.querySelector('#' + key + ' button');\n",
              "      quickchartButtonEl.disabled = true;  // To prevent multiple clicks.\n",
              "      quickchartButtonEl.classList.add('colab-df-spinner');\n",
              "      try {\n",
              "        const charts = await google.colab.kernel.invokeFunction(\n",
              "            'suggestCharts', [key], {});\n",
              "      } catch (error) {\n",
              "        console.error('Error during call to suggestCharts:', error);\n",
              "      }\n",
              "      quickchartButtonEl.classList.remove('colab-df-spinner');\n",
              "      quickchartButtonEl.classList.add('colab-df-quickchart-complete');\n",
              "    }\n",
              "    (() => {\n",
              "      let quickchartButtonEl =\n",
              "        document.querySelector('#df-5168752d-5fad-4bd7-b998-ad2c024fc7ac button');\n",
              "      quickchartButtonEl.style.display =\n",
              "        google.colab.kernel.accessAllowed ? 'block' : 'none';\n",
              "    })();\n",
              "  </script>\n",
              "</div>\n",
              "\n",
              "    </div>\n",
              "  </div>\n"
            ],
            "application/vnd.google.colaboratory.intrinsic+json": {
              "type": "dataframe",
              "variable_name": "emissions"
            }
          },
          "metadata": {},
          "execution_count": 73
        }
      ]
    },
    {
      "cell_type": "code",
      "source": [
        "grouped_emissions = emissions.groupby(['GID_2', 'NAME_2', 'gas']).agg({\n",
        "    'emissions_quantity': 'sum',        # Sum of the 'Sales' column\n",
        "    'emissions_factor': 'mean'     # Average of the 'Quantity' column\n",
        "})"
      ],
      "metadata": {
        "id": "tUxVVAjSJ1-x"
      },
      "execution_count": 77,
      "outputs": []
    },
    {
      "cell_type": "code",
      "source": [
        "grouped_emissions = grouped_emissions.reset_index()\n",
        "#len(grouped_emissions)"
      ],
      "metadata": {
        "id": "hVY9kwoWKZZi"
      },
      "execution_count": 79,
      "outputs": []
    },
    {
      "cell_type": "code",
      "source": [
        "#Save the HealthCare Facilities in Serbia CSV file\n",
        "from io import BytesIO\n",
        "\n",
        "# Convert DataFrame to CSV in memory\n",
        "csv_buffer = BytesIO()\n",
        "grouped_emissions.to_csv(csv_buffer, index=False)\n",
        "\n",
        "# Move the buffer's position to the beginning\n",
        "csv_buffer.seek(0)\n",
        "\n",
        "def upload_csv_to_gcs(bucket_name, destination_blob_name, file_buffer):\n",
        "    \"\"\"Uploads a file from a buffer to Google Cloud Storage.\"\"\"\n",
        "    storage_client = storage.Client()\n",
        "    bucket = storage_client.bucket(bucket_name)\n",
        "    blob = bucket.blob(destination_blob_name)\n",
        "\n",
        "    # Upload the file-like object (buffer)\n",
        "    blob.upload_from_file(file_buffer, content_type='text/csv')\n",
        "    print(f\"File uploaded to {destination_blob_name}.\")\n",
        "\n",
        "# Define your GCS bucket name and destination path\n",
        "destination_blob_name = 'RS/processed-data/SRB_emissions-all-sources.csv'\n",
        "\n",
        "# Upload the CSV from the buffer directly\n",
        "upload_csv_to_gcs(bucket_name, destination_blob_name, csv_buffer)"
      ],
      "metadata": {
        "colab": {
          "base_uri": "https://localhost:8080/"
        },
        "id": "Z_vcAdjpW58U",
        "outputId": "bbad24b7-b9ba-4027-c9ff-f88f51586482"
      },
      "execution_count": 82,
      "outputs": [
        {
          "output_type": "stream",
          "name": "stdout",
          "text": [
            "File uploaded to RS/processed-data/SRB_emissions-all-sources.csv.\n"
          ]
        }
      ]
    },
    {
      "cell_type": "code",
      "source": [
        "grouped_emissions = emissions.groupby(['GID_2', 'NAME_2', 'gas', 'sector']).agg({\n",
        "    'emissions_quantity': 'sum',        # Sum of the 'Sales' column\n",
        "    'emissions_factor': 'mean'     # Average of the 'Quantity' column\n",
        "})"
      ],
      "metadata": {
        "id": "VNwjVmeEfsP2"
      },
      "execution_count": 83,
      "outputs": []
    },
    {
      "cell_type": "code",
      "source": [
        "grouped_emissions = grouped_emissions.reset_index()"
      ],
      "metadata": {
        "id": "9yKg386Hft4q"
      },
      "execution_count": 85,
      "outputs": []
    },
    {
      "cell_type": "code",
      "source": [
        "#Save the HealthCare Facilities in Serbia CSV file\n",
        "from io import BytesIO\n",
        "\n",
        "# Convert DataFrame to CSV in memory\n",
        "csv_buffer = BytesIO()\n",
        "grouped_emissions.to_csv(csv_buffer, index=False)\n",
        "\n",
        "# Move the buffer's position to the beginning\n",
        "csv_buffer.seek(0)\n",
        "\n",
        "def upload_csv_to_gcs(bucket_name, destination_blob_name, file_buffer):\n",
        "    \"\"\"Uploads a file from a buffer to Google Cloud Storage.\"\"\"\n",
        "    storage_client = storage.Client()\n",
        "    bucket = storage_client.bucket(bucket_name)\n",
        "    blob = bucket.blob(destination_blob_name)\n",
        "\n",
        "    # Upload the file-like object (buffer)\n",
        "    blob.upload_from_file(file_buffer, content_type='text/csv')\n",
        "    print(f\"File uploaded to {destination_blob_name}.\")\n",
        "\n",
        "# Define your GCS bucket name and destination path\n",
        "destination_blob_name = 'RS/processed-data/SRB_emissions-per-sector-all-sources.csv'\n",
        "\n",
        "# Upload the CSV from the buffer directly\n",
        "upload_csv_to_gcs(bucket_name, destination_blob_name, csv_buffer)"
      ],
      "metadata": {
        "colab": {
          "base_uri": "https://localhost:8080/"
        },
        "id": "XVe1yH2WfvC7",
        "outputId": "63fac1d1-aef0-4acc-bc8d-2061ef2d1f28"
      },
      "execution_count": 89,
      "outputs": [
        {
          "output_type": "stream",
          "name": "stdout",
          "text": [
            "File uploaded to RS/processed-data/SRB_emissions-per-sector-all-sources.csv.\n"
          ]
        }
      ]
    },
    {
      "cell_type": "code",
      "source": [],
      "metadata": {
        "id": "raClnZbvfzph"
      },
      "execution_count": null,
      "outputs": []
    }
  ]
}
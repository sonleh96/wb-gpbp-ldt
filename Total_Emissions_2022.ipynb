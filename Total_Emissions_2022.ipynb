{
  "nbformat": 4,
  "nbformat_minor": 0,
  "metadata": {
    "colab": {
      "provenance": [],
      "authorship_tag": "ABX9TyNfDHeqrrJZKm/o2k+Mna7y",
      "include_colab_link": true
    },
    "kernelspec": {
      "name": "python3",
      "display_name": "Python 3"
    },
    "language_info": {
      "name": "python"
    }
  },
  "cells": [
    {
      "cell_type": "markdown",
      "metadata": {
        "id": "view-in-github",
        "colab_type": "text"
      },
      "source": [
        "<a href=\"https://colab.research.google.com/github/sonleh96/wb-gpbp-ldt/blob/dev-ghinwa/Total_Emissions_2022.ipynb\" target=\"_parent\"><img src=\"https://colab.research.google.com/assets/colab-badge.svg\" alt=\"Open In Colab\"/></a>"
      ]
    },
    {
      "cell_type": "code",
      "source": [
        "#Libraries Needed\n",
        "import geopandas as gpd\n",
        "import pandas as pd\n",
        "from google.cloud import storage\n",
        "from io import StringIO\n",
        "\n",
        "from shapely.geometry import Point"
      ],
      "metadata": {
        "id": "berhV9H1_WJb"
      },
      "execution_count": 20,
      "outputs": []
    },
    {
      "cell_type": "code",
      "source": [
        "from google.colab import auth\n",
        "auth.authenticate_user()"
      ],
      "metadata": {
        "id": "b7fwp7vp_V7p"
      },
      "execution_count": 21,
      "outputs": []
    },
    {
      "cell_type": "code",
      "execution_count": 22,
      "metadata": {
        "id": "tuOLWEWs-POb"
      },
      "outputs": [],
      "source": [
        "# Create a client\n",
        "client = storage.Client()\n",
        "\n",
        "# Access the Google Cloud Storage bucket\n",
        "bucket_name = 'wb-ldt'\n",
        "bucket = client.get_bucket(bucket_name)\n",
        "\n",
        "# Define the folder path in the bucket (ensure it ends with '/')\n",
        "folder_path = 'RS/raw-data/geospatial/climate-trace-emissions/filtered_emissions_data/'"
      ]
    },
    {
      "cell_type": "markdown",
      "source": [
        "**Download Emissions Data**"
      ],
      "metadata": {
        "id": "YwJ41J5FI0pT"
      }
    },
    {
      "cell_type": "code",
      "source": [
        "files = list()\n",
        "\n",
        "blobs = bucket.list_blobs(prefix=folder_path)\n",
        "for i, blob in enumerate(blobs):\n",
        "  if i == 0:\n",
        "    continue  # Skip iteration when i == 1\n",
        "\n",
        "  else:\n",
        "    files.append(blob.name)"
      ],
      "metadata": {
        "id": "hP4ZfqvoDZJt"
      },
      "execution_count": 23,
      "outputs": []
    },
    {
      "cell_type": "code",
      "source": [
        "# List and read files into DataFrames\n",
        "blobs = bucket.list_blobs(prefix=folder_path)\n",
        "\n",
        "# Initialize an empty list to hold DataFrames\n",
        "df_list = []\n",
        "\n",
        "# Iterate through the blobs\n",
        "for i, blob in enumerate(blobs):\n",
        "    # Skip the first file, if needed\n",
        "    if i == 0:\n",
        "        continue\n",
        "    else:\n",
        "        # Read the content of the blob (assuming it's a CSV file)\n",
        "        blob_content = blob.download_as_text()  # Download content as a string\n",
        "\n",
        "        # Convert the content into a DataFrame\n",
        "        df = pd.read_csv(StringIO(blob_content))\n",
        "\n",
        "        # Append the DataFrame to the list\n",
        "        df_list.append(df)\n",
        "        print(f\"Read {blob.name} into a DataFrame\")\n",
        "\n",
        "# Concatenate all DataFrames into a single DataFrame\n",
        "final_df = pd.concat(df_list, ignore_index=True)\n",
        "final_df_cleaned = final_df.drop_duplicates()"
      ],
      "metadata": {
        "colab": {
          "base_uri": "https://localhost:8080/"
        },
        "id": "ncKzgh4oDw-T",
        "outputId": "a8551cc6-db34-4c43-8599-a6448b4e854e"
      },
      "execution_count": 24,
      "outputs": [
        {
          "output_type": "stream",
          "name": "stdout",
          "text": [
            "Read RS/raw-data/geospatial/climate-trace-emissions/filtered_emissions_data/cement_emissions_sources.csv into a DataFrame\n",
            "Read RS/raw-data/geospatial/climate-trace-emissions/filtered_emissions_data/coal-mining_emissions_sources.csv into a DataFrame\n",
            "Read RS/raw-data/geospatial/climate-trace-emissions/filtered_emissions_data/copper-mining_emissions_sources.csv into a DataFrame\n",
            "Read RS/raw-data/geospatial/climate-trace-emissions/filtered_emissions_data/cropland-fires_emissions_sources.csv into a DataFrame\n",
            "Read RS/raw-data/geospatial/climate-trace-emissions/filtered_emissions_data/domestic-aviation_emissions_sources.csv into a DataFrame\n",
            "Read RS/raw-data/geospatial/climate-trace-emissions/filtered_emissions_data/domestic-shipping_emissions_sources.csv into a DataFrame\n",
            "Read RS/raw-data/geospatial/climate-trace-emissions/filtered_emissions_data/electricity-generation_emissions_sources.csv into a DataFrame\n",
            "Read RS/raw-data/geospatial/climate-trace-emissions/filtered_emissions_data/enteric-fermentation-cattle-pasture_emissions_sources.csv into a DataFrame\n",
            "Read RS/raw-data/geospatial/climate-trace-emissions/filtered_emissions_data/forest-land-clearing_emissions_sources.csv into a DataFrame\n",
            "Read RS/raw-data/geospatial/climate-trace-emissions/filtered_emissions_data/forest-land-degradation_emissions_sources.csv into a DataFrame\n",
            "Read RS/raw-data/geospatial/climate-trace-emissions/filtered_emissions_data/forest-land-fires_emissions_sources.csv into a DataFrame\n",
            "Read RS/raw-data/geospatial/climate-trace-emissions/filtered_emissions_data/international-aviation_emissions_sources.csv into a DataFrame\n",
            "Read RS/raw-data/geospatial/climate-trace-emissions/filtered_emissions_data/international-shipping_emissions_sources.csv into a DataFrame\n",
            "Read RS/raw-data/geospatial/climate-trace-emissions/filtered_emissions_data/manure-left-on-pasture-cattle_emissions_sources.csv into a DataFrame\n",
            "Read RS/raw-data/geospatial/climate-trace-emissions/filtered_emissions_data/net-forest-land_emissions_sources.csv into a DataFrame\n",
            "Read RS/raw-data/geospatial/climate-trace-emissions/filtered_emissions_data/net-shrubgrass_emissions_sources.csv into a DataFrame\n",
            "Read RS/raw-data/geospatial/climate-trace-emissions/filtered_emissions_data/net-wetland_emissions_sources.csv into a DataFrame\n",
            "Read RS/raw-data/geospatial/climate-trace-emissions/filtered_emissions_data/oil-and-gas-production-and-transport_emissions_sources.csv into a DataFrame\n",
            "Read RS/raw-data/geospatial/climate-trace-emissions/filtered_emissions_data/removals_emissions_sources.csv into a DataFrame\n",
            "Read RS/raw-data/geospatial/climate-trace-emissions/filtered_emissions_data/road-transportation_emissions_sources.csv into a DataFrame\n",
            "Read RS/raw-data/geospatial/climate-trace-emissions/filtered_emissions_data/shrubgrass-fires_emissions_sources.csv into a DataFrame\n",
            "Read RS/raw-data/geospatial/climate-trace-emissions/filtered_emissions_data/solid-waste-disposal_emissions_sources.csv into a DataFrame\n",
            "Read RS/raw-data/geospatial/climate-trace-emissions/filtered_emissions_data/steel_emissions_sources.csv into a DataFrame\n",
            "Read RS/raw-data/geospatial/climate-trace-emissions/filtered_emissions_data/synthetic-fertilizer-application_emissions_sources.csv into a DataFrame\n",
            "Read RS/raw-data/geospatial/climate-trace-emissions/filtered_emissions_data/wastewater-treatment-and-discharge_emissions_sources.csv into a DataFrame\n",
            "Read RS/raw-data/geospatial/climate-trace-emissions/filtered_emissions_data/water-reservoirs_emissions_sources.csv into a DataFrame\n",
            "Read RS/raw-data/geospatial/climate-trace-emissions/filtered_emissions_data/wetland-fires_emissions_sources.csv into a DataFrame\n"
          ]
        }
      ]
    },
    {
      "cell_type": "code",
      "source": [
        "# Assuming 'date_column' is the column you want to convert\n",
        "final_df_cleaned['start_time'] = pd.to_datetime(final_df_cleaned['start_time'], errors='coerce')\n",
        "\n",
        "# Now filter for rows where the year is 2022\n",
        "final_df = final_df_cleaned[(final_df_cleaned['start_time'].dt.year == 2022) & (final_df_cleaned['gas'] == 'co2e_20yr')]\n",
        "final_df = final_df[['source_id', 'source_name', 'source_type', 'sector', 'subsector', 'lat', 'lon', 'geometry_ref', 'gas', 'emissions_quantity', 'emissions_factor', 'emissions_factor_units']]"
      ],
      "metadata": {
        "id": "xYO7DmOzAPEz"
      },
      "execution_count": 25,
      "outputs": []
    },
    {
      "cell_type": "code",
      "source": [
        "len(final_df_cleaned)"
      ],
      "metadata": {
        "colab": {
          "base_uri": "https://localhost:8080/"
        },
        "id": "SegYbwq0yC-F",
        "outputId": "fa00fdcf-5c2f-4f8f-86c0-d641419c43f8"
      },
      "execution_count": 26,
      "outputs": [
        {
          "output_type": "execute_result",
          "data": {
            "text/plain": [
              "96530"
            ]
          },
          "metadata": {},
          "execution_count": 26
        }
      ]
    },
    {
      "cell_type": "code",
      "source": [
        "# Display the filtered DataFrame\n",
        "len(final_df)"
      ],
      "metadata": {
        "colab": {
          "base_uri": "https://localhost:8080/"
        },
        "id": "FcEEd0VtxNwG",
        "outputId": "b26736db-7ed0-4160-bb74-e419e70bb6f8"
      },
      "execution_count": 27,
      "outputs": [
        {
          "output_type": "execute_result",
          "data": {
            "text/plain": [
              "2594"
            ]
          },
          "metadata": {},
          "execution_count": 27
        }
      ]
    },
    {
      "cell_type": "code",
      "source": [
        "# Convert the DataFrame into a GeoDataFrame using lat and lon columns\n",
        "final_df['geometry'] = final_df.apply(lambda row: Point((row['lon'], row['lat'])), axis=1)\n",
        "\n",
        "# Define the GeoDataFrame with a coordinate reference system (CRS) such as WGS84 (EPSG:4326)\n",
        "final_df = gpd.GeoDataFrame(final_df, geometry='geometry', crs=\"EPSG:4326\")"
      ],
      "metadata": {
        "id": "rX97E-hXEvKj"
      },
      "execution_count": 28,
      "outputs": []
    },
    {
      "cell_type": "markdown",
      "source": [
        "**Serbia Shape File**"
      ],
      "metadata": {
        "id": "43ciDhvkI3SN"
      }
    },
    {
      "cell_type": "code",
      "source": [
        "#Name of Shape File\n",
        "file_path = \"shapefiles/gadm41_SRB_2.json\"\n",
        "gcs_file_path = 'gs://' + bucket_name + '/' + file_path\n",
        "\n",
        "#Read Shape File --> The shape file gives a MultiPolygon Geometry Column\n",
        "gdf = gpd.read_file(gcs_file_path)\n",
        "\n",
        "#Adjust for GeoSpatial Data\n",
        "center = gpd.GeoDataFrame(gdf[['GID_2', 'NAME_2']])\n",
        "\n",
        "#Change the MultiPolygon Geometry Column to make it more useful\n",
        "center['geometry'] = gdf.centroid\n",
        "center = center.to_crs(gdf.crs)\n",
        "center['lat'] = center.geometry.y\n",
        "center['lon'] = center.geometry.x"
      ],
      "metadata": {
        "colab": {
          "base_uri": "https://localhost:8080/"
        },
        "id": "VXgF_jgMFLaE",
        "outputId": "0aa362f0-7192-4cf0-e01b-757c46b552c0"
      },
      "execution_count": 29,
      "outputs": [
        {
          "output_type": "stream",
          "name": "stderr",
          "text": [
            "<ipython-input-29-4b176a84641e>:12: UserWarning: Geometry is in a geographic CRS. Results from 'centroid' are likely incorrect. Use 'GeoSeries.to_crs()' to re-project geometries to a projected CRS before this operation.\n",
            "\n",
            "  center['geometry'] = gdf.centroid\n",
            "<ipython-input-29-4b176a84641e>:12: FutureWarning: You are adding a column named 'geometry' to a GeoDataFrame constructed without an active geometry column. Currently, this automatically sets the active geometry column to 'geometry' but in the future that will no longer happen. Instead, either provide geometry to the GeoDataFrame constructor (GeoDataFrame(... geometry=GeoSeries()) or use `set_geometry('geometry')` to explicitly set the active geometry column.\n",
            "  center['geometry'] = gdf.centroid\n"
          ]
        }
      ]
    },
    {
      "cell_type": "code",
      "source": [
        "emissions = gpd.sjoin(final_df, gdf, predicate = 'within',\n",
        "                      how = 'inner')"
      ],
      "metadata": {
        "id": "EQxhljEmI9jD"
      },
      "execution_count": 30,
      "outputs": []
    },
    {
      "cell_type": "code",
      "source": [
        "grouped_emissions = emissions.groupby(['GID_2', 'NAME_2', 'gas']).agg({\n",
        "    'emissions_quantity': 'sum',        # Sum of the 'Sales' column\n",
        "    'emissions_factor': 'mean'     # Average of the 'Quantity' column\n",
        "})"
      ],
      "metadata": {
        "id": "tUxVVAjSJ1-x"
      },
      "execution_count": 31,
      "outputs": []
    },
    {
      "cell_type": "code",
      "source": [
        "grouped_emissions = grouped_emissions.reset_index()\n",
        "#len(grouped_emissions)"
      ],
      "metadata": {
        "id": "hVY9kwoWKZZi"
      },
      "execution_count": 32,
      "outputs": []
    },
    {
      "cell_type": "code",
      "source": [
        "#Save the HealthCare Facilities in Serbia CSV file\n",
        "from io import BytesIO\n",
        "\n",
        "# Convert DataFrame to CSV in memory\n",
        "csv_buffer = BytesIO()\n",
        "grouped_emissions.to_csv(csv_buffer, index=False)\n",
        "\n",
        "# Move the buffer's position to the beginning\n",
        "csv_buffer.seek(0)\n",
        "\n",
        "def upload_csv_to_gcs(bucket_name, destination_blob_name, file_buffer):\n",
        "    \"\"\"Uploads a file from a buffer to Google Cloud Storage.\"\"\"\n",
        "    storage_client = storage.Client()\n",
        "    bucket = storage_client.bucket(bucket_name)\n",
        "    blob = bucket.blob(destination_blob_name)\n",
        "\n",
        "    # Upload the file-like object (buffer)\n",
        "    blob.upload_from_file(file_buffer, content_type='text/csv')\n",
        "    print(f\"File uploaded to {destination_blob_name}.\")\n",
        "\n",
        "# Define your GCS bucket name and destination path\n",
        "destination_blob_name = 'RS/processed-data/SRB_emissions-all-sources-2022.csv'\n",
        "\n",
        "# Upload the CSV from the buffer directly\n",
        "upload_csv_to_gcs(bucket_name, destination_blob_name, csv_buffer)"
      ],
      "metadata": {
        "colab": {
          "base_uri": "https://localhost:8080/"
        },
        "id": "Z_vcAdjpW58U",
        "outputId": "b92e244f-d5eb-4195-8e15-a85e394162ab"
      },
      "execution_count": 34,
      "outputs": [
        {
          "output_type": "stream",
          "name": "stdout",
          "text": [
            "File uploaded to RS/processed-data/SRB_emissions-all-sources-2022.csv.\n"
          ]
        }
      ]
    },
    {
      "cell_type": "code",
      "source": [
        "grouped_emissions = emissions.groupby(['GID_2', 'NAME_2', 'gas', 'sector']).agg({\n",
        "    'emissions_quantity': 'sum',        # Sum of the 'Sales' column\n",
        "    'emissions_factor': 'mean'     # Average of the 'Quantity' column\n",
        "})"
      ],
      "metadata": {
        "id": "VNwjVmeEfsP2"
      },
      "execution_count": 35,
      "outputs": []
    },
    {
      "cell_type": "code",
      "source": [
        "grouped_emissions = grouped_emissions.reset_index()"
      ],
      "metadata": {
        "id": "9yKg386Hft4q"
      },
      "execution_count": 36,
      "outputs": []
    },
    {
      "cell_type": "code",
      "source": [
        "#Save the HealthCare Facilities in Serbia CSV file\n",
        "from io import BytesIO\n",
        "\n",
        "# Convert DataFrame to CSV in memory\n",
        "csv_buffer = BytesIO()\n",
        "grouped_emissions.to_csv(csv_buffer, index=False)\n",
        "\n",
        "# Move the buffer's position to the beginning\n",
        "csv_buffer.seek(0)\n",
        "\n",
        "def upload_csv_to_gcs(bucket_name, destination_blob_name, file_buffer):\n",
        "    \"\"\"Uploads a file from a buffer to Google Cloud Storage.\"\"\"\n",
        "    storage_client = storage.Client()\n",
        "    bucket = storage_client.bucket(bucket_name)\n",
        "    blob = bucket.blob(destination_blob_name)\n",
        "\n",
        "    # Upload the file-like object (buffer)\n",
        "    blob.upload_from_file(file_buffer, content_type='text/csv')\n",
        "    print(f\"File uploaded to {destination_blob_name}.\")\n",
        "\n",
        "# Define your GCS bucket name and destination path\n",
        "destination_blob_name = 'RS/processed-data/SRB_emissions-per-sector-all-sources-2022.csv'\n",
        "\n",
        "# Upload the CSV from the buffer directly\n",
        "upload_csv_to_gcs(bucket_name, destination_blob_name, csv_buffer)"
      ],
      "metadata": {
        "colab": {
          "base_uri": "https://localhost:8080/"
        },
        "id": "XVe1yH2WfvC7",
        "outputId": "303dd9a5-08b9-4620-c351-706124f1ec4c"
      },
      "execution_count": 37,
      "outputs": [
        {
          "output_type": "stream",
          "name": "stdout",
          "text": [
            "File uploaded to RS/processed-data/SRB_emissions-per-sector-all-sources-2022.csv.\n"
          ]
        }
      ]
    }
  ]
}
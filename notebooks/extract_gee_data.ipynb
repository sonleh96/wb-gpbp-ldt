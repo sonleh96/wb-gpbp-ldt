{
 "cells": [
  {
   "cell_type": "code",
   "execution_count": 51,
   "metadata": {},
   "outputs": [
    {
     "data": {
      "text/html": [
       "\n",
       "            <style>\n",
       "                .geemap-dark {\n",
       "                    --jp-widgets-color: white;\n",
       "                    --jp-widgets-label-color: white;\n",
       "                    --jp-ui-font-color1: white;\n",
       "                    --jp-layout-color2: #454545;\n",
       "                    background-color: #383838;\n",
       "                }\n",
       "\n",
       "                .geemap-dark .jupyter-button {\n",
       "                    --jp-layout-color3: #383838;\n",
       "                }\n",
       "\n",
       "                .geemap-colab {\n",
       "                    background-color: var(--colab-primary-surface-color, white);\n",
       "                }\n",
       "\n",
       "                .geemap-colab .jupyter-button {\n",
       "                    --jp-layout-color3: var(--colab-primary-surface-color, white);\n",
       "                }\n",
       "            </style>\n",
       "            "
      ],
      "text/plain": [
       "<IPython.core.display.HTML object>"
      ]
     },
     "metadata": {},
     "output_type": "display_data"
    }
   ],
   "source": [
    "import os\n",
    "import sys \n",
    "\n",
    "import pandas as pd\n",
    "import numpy as np \n",
    "import geopandas as gpd\n",
    "import ee\n",
    "import geemap\n",
    "from tqdm import tqdm_notebook"
   ]
  },
  {
   "cell_type": "code",
   "execution_count": 2,
   "metadata": {},
   "outputs": [
    {
     "data": {
      "text/html": [
       "\n",
       "            <style>\n",
       "                .geemap-dark {\n",
       "                    --jp-widgets-color: white;\n",
       "                    --jp-widgets-label-color: white;\n",
       "                    --jp-ui-font-color1: white;\n",
       "                    --jp-layout-color2: #454545;\n",
       "                    background-color: #383838;\n",
       "                }\n",
       "\n",
       "                .geemap-dark .jupyter-button {\n",
       "                    --jp-layout-color3: #383838;\n",
       "                }\n",
       "\n",
       "                .geemap-colab {\n",
       "                    background-color: var(--colab-primary-surface-color, white);\n",
       "                }\n",
       "\n",
       "                .geemap-colab .jupyter-button {\n",
       "                    --jp-layout-color3: var(--colab-primary-surface-color, white);\n",
       "                }\n",
       "            </style>\n",
       "            "
      ],
      "text/plain": [
       "<IPython.core.display.HTML object>"
      ]
     },
     "metadata": {},
     "output_type": "display_data"
    }
   ],
   "source": [
    "ee.Authenticate()\n",
    "ee.Initialize()"
   ]
  },
  {
   "cell_type": "code",
   "execution_count": 3,
   "metadata": {},
   "outputs": [
    {
     "data": {
      "text/html": [
       "\n",
       "            <style>\n",
       "                .geemap-dark {\n",
       "                    --jp-widgets-color: white;\n",
       "                    --jp-widgets-label-color: white;\n",
       "                    --jp-ui-font-color1: white;\n",
       "                    --jp-layout-color2: #454545;\n",
       "                    background-color: #383838;\n",
       "                }\n",
       "\n",
       "                .geemap-dark .jupyter-button {\n",
       "                    --jp-layout-color3: #383838;\n",
       "                }\n",
       "\n",
       "                .geemap-colab {\n",
       "                    background-color: var(--colab-primary-surface-color, white);\n",
       "                }\n",
       "\n",
       "                .geemap-colab .jupyter-button {\n",
       "                    --jp-layout-color3: var(--colab-primary-surface-color, white);\n",
       "                }\n",
       "            </style>\n",
       "            "
      ],
      "text/plain": [
       "<IPython.core.display.HTML object>"
      ]
     },
     "metadata": {},
     "output_type": "display_data"
    },
    {
     "name": "stdout",
     "output_type": "stream",
     "text": [
      "Distinct values for 'model': ['000000000WATCH', '00000NorESM1-M', '0000GFDL-ESM2M', '0000HadGEM2-ES', '00IPSL-CM5A-LR', 'MIROC-ESM-CHEM']\n"
     ]
    }
   ],
   "source": [
    "dataset = ee.ImageCollection('WRI/Aqueduct_Flood_Hazard_Maps/V2')\n",
    "\n",
    "# Get distinct values for the \"model\" property\n",
    "distinct_models = dataset.distinct('model')\n",
    "\n",
    "# Reduce to a list of the \"model\" property values\n",
    "model_values = distinct_models.aggregate_array('model').getInfo()\n",
    "\n",
    "# Print the list of distinct model values\n",
    "print(\"Distinct values for 'model':\", model_values)"
   ]
  },
  {
   "cell_type": "code",
   "execution_count": 52,
   "metadata": {},
   "outputs": [
    {
     "data": {
      "text/html": [
       "\n",
       "            <style>\n",
       "                .geemap-dark {\n",
       "                    --jp-widgets-color: white;\n",
       "                    --jp-widgets-label-color: white;\n",
       "                    --jp-ui-font-color1: white;\n",
       "                    --jp-layout-color2: #454545;\n",
       "                    background-color: #383838;\n",
       "                }\n",
       "\n",
       "                .geemap-dark .jupyter-button {\n",
       "                    --jp-layout-color3: #383838;\n",
       "                }\n",
       "\n",
       "                .geemap-colab {\n",
       "                    background-color: var(--colab-primary-surface-color, white);\n",
       "                }\n",
       "\n",
       "                .geemap-colab .jupyter-button {\n",
       "                    --jp-layout-color3: var(--colab-primary-surface-color, white);\n",
       "                }\n",
       "            </style>\n",
       "            "
      ],
      "text/plain": [
       "<IPython.core.display.HTML object>"
      ]
     },
     "metadata": {},
     "output_type": "display_data"
    },
    {
     "name": "stderr",
     "output_type": "stream",
     "text": [
      "C:\\Users\\sonle\\AppData\\Local\\Temp\\ipykernel_1736\\3592506215.py:15: TqdmDeprecationWarning: This function will be removed in tqdm==5.0.0\n",
      "Please use `tqdm.notebook.tqdm` instead of `tqdm.tqdm_notebook`\n",
      "  for i in tqdm_notebook(range(len(poly))):\n"
     ]
    },
    {
     "data": {
      "application/vnd.jupyter.widget-view+json": {
       "model_id": "b9090ac2e97d4b06abe38729993b9c6d",
       "version_major": 2,
       "version_minor": 0
      },
      "text/plain": [
       "  0%|          | 0/161 [00:00<?, ?it/s]"
      ]
     },
     "metadata": {},
     "output_type": "display_data"
    }
   ],
   "source": [
    "poly = gpd.read_file('D:\\Work\\WB\\LDT\\countries\\SRB\\shapefiles\\gadm41_SRB_2.json')\n",
    "poly = poly.to_crs(epsg=4326)\n",
    "gid_2 = poly['GID_2'].to_list()\n",
    "flood_depth = []\n",
    "\n",
    "# Define the dataset collection\n",
    "# https://developers.google.com/earth-engine/datasets/catalog/WRI_Aqueduct_Flood_Hazard_Maps_V2#image-properties\n",
    "# https://files.wri.org/d8/s3fs-public/aqueduct-floods-methodology.pdf?_gl=1*1u9ay0w*_gcl_au*MTg3NzAwNTI0OC4xNzI0MjQwNTIw\n",
    "# https://www.usgs.gov/centers/new-jersey-water-science-center/floods-recurrence-intervals-and-100-year-floods \n",
    "flood = ee.ImageCollection('WRI/Aqueduct_Flood_Hazard_Maps/V2').filter(ee.Filter.eq('climatescenario', 'rcp8p5')) \\\n",
    "                                                         .filter(ee.Filter.eq('floodtype', 'inunriver')) \\\n",
    "                                                         .filter(ee.Filter.eq('returnperiod', 100))\\\n",
    "                                                         .filter(ee.Filter.eq('model', '0000GFDL-ESM2M'))\\\n",
    "                                                         .filter(ee.Filter.eq('year', 2030))\\\n",
    "                                                         .sum()\\\n",
    "                                                         .select('inundation_depth')\n",
    "\n",
    "for i in tqdm_notebook(range(len(poly))):\n",
    "\n",
    "    r = poly.iloc[i:i+1]\n",
    "    region = geemap.gdf_to_ee(r).geometry()\n",
    "\n",
    "    stats = flood.reduceRegion(\n",
    "                      geometry=region,\n",
    "                      reducer=ee.Reducer.mean(),\n",
    "                      scale=1000,  \n",
    "                      crs='EPSG:4326', \n",
    "                      tileScale=14,\n",
    "                      bestEffort=True\n",
    "                )\n",
    "    \n",
    "    \n",
    "    try:\n",
    "        depth = stats.getInfo()['inundation_depth']\n",
    "        flood_depth.append(depth)\n",
    "        \n",
    "    except Exception as e:\n",
    "         print(e)\n",
    "         continue\n",
    "    \n",
    "flood_df = pd.DataFrame({'GID_2': gid_2,\n",
    "                         'inundation_depth': flood_depth})\n",
    "flood_df['year'] = 2022 \n",
    "    "
   ]
  },
  {
   "cell_type": "code",
   "execution_count": 59,
   "metadata": {},
   "outputs": [
    {
     "data": {
      "text/html": [
       "\n",
       "            <style>\n",
       "                .geemap-dark {\n",
       "                    --jp-widgets-color: white;\n",
       "                    --jp-widgets-label-color: white;\n",
       "                    --jp-ui-font-color1: white;\n",
       "                    --jp-layout-color2: #454545;\n",
       "                    background-color: #383838;\n",
       "                }\n",
       "\n",
       "                .geemap-dark .jupyter-button {\n",
       "                    --jp-layout-color3: #383838;\n",
       "                }\n",
       "\n",
       "                .geemap-colab {\n",
       "                    background-color: var(--colab-primary-surface-color, white);\n",
       "                }\n",
       "\n",
       "                .geemap-colab .jupyter-button {\n",
       "                    --jp-layout-color3: var(--colab-primary-surface-color, white);\n",
       "                }\n",
       "            </style>\n",
       "            "
      ],
      "text/plain": [
       "<IPython.core.display.HTML object>"
      ]
     },
     "metadata": {},
     "output_type": "display_data"
    }
   ],
   "source": [
    "poly = gpd.read_file('D:\\Work\\WB\\LDT\\countries\\SRB\\shapefiles\\gadm41_SRB_0.json')\n",
    "region = geemap.gdf_to_ee(poly).geometry()\n",
    "\n",
    "# Define the dataset collection\n",
    "for year in [2030, 2050, 2080]:\n",
    "    flood = ee.ImageCollection('WRI/Aqueduct_Flood_Hazard_Maps/V2').filter(ee.Filter.eq('climatescenario', 'rcp8p5')) \\\n",
    "                                                            .filter(ee.Filter.eq('floodtype', 'inunriver')) \\\n",
    "                                                            .filter(ee.Filter.eq('returnperiod', 100))\\\n",
    "                                                            .filter(ee.Filter.eq('model', '0000GFDL-ESM2M'))\\\n",
    "                                                            .filter(ee.Filter.eq('year', year))\\\n",
    "                                                            .sum()\\\n",
    "                                                            .select('inundation_depth')\n",
    "\n",
    "\n",
    "    task = ee.batch.Export.image.toDrive(\n",
    "        image=flood,\n",
    "        description=f'SRB_{year}_1in100_rcp8p5',\n",
    "        folder='wri_flooding',\n",
    "        region=region,\n",
    "        scale=1000,\n",
    "        crs='EPSG:4326',\n",
    "        fileNamePrefix=f'SRB_{year}_1in100_rcp8p5',\n",
    "        # maxPixels=1e13,\n",
    "        fileFormat='GeoTIFF'\n",
    "    )\n",
    "    task.start()"
   ]
  },
  {
   "cell_type": "code",
   "execution_count": null,
   "metadata": {},
   "outputs": [],
   "source": []
  },
  {
   "cell_type": "code",
   "execution_count": 61,
   "metadata": {},
   "outputs": [
    {
     "data": {
      "text/html": [
       "\n",
       "            <style>\n",
       "                .geemap-dark {\n",
       "                    --jp-widgets-color: white;\n",
       "                    --jp-widgets-label-color: white;\n",
       "                    --jp-ui-font-color1: white;\n",
       "                    --jp-layout-color2: #454545;\n",
       "                    background-color: #383838;\n",
       "                }\n",
       "\n",
       "                .geemap-dark .jupyter-button {\n",
       "                    --jp-layout-color3: #383838;\n",
       "                }\n",
       "\n",
       "                .geemap-colab {\n",
       "                    background-color: var(--colab-primary-surface-color, white);\n",
       "                }\n",
       "\n",
       "                .geemap-colab .jupyter-button {\n",
       "                    --jp-layout-color3: var(--colab-primary-surface-color, white);\n",
       "                }\n",
       "            </style>\n",
       "            "
      ],
      "text/plain": [
       "<IPython.core.display.HTML object>"
      ]
     },
     "metadata": {},
     "output_type": "display_data"
    }
   ],
   "source": [
    "from datetime import datetime\n",
    "\n",
    "from OSMPythonTools.nominatim import Nominatim\n",
    "from OSMPythonTools.overpass import overpassQueryBuilder, Overpass"
   ]
  },
  {
   "cell_type": "code",
   "execution_count": 62,
   "metadata": {},
   "outputs": [
    {
     "data": {
      "text/html": [
       "\n",
       "            <style>\n",
       "                .geemap-dark {\n",
       "                    --jp-widgets-color: white;\n",
       "                    --jp-widgets-label-color: white;\n",
       "                    --jp-ui-font-color1: white;\n",
       "                    --jp-layout-color2: #454545;\n",
       "                    background-color: #383838;\n",
       "                }\n",
       "\n",
       "                .geemap-dark .jupyter-button {\n",
       "                    --jp-layout-color3: #383838;\n",
       "                }\n",
       "\n",
       "                .geemap-colab {\n",
       "                    background-color: var(--colab-primary-surface-color, white);\n",
       "                }\n",
       "\n",
       "                .geemap-colab .jupyter-button {\n",
       "                    --jp-layout-color3: var(--colab-primary-surface-color, white);\n",
       "                }\n",
       "            </style>\n",
       "            "
      ],
      "text/plain": [
       "<IPython.core.display.HTML object>"
      ]
     },
     "metadata": {},
     "output_type": "display_data"
    }
   ],
   "source": [
    "def query_osm_overpass(area_name, key, value):\n",
    "\n",
    "    nominatim = Nominatim()\n",
    "    areaId = nominatim.query(area_name).areaId()\n",
    "    overpass = Overpass()\n",
    "    query = overpassQueryBuilder(area=areaId, elementType='way', selector=f'\"{key}\"=\"{value}\"', out='body', includeGeometry=True)\n",
    "    result = overpass.query(query, timeout=120)\n",
    "    \n",
    "    return result\n",
    "\n",
    "\n",
    "\n",
    "def quarter_start(year: int, q: int) -> datetime:\n",
    "    if not 1 <= q <= 4:\n",
    "        raise ValueError(\"Quarter must be within [1, 2, 3, 4]\")\n",
    "\n",
    "    month = [1, 4, 7, 10]\n",
    "    return datetime(year, month[q - 1], 1)\n",
    "\n",
    "\n",
    "def get_tile_url(service_type: str, year: int, q: int) -> str:\n",
    "    dt = quarter_start(year, q)\n",
    "\n",
    "    base_url = \"https://ookla-open-data.s3-us-west-2.amazonaws.com/shapefiles/performance\"\n",
    "    url = f\"{base_url}/type%3D{service_type}/year%3D{dt:%Y}/quarter%3D{q}/{dt:%Y-%m-%d}_performance_{service_type}_tiles.zip\"\n",
    "    return url\n",
    "\n",
    "def merge_with_connectivity(out, ookla):\n",
    "    out = out[~out.lat.isna()]\n",
    "    out['quadkey'] = out.apply(make_quadkey, axis=1)\n",
    "    out['quadkey'] = out['quadkey'].astype('str')\n",
    "    connectivity = ookla[ookla.quadkey.isin(out['quadkey'])]\n",
    "    connectivity = connectivity.set_index('quadkey')\n",
    "    tmp = out.set_index('quadkey')\n",
    "    tmp.index = tmp.index.astype('str')\n",
    "    tmp = tmp.join(connectivity, how='left')\n",
    "    tmp = tmp.reset_index().drop_duplicates(\n",
    "        subset=['name', 'quadkey'],\n",
    "        keep='last').reset_index(drop=True)\n",
    "    # return connectivity\n",
    "    return tmp\n",
    "\n",
    "def make_quadkey(row):\n",
    "    return qk.from_geo((row['lat'], row['lon']), 16)\n",
    "\n",
    "def make_details(element):\n",
    "    tags = element.tags()\n",
    "    if 'name' in tags:\n",
    "        out = dict()\n",
    "        out['amenity'] = tags['amenity']\n",
    "        out['name'] = tags['name']\n",
    "        if 'lat' in tags:\n",
    "            out['lat'] = tags['lat']\n",
    "            out['lon'] = tags['lon']\n",
    "        elif bool(element.centerLat()):\n",
    "            out['lat'] = element.centerLat()\n",
    "            out['lon'] = element.centerLon()\n",
    "        elif bool(element.geometry()):\n",
    "            out['lat'] = element.geometry()['coordinates'][0][0][1]\n",
    "            out['lon'] = element.geometry()['coordinates'][0][0][0]\n",
    "        else:\n",
    "            out['lat'] = None\n",
    "            out['lon'] = None\n",
    "        return out\n",
    "    else:\n",
    "        return None\n",
    "    \n",
    "def filter_elements(result):\n",
    "    elements = list()\n",
    "    for element in result.elements():\n",
    "        elements.append(make_details(element))\n",
    "    filtered = [element for element in elements if element is not None]\n",
    "    return filtered"
   ]
  },
  {
   "cell_type": "code",
   "execution_count": 63,
   "metadata": {},
   "outputs": [
    {
     "data": {
      "text/html": [
       "\n",
       "            <style>\n",
       "                .geemap-dark {\n",
       "                    --jp-widgets-color: white;\n",
       "                    --jp-widgets-label-color: white;\n",
       "                    --jp-ui-font-color1: white;\n",
       "                    --jp-layout-color2: #454545;\n",
       "                    background-color: #383838;\n",
       "                }\n",
       "\n",
       "                .geemap-dark .jupyter-button {\n",
       "                    --jp-layout-color3: #383838;\n",
       "                }\n",
       "\n",
       "                .geemap-colab {\n",
       "                    background-color: var(--colab-primary-surface-color, white);\n",
       "                }\n",
       "\n",
       "                .geemap-colab .jupyter-button {\n",
       "                    --jp-layout-color3: var(--colab-primary-surface-color, white);\n",
       "                }\n",
       "            </style>\n",
       "            "
      ],
      "text/plain": [
       "<IPython.core.display.HTML object>"
      ]
     },
     "metadata": {},
     "output_type": "display_data"
    },
    {
     "name": "stderr",
     "output_type": "stream",
     "text": [
      "[overpass] downloading data: [timeout:120][out:json];area(3609088937)->.searchArea;(way[\"highway\"=\"motorway\"](area.searchArea);); out body geom;\n"
     ]
    }
   ],
   "source": [
    "result = query_osm_overpass('Serbia', 'highway', 'motorway')"
   ]
  },
  {
   "cell_type": "code",
   "execution_count": 68,
   "metadata": {},
   "outputs": [
    {
     "data": {
      "text/html": [
       "\n",
       "            <style>\n",
       "                .geemap-dark {\n",
       "                    --jp-widgets-color: white;\n",
       "                    --jp-widgets-label-color: white;\n",
       "                    --jp-ui-font-color1: white;\n",
       "                    --jp-layout-color2: #454545;\n",
       "                    background-color: #383838;\n",
       "                }\n",
       "\n",
       "                .geemap-dark .jupyter-button {\n",
       "                    --jp-layout-color3: #383838;\n",
       "                }\n",
       "\n",
       "                .geemap-colab {\n",
       "                    background-color: var(--colab-primary-surface-color, white);\n",
       "                }\n",
       "\n",
       "                .geemap-colab .jupyter-button {\n",
       "                    --jp-layout-color3: var(--colab-primary-surface-color, white);\n",
       "                }\n",
       "            </style>\n",
       "            "
      ],
      "text/plain": [
       "<IPython.core.display.HTML object>"
      ]
     },
     "metadata": {},
     "output_type": "display_data"
    },
    {
     "data": {
      "text/plain": [
       "{'highway': 'motorway',\n",
       " 'int_ref': 'E 70',\n",
       " 'lanes': '3',\n",
       " 'lit': 'yes',\n",
       " 'maxspeed': '40',\n",
       " 'note': 'ZA POČETNIKE: Naplatna rampa je mapirana ispravno, sa svim propratnim podacima: toll, lanes, maxspeed, itd. Nemojte docrtavati puteve kao posebne trake. Nije ispravno.',\n",
       " 'oneway': 'yes',\n",
       " 'placement': 'right_of:1',\n",
       " 'ref': 'A3',\n",
       " 'surface': 'asphalt'}"
      ]
     },
     "execution_count": 68,
     "metadata": {},
     "output_type": "execute_result"
    }
   ],
   "source": [
    "result.elements()[10].tags()"
   ]
  },
  {
   "cell_type": "code",
   "execution_count": null,
   "metadata": {},
   "outputs": [],
   "source": []
  },
  {
   "cell_type": "code",
   "execution_count": 70,
   "metadata": {},
   "outputs": [
    {
     "data": {
      "text/html": [
       "\n",
       "            <style>\n",
       "                .geemap-dark {\n",
       "                    --jp-widgets-color: white;\n",
       "                    --jp-widgets-label-color: white;\n",
       "                    --jp-ui-font-color1: white;\n",
       "                    --jp-layout-color2: #454545;\n",
       "                    background-color: #383838;\n",
       "                }\n",
       "\n",
       "                .geemap-dark .jupyter-button {\n",
       "                    --jp-layout-color3: #383838;\n",
       "                }\n",
       "\n",
       "                .geemap-colab {\n",
       "                    background-color: var(--colab-primary-surface-color, white);\n",
       "                }\n",
       "\n",
       "                .geemap-colab .jupyter-button {\n",
       "                    --jp-layout-color3: var(--colab-primary-surface-color, white);\n",
       "                }\n",
       "            </style>\n",
       "            "
      ],
      "text/plain": [
       "<IPython.core.display.HTML object>"
      ]
     },
     "metadata": {},
     "output_type": "display_data"
    },
    {
     "data": {
      "text/html": [
       "<div>\n",
       "<style scoped>\n",
       "    .dataframe tbody tr th:only-of-type {\n",
       "        vertical-align: middle;\n",
       "    }\n",
       "\n",
       "    .dataframe tbody tr th {\n",
       "        vertical-align: top;\n",
       "    }\n",
       "\n",
       "    .dataframe thead th {\n",
       "        text-align: right;\n",
       "    }\n",
       "</style>\n",
       "<table border=\"1\" class=\"dataframe\">\n",
       "  <thead>\n",
       "    <tr style=\"text-align: right;\">\n",
       "      <th></th>\n",
       "      <th>osm_id</th>\n",
       "      <th>code</th>\n",
       "      <th>fclass</th>\n",
       "      <th>name</th>\n",
       "      <th>ref</th>\n",
       "      <th>oneway</th>\n",
       "      <th>maxspeed</th>\n",
       "      <th>layer</th>\n",
       "      <th>bridge</th>\n",
       "      <th>tunnel</th>\n",
       "      <th>geometry</th>\n",
       "    </tr>\n",
       "  </thead>\n",
       "  <tbody>\n",
       "    <tr>\n",
       "      <th>0</th>\n",
       "      <td>4432186</td>\n",
       "      <td>5122</td>\n",
       "      <td>residential</td>\n",
       "      <td>Fő utca</td>\n",
       "      <td>None</td>\n",
       "      <td>B</td>\n",
       "      <td>0</td>\n",
       "      <td>0</td>\n",
       "      <td>F</td>\n",
       "      <td>F</td>\n",
       "      <td>LINESTRING (20.01588 46.17707, 20.01869 46.178...</td>\n",
       "    </tr>\n",
       "    <tr>\n",
       "      <th>1</th>\n",
       "      <td>4759407</td>\n",
       "      <td>5122</td>\n",
       "      <td>residential</td>\n",
       "      <td>None</td>\n",
       "      <td>None</td>\n",
       "      <td>B</td>\n",
       "      <td>0</td>\n",
       "      <td>0</td>\n",
       "      <td>F</td>\n",
       "      <td>F</td>\n",
       "      <td>LINESTRING (22.65914 42.87117, 22.65911 42.871...</td>\n",
       "    </tr>\n",
       "    <tr>\n",
       "      <th>2</th>\n",
       "      <td>4759488</td>\n",
       "      <td>5122</td>\n",
       "      <td>residential</td>\n",
       "      <td>None</td>\n",
       "      <td>None</td>\n",
       "      <td>B</td>\n",
       "      <td>0</td>\n",
       "      <td>0</td>\n",
       "      <td>F</td>\n",
       "      <td>F</td>\n",
       "      <td>LINESTRING (22.6802 42.86464, 22.68017 42.8646...</td>\n",
       "    </tr>\n",
       "    <tr>\n",
       "      <th>3</th>\n",
       "      <td>4907997</td>\n",
       "      <td>5113</td>\n",
       "      <td>primary</td>\n",
       "      <td>Саве Ковачевића</td>\n",
       "      <td>12</td>\n",
       "      <td>B</td>\n",
       "      <td>50</td>\n",
       "      <td>0</td>\n",
       "      <td>F</td>\n",
       "      <td>F</td>\n",
       "      <td>LINESTRING (20.4841 45.42493, 20.4831 45.42412...</td>\n",
       "    </tr>\n",
       "    <tr>\n",
       "      <th>4</th>\n",
       "      <td>4907998</td>\n",
       "      <td>5114</td>\n",
       "      <td>secondary</td>\n",
       "      <td>Бирчанинова</td>\n",
       "      <td>None</td>\n",
       "      <td>B</td>\n",
       "      <td>0</td>\n",
       "      <td>0</td>\n",
       "      <td>F</td>\n",
       "      <td>F</td>\n",
       "      <td>LINESTRING (20.40807 45.37685, 20.40849 45.37722)</td>\n",
       "    </tr>\n",
       "    <tr>\n",
       "      <th>...</th>\n",
       "      <td>...</td>\n",
       "      <td>...</td>\n",
       "      <td>...</td>\n",
       "      <td>...</td>\n",
       "      <td>...</td>\n",
       "      <td>...</td>\n",
       "      <td>...</td>\n",
       "      <td>...</td>\n",
       "      <td>...</td>\n",
       "      <td>...</td>\n",
       "      <td>...</td>\n",
       "    </tr>\n",
       "    <tr>\n",
       "      <th>453627</th>\n",
       "      <td>1126353054</td>\n",
       "      <td>5115</td>\n",
       "      <td>tertiary</td>\n",
       "      <td>Новосадског Сајма</td>\n",
       "      <td>None</td>\n",
       "      <td>F</td>\n",
       "      <td>50</td>\n",
       "      <td>0</td>\n",
       "      <td>F</td>\n",
       "      <td>F</td>\n",
       "      <td>LINESTRING (19.83059 45.25472, 19.83073 45.254...</td>\n",
       "    </tr>\n",
       "    <tr>\n",
       "      <th>453628</th>\n",
       "      <td>1126353055</td>\n",
       "      <td>5122</td>\n",
       "      <td>residential</td>\n",
       "      <td>Боре Продановића</td>\n",
       "      <td>None</td>\n",
       "      <td>B</td>\n",
       "      <td>0</td>\n",
       "      <td>0</td>\n",
       "      <td>F</td>\n",
       "      <td>F</td>\n",
       "      <td>LINESTRING (19.83059 45.25472, 19.83062 45.254...</td>\n",
       "    </tr>\n",
       "    <tr>\n",
       "      <th>453629</th>\n",
       "      <td>1126353056</td>\n",
       "      <td>5115</td>\n",
       "      <td>tertiary</td>\n",
       "      <td>Новосадског Сајма</td>\n",
       "      <td>None</td>\n",
       "      <td>F</td>\n",
       "      <td>50</td>\n",
       "      <td>0</td>\n",
       "      <td>F</td>\n",
       "      <td>F</td>\n",
       "      <td>LINESTRING (19.83058 45.25477, 19.83045 45.25476)</td>\n",
       "    </tr>\n",
       "    <tr>\n",
       "      <th>453630</th>\n",
       "      <td>1126353057</td>\n",
       "      <td>5115</td>\n",
       "      <td>tertiary</td>\n",
       "      <td>Новосадског Сајма</td>\n",
       "      <td>None</td>\n",
       "      <td>F</td>\n",
       "      <td>50</td>\n",
       "      <td>0</td>\n",
       "      <td>F</td>\n",
       "      <td>F</td>\n",
       "      <td>LINESTRING (19.83045 45.25476, 19.8304 45.2547...</td>\n",
       "    </tr>\n",
       "    <tr>\n",
       "      <th>453631</th>\n",
       "      <td>1126354403</td>\n",
       "      <td>5141</td>\n",
       "      <td>service</td>\n",
       "      <td>None</td>\n",
       "      <td>None</td>\n",
       "      <td>B</td>\n",
       "      <td>0</td>\n",
       "      <td>0</td>\n",
       "      <td>F</td>\n",
       "      <td>F</td>\n",
       "      <td>LINESTRING (19.8335 45.23599, 19.83353 45.23592)</td>\n",
       "    </tr>\n",
       "  </tbody>\n",
       "</table>\n",
       "<p>453632 rows × 11 columns</p>\n",
       "</div>"
      ],
      "text/plain": [
       "            osm_id  code       fclass               name   ref oneway  \\\n",
       "0          4432186  5122  residential            Fő utca  None      B   \n",
       "1          4759407  5122  residential               None  None      B   \n",
       "2          4759488  5122  residential               None  None      B   \n",
       "3          4907997  5113      primary    Саве Ковачевића    12      B   \n",
       "4          4907998  5114    secondary        Бирчанинова  None      B   \n",
       "...            ...   ...          ...                ...   ...    ...   \n",
       "453627  1126353054  5115     tertiary  Новосадског Сајма  None      F   \n",
       "453628  1126353055  5122  residential   Боре Продановића  None      B   \n",
       "453629  1126353056  5115     tertiary  Новосадског Сајма  None      F   \n",
       "453630  1126353057  5115     tertiary  Новосадског Сајма  None      F   \n",
       "453631  1126354403  5141      service               None  None      B   \n",
       "\n",
       "        maxspeed  layer bridge tunnel  \\\n",
       "0              0      0      F      F   \n",
       "1              0      0      F      F   \n",
       "2              0      0      F      F   \n",
       "3             50      0      F      F   \n",
       "4              0      0      F      F   \n",
       "...          ...    ...    ...    ...   \n",
       "453627        50      0      F      F   \n",
       "453628         0      0      F      F   \n",
       "453629        50      0      F      F   \n",
       "453630        50      0      F      F   \n",
       "453631         0      0      F      F   \n",
       "\n",
       "                                                 geometry  \n",
       "0       LINESTRING (20.01588 46.17707, 20.01869 46.178...  \n",
       "1       LINESTRING (22.65914 42.87117, 22.65911 42.871...  \n",
       "2       LINESTRING (22.6802 42.86464, 22.68017 42.8646...  \n",
       "3       LINESTRING (20.4841 45.42493, 20.4831 45.42412...  \n",
       "4       LINESTRING (20.40807 45.37685, 20.40849 45.37722)  \n",
       "...                                                   ...  \n",
       "453627  LINESTRING (19.83059 45.25472, 19.83073 45.254...  \n",
       "453628  LINESTRING (19.83059 45.25472, 19.83062 45.254...  \n",
       "453629  LINESTRING (19.83058 45.25477, 19.83045 45.25476)  \n",
       "453630  LINESTRING (19.83045 45.25476, 19.8304 45.2547...  \n",
       "453631   LINESTRING (19.8335 45.23599, 19.83353 45.23592)  \n",
       "\n",
       "[453632 rows x 11 columns]"
      ]
     },
     "execution_count": 70,
     "metadata": {},
     "output_type": "execute_result"
    }
   ],
   "source": [
    "roads = gpd.read_file(\"D:\\Work\\WB\\LDT\\countries\\SRB\\\\raw_data\\serbia-230101-free.shp\\gis_osm_roads_free_1.shp\")\n",
    "roads"
   ]
  },
  {
   "cell_type": "code",
   "execution_count": null,
   "metadata": {},
   "outputs": [],
   "source": []
  }
 ],
 "metadata": {
  "kernelspec": {
   "display_name": "wb-ldt",
   "language": "python",
   "name": "python3"
  },
  "language_info": {
   "codemirror_mode": {
    "name": "ipython",
    "version": 3
   },
   "file_extension": ".py",
   "mimetype": "text/x-python",
   "name": "python",
   "nbconvert_exporter": "python",
   "pygments_lexer": "ipython3",
   "version": "3.11.9"
  }
 },
 "nbformat": 4,
 "nbformat_minor": 2
}

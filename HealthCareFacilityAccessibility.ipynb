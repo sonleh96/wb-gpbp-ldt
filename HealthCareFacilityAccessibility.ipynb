{
  "nbformat": 4,
  "nbformat_minor": 0,
  "metadata": {
    "colab": {
      "provenance": [],
      "authorship_tag": "ABX9TyPRbYGAX2Xm4ST7jRR3zNrp",
      "include_colab_link": true
    },
    "kernelspec": {
      "name": "python3",
      "display_name": "Python 3"
    },
    "language_info": {
      "name": "python"
    }
  },
  "cells": [
    {
      "cell_type": "markdown",
      "metadata": {
        "id": "view-in-github",
        "colab_type": "text"
      },
      "source": [
        "<a href=\"https://colab.research.google.com/github/sonleh96/wb-gpbp-ldt/blob/dev-ghinwa/HealthCareFacilityAccessibility.ipynb\" target=\"_parent\"><img src=\"https://colab.research.google.com/assets/colab-badge.svg\" alt=\"Open In Colab\"/></a>"
      ]
    },
    {
      "cell_type": "markdown",
      "source": [
        "**Accessing Data on Google Buckets**"
      ],
      "metadata": {
        "id": "rRnnU8c9h-j2"
      }
    },
    {
      "cell_type": "code",
      "execution_count": null,
      "metadata": {
        "id": "w6AvMxVShuZt"
      },
      "outputs": [],
      "source": [
        "!pip install google-cloud-storage\n",
        "!pip install gcsfs\n",
        "import pandas as pd\n",
        "import gcsfs\n",
        "import geopandas as gpd\n",
        "import json\n",
        "from shapely.geometry import Polygon,MultiPolygon\n",
        "import time\n",
        "import itertools"
      ]
    },
    {
      "cell_type": "code",
      "source": [
        "from google.colab import auth\n",
        "auth.authenticate_user()"
      ],
      "metadata": {
        "id": "A2c7zCZah9q1"
      },
      "execution_count": 2,
      "outputs": []
    },
    {
      "cell_type": "code",
      "source": [
        "from google.cloud import storage\n",
        "\n",
        "# Create a client\n",
        "client = storage.Client()\n",
        "\n",
        "#Access the Google Bucket\n",
        "bucket_name = 'wb-ldt'\n",
        "bucket = client.get_bucket(bucket_name)\n",
        "\n",
        "#Prints files in the google bucket\n",
        "'''\n",
        "blobs = bucket.list_blobs()\n",
        "\n",
        "for blob in blobs:\n",
        "    print(blob.name)\n",
        "'''"
      ],
      "metadata": {
        "colab": {
          "base_uri": "https://localhost:8080/",
          "height": 35
        },
        "id": "ILbvICbxihKM",
        "outputId": "c625ac3f-a001-4585-dfc7-ec7999186c04"
      },
      "execution_count": 3,
      "outputs": [
        {
          "output_type": "execute_result",
          "data": {
            "text/plain": [
              "'\\nblobs = bucket.list_blobs()\\n\\nfor blob in blobs:\\n    print(blob.name)\\n'"
            ],
            "application/vnd.google.colaboratory.intrinsic+json": {
              "type": "string"
            }
          },
          "metadata": {},
          "execution_count": 3
        }
      ]
    },
    {
      "cell_type": "code",
      "source": [
        "#Name of Shape File\n",
        "file_path = \"shapefiles/gadm41_SRB_2.json\"\n",
        "gcs_file_path = 'gs://' + bucket_name + '/' + file_path\n",
        "\n",
        "#Read Shape File --> The shape file gives a MultiPolygon Geometry Column\n",
        "gdf = gpd.read_file(gcs_file_path)\n",
        "\n",
        "#Adjust for GeoSpatial Data\n",
        "center = gpd.GeoDataFrame(gdf[['GID_2', 'NAME_2']])\n",
        "\n",
        "#Change the MultiPolygon Geometry Column to make it more useful\n",
        "center['geometry'] = gdf.centroid\n",
        "center = center.to_crs(gdf.crs)\n",
        "center['lat'] = center.geometry.y\n",
        "center['lon'] = center.geometry.x\n",
        "#center"
      ],
      "metadata": {
        "colab": {
          "base_uri": "https://localhost:8080/"
        },
        "id": "44HHegdZj2oG",
        "outputId": "f4b050ab-f2bb-4c9a-8654-eaff389301f6"
      },
      "execution_count": 4,
      "outputs": [
        {
          "output_type": "stream",
          "name": "stderr",
          "text": [
            "<ipython-input-4-90075547e9ca>:12: UserWarning: Geometry is in a geographic CRS. Results from 'centroid' are likely incorrect. Use 'GeoSeries.to_crs()' to re-project geometries to a projected CRS before this operation.\n",
            "\n",
            "  center['geometry'] = gdf.centroid\n",
            "<ipython-input-4-90075547e9ca>:12: FutureWarning: You are adding a column named 'geometry' to a GeoDataFrame constructed without an active geometry column. Currently, this automatically sets the active geometry column to 'geometry' but in the future that will no longer happen. Instead, either provide geometry to the GeoDataFrame constructor (GeoDataFrame(... geometry=GeoSeries()) or use `set_geometry('geometry')` to explicitly set the active geometry column.\n",
            "  center['geometry'] = gdf.centroid\n"
          ]
        }
      ]
    },
    {
      "cell_type": "markdown",
      "source": [
        "**Reading Meta Population Data**"
      ],
      "metadata": {
        "id": "lh4fvFm6i0yh"
      }
    },
    {
      "cell_type": "code",
      "source": [
        "!pip install rasterio\n",
        "\n",
        "import rasterio\n",
        "from shapely.geometry import Point\n",
        "import numpy as np"
      ],
      "metadata": {
        "id": "JvY2sncMjpWe"
      },
      "execution_count": null,
      "outputs": []
    },
    {
      "cell_type": "code",
      "source": [
        "#Name of Shape File\n",
        "file_path = \"RS/raw-data/geospatial/population_data_meta/Population Serbia 2019.csv\"\n",
        "pop_file_path = 'gs://' + bucket_name + '/' + file_path"
      ],
      "metadata": {
        "id": "bzjQcd8Ii3TE"
      },
      "execution_count": 6,
      "outputs": []
    },
    {
      "cell_type": "code",
      "source": [
        "pop_df = pd.read_csv(pop_file_path)\n",
        "\n",
        "# Assuming your CSV has 'latitude' and 'longitude' columns, create a geometry column\n",
        "pop_df['geometry'] = pop_df.apply(lambda row: Point(row['Lon'], row['Lat']), axis=1)\n",
        "\n",
        "# Convert the DataFrame to a GeoDataFrame, specifying the coordinate reference system (CRS)\n",
        "pop_gdf = gpd.GeoDataFrame(pop_df, geometry='geometry')\n",
        "\n",
        "# Optionally, set the CRS (e.g., WGS84 which is commonly used for latitude and longitude)\n",
        "pop_gdf.set_crs(epsg=4326, inplace=True)"
      ],
      "metadata": {
        "colab": {
          "base_uri": "https://localhost:8080/",
          "height": 424
        },
        "id": "pP2PGx5wmubw",
        "outputId": "832e0bdc-3473-4ace-a9a2-acc1dc17bec2"
      },
      "execution_count": 7,
      "outputs": [
        {
          "output_type": "execute_result",
          "data": {
            "text/plain": [
              "               Lat        Lon  Population                   geometry\n",
              "0        44.215417  19.839028    0.496571  POINT (19.83903 44.21542)\n",
              "1        44.917639  20.304028    6.588225  POINT (20.30403 44.91764)\n",
              "2        44.900972  20.282361    6.588225  POINT (20.28236 44.90097)\n",
              "3        44.903472  20.287083    6.588225  POINT (20.28708 44.90347)\n",
              "4        44.857917  20.335417    6.588225  POINT (20.33542 44.85792)\n",
              "...            ...        ...         ...                        ...\n",
              "3666472  44.612083  21.199028    2.827553  POINT (21.19903 44.61208)\n",
              "3666473  44.609583  21.194306    2.827553  POINT (21.19431 44.60958)\n",
              "3666474  44.623472  21.195972    2.827553  POINT (21.19597 44.62347)\n",
              "3666475  44.619861  21.201250    2.827553  POINT (21.20125 44.61986)\n",
              "3666476  44.722083  21.211806    0.933186  POINT (21.21181 44.72208)\n",
              "\n",
              "[3666477 rows x 4 columns]"
            ],
            "text/html": [
              "\n",
              "  <div id=\"df-cf1e0878-96bb-4a8a-a924-afe793780971\" class=\"colab-df-container\">\n",
              "    <div>\n",
              "<style scoped>\n",
              "    .dataframe tbody tr th:only-of-type {\n",
              "        vertical-align: middle;\n",
              "    }\n",
              "\n",
              "    .dataframe tbody tr th {\n",
              "        vertical-align: top;\n",
              "    }\n",
              "\n",
              "    .dataframe thead th {\n",
              "        text-align: right;\n",
              "    }\n",
              "</style>\n",
              "<table border=\"1\" class=\"dataframe\">\n",
              "  <thead>\n",
              "    <tr style=\"text-align: right;\">\n",
              "      <th></th>\n",
              "      <th>Lat</th>\n",
              "      <th>Lon</th>\n",
              "      <th>Population</th>\n",
              "      <th>geometry</th>\n",
              "    </tr>\n",
              "  </thead>\n",
              "  <tbody>\n",
              "    <tr>\n",
              "      <th>0</th>\n",
              "      <td>44.215417</td>\n",
              "      <td>19.839028</td>\n",
              "      <td>0.496571</td>\n",
              "      <td>POINT (19.83903 44.21542)</td>\n",
              "    </tr>\n",
              "    <tr>\n",
              "      <th>1</th>\n",
              "      <td>44.917639</td>\n",
              "      <td>20.304028</td>\n",
              "      <td>6.588225</td>\n",
              "      <td>POINT (20.30403 44.91764)</td>\n",
              "    </tr>\n",
              "    <tr>\n",
              "      <th>2</th>\n",
              "      <td>44.900972</td>\n",
              "      <td>20.282361</td>\n",
              "      <td>6.588225</td>\n",
              "      <td>POINT (20.28236 44.90097)</td>\n",
              "    </tr>\n",
              "    <tr>\n",
              "      <th>3</th>\n",
              "      <td>44.903472</td>\n",
              "      <td>20.287083</td>\n",
              "      <td>6.588225</td>\n",
              "      <td>POINT (20.28708 44.90347)</td>\n",
              "    </tr>\n",
              "    <tr>\n",
              "      <th>4</th>\n",
              "      <td>44.857917</td>\n",
              "      <td>20.335417</td>\n",
              "      <td>6.588225</td>\n",
              "      <td>POINT (20.33542 44.85792)</td>\n",
              "    </tr>\n",
              "    <tr>\n",
              "      <th>...</th>\n",
              "      <td>...</td>\n",
              "      <td>...</td>\n",
              "      <td>...</td>\n",
              "      <td>...</td>\n",
              "    </tr>\n",
              "    <tr>\n",
              "      <th>3666472</th>\n",
              "      <td>44.612083</td>\n",
              "      <td>21.199028</td>\n",
              "      <td>2.827553</td>\n",
              "      <td>POINT (21.19903 44.61208)</td>\n",
              "    </tr>\n",
              "    <tr>\n",
              "      <th>3666473</th>\n",
              "      <td>44.609583</td>\n",
              "      <td>21.194306</td>\n",
              "      <td>2.827553</td>\n",
              "      <td>POINT (21.19431 44.60958)</td>\n",
              "    </tr>\n",
              "    <tr>\n",
              "      <th>3666474</th>\n",
              "      <td>44.623472</td>\n",
              "      <td>21.195972</td>\n",
              "      <td>2.827553</td>\n",
              "      <td>POINT (21.19597 44.62347)</td>\n",
              "    </tr>\n",
              "    <tr>\n",
              "      <th>3666475</th>\n",
              "      <td>44.619861</td>\n",
              "      <td>21.201250</td>\n",
              "      <td>2.827553</td>\n",
              "      <td>POINT (21.20125 44.61986)</td>\n",
              "    </tr>\n",
              "    <tr>\n",
              "      <th>3666476</th>\n",
              "      <td>44.722083</td>\n",
              "      <td>21.211806</td>\n",
              "      <td>0.933186</td>\n",
              "      <td>POINT (21.21181 44.72208)</td>\n",
              "    </tr>\n",
              "  </tbody>\n",
              "</table>\n",
              "<p>3666477 rows × 4 columns</p>\n",
              "</div>\n",
              "    <div class=\"colab-df-buttons\">\n",
              "\n",
              "  <div class=\"colab-df-container\">\n",
              "    <button class=\"colab-df-convert\" onclick=\"convertToInteractive('df-cf1e0878-96bb-4a8a-a924-afe793780971')\"\n",
              "            title=\"Convert this dataframe to an interactive table.\"\n",
              "            style=\"display:none;\">\n",
              "\n",
              "  <svg xmlns=\"http://www.w3.org/2000/svg\" height=\"24px\" viewBox=\"0 -960 960 960\">\n",
              "    <path d=\"M120-120v-720h720v720H120Zm60-500h600v-160H180v160Zm220 220h160v-160H400v160Zm0 220h160v-160H400v160ZM180-400h160v-160H180v160Zm440 0h160v-160H620v160ZM180-180h160v-160H180v160Zm440 0h160v-160H620v160Z\"/>\n",
              "  </svg>\n",
              "    </button>\n",
              "\n",
              "  <style>\n",
              "    .colab-df-container {\n",
              "      display:flex;\n",
              "      gap: 12px;\n",
              "    }\n",
              "\n",
              "    .colab-df-convert {\n",
              "      background-color: #E8F0FE;\n",
              "      border: none;\n",
              "      border-radius: 50%;\n",
              "      cursor: pointer;\n",
              "      display: none;\n",
              "      fill: #1967D2;\n",
              "      height: 32px;\n",
              "      padding: 0 0 0 0;\n",
              "      width: 32px;\n",
              "    }\n",
              "\n",
              "    .colab-df-convert:hover {\n",
              "      background-color: #E2EBFA;\n",
              "      box-shadow: 0px 1px 2px rgba(60, 64, 67, 0.3), 0px 1px 3px 1px rgba(60, 64, 67, 0.15);\n",
              "      fill: #174EA6;\n",
              "    }\n",
              "\n",
              "    .colab-df-buttons div {\n",
              "      margin-bottom: 4px;\n",
              "    }\n",
              "\n",
              "    [theme=dark] .colab-df-convert {\n",
              "      background-color: #3B4455;\n",
              "      fill: #D2E3FC;\n",
              "    }\n",
              "\n",
              "    [theme=dark] .colab-df-convert:hover {\n",
              "      background-color: #434B5C;\n",
              "      box-shadow: 0px 1px 3px 1px rgba(0, 0, 0, 0.15);\n",
              "      filter: drop-shadow(0px 1px 2px rgba(0, 0, 0, 0.3));\n",
              "      fill: #FFFFFF;\n",
              "    }\n",
              "  </style>\n",
              "\n",
              "    <script>\n",
              "      const buttonEl =\n",
              "        document.querySelector('#df-cf1e0878-96bb-4a8a-a924-afe793780971 button.colab-df-convert');\n",
              "      buttonEl.style.display =\n",
              "        google.colab.kernel.accessAllowed ? 'block' : 'none';\n",
              "\n",
              "      async function convertToInteractive(key) {\n",
              "        const element = document.querySelector('#df-cf1e0878-96bb-4a8a-a924-afe793780971');\n",
              "        const dataTable =\n",
              "          await google.colab.kernel.invokeFunction('convertToInteractive',\n",
              "                                                    [key], {});\n",
              "        if (!dataTable) return;\n",
              "\n",
              "        const docLinkHtml = 'Like what you see? Visit the ' +\n",
              "          '<a target=\"_blank\" href=https://colab.research.google.com/notebooks/data_table.ipynb>data table notebook</a>'\n",
              "          + ' to learn more about interactive tables.';\n",
              "        element.innerHTML = '';\n",
              "        dataTable['output_type'] = 'display_data';\n",
              "        await google.colab.output.renderOutput(dataTable, element);\n",
              "        const docLink = document.createElement('div');\n",
              "        docLink.innerHTML = docLinkHtml;\n",
              "        element.appendChild(docLink);\n",
              "      }\n",
              "    </script>\n",
              "  </div>\n",
              "\n",
              "\n",
              "<div id=\"df-f2c19305-8fc5-439b-b16b-ab878a6cd35c\">\n",
              "  <button class=\"colab-df-quickchart\" onclick=\"quickchart('df-f2c19305-8fc5-439b-b16b-ab878a6cd35c')\"\n",
              "            title=\"Suggest charts\"\n",
              "            style=\"display:none;\">\n",
              "\n",
              "<svg xmlns=\"http://www.w3.org/2000/svg\" height=\"24px\"viewBox=\"0 0 24 24\"\n",
              "     width=\"24px\">\n",
              "    <g>\n",
              "        <path d=\"M19 3H5c-1.1 0-2 .9-2 2v14c0 1.1.9 2 2 2h14c1.1 0 2-.9 2-2V5c0-1.1-.9-2-2-2zM9 17H7v-7h2v7zm4 0h-2V7h2v10zm4 0h-2v-4h2v4z\"/>\n",
              "    </g>\n",
              "</svg>\n",
              "  </button>\n",
              "\n",
              "<style>\n",
              "  .colab-df-quickchart {\n",
              "      --bg-color: #E8F0FE;\n",
              "      --fill-color: #1967D2;\n",
              "      --hover-bg-color: #E2EBFA;\n",
              "      --hover-fill-color: #174EA6;\n",
              "      --disabled-fill-color: #AAA;\n",
              "      --disabled-bg-color: #DDD;\n",
              "  }\n",
              "\n",
              "  [theme=dark] .colab-df-quickchart {\n",
              "      --bg-color: #3B4455;\n",
              "      --fill-color: #D2E3FC;\n",
              "      --hover-bg-color: #434B5C;\n",
              "      --hover-fill-color: #FFFFFF;\n",
              "      --disabled-bg-color: #3B4455;\n",
              "      --disabled-fill-color: #666;\n",
              "  }\n",
              "\n",
              "  .colab-df-quickchart {\n",
              "    background-color: var(--bg-color);\n",
              "    border: none;\n",
              "    border-radius: 50%;\n",
              "    cursor: pointer;\n",
              "    display: none;\n",
              "    fill: var(--fill-color);\n",
              "    height: 32px;\n",
              "    padding: 0;\n",
              "    width: 32px;\n",
              "  }\n",
              "\n",
              "  .colab-df-quickchart:hover {\n",
              "    background-color: var(--hover-bg-color);\n",
              "    box-shadow: 0 1px 2px rgba(60, 64, 67, 0.3), 0 1px 3px 1px rgba(60, 64, 67, 0.15);\n",
              "    fill: var(--button-hover-fill-color);\n",
              "  }\n",
              "\n",
              "  .colab-df-quickchart-complete:disabled,\n",
              "  .colab-df-quickchart-complete:disabled:hover {\n",
              "    background-color: var(--disabled-bg-color);\n",
              "    fill: var(--disabled-fill-color);\n",
              "    box-shadow: none;\n",
              "  }\n",
              "\n",
              "  .colab-df-spinner {\n",
              "    border: 2px solid var(--fill-color);\n",
              "    border-color: transparent;\n",
              "    border-bottom-color: var(--fill-color);\n",
              "    animation:\n",
              "      spin 1s steps(1) infinite;\n",
              "  }\n",
              "\n",
              "  @keyframes spin {\n",
              "    0% {\n",
              "      border-color: transparent;\n",
              "      border-bottom-color: var(--fill-color);\n",
              "      border-left-color: var(--fill-color);\n",
              "    }\n",
              "    20% {\n",
              "      border-color: transparent;\n",
              "      border-left-color: var(--fill-color);\n",
              "      border-top-color: var(--fill-color);\n",
              "    }\n",
              "    30% {\n",
              "      border-color: transparent;\n",
              "      border-left-color: var(--fill-color);\n",
              "      border-top-color: var(--fill-color);\n",
              "      border-right-color: var(--fill-color);\n",
              "    }\n",
              "    40% {\n",
              "      border-color: transparent;\n",
              "      border-right-color: var(--fill-color);\n",
              "      border-top-color: var(--fill-color);\n",
              "    }\n",
              "    60% {\n",
              "      border-color: transparent;\n",
              "      border-right-color: var(--fill-color);\n",
              "    }\n",
              "    80% {\n",
              "      border-color: transparent;\n",
              "      border-right-color: var(--fill-color);\n",
              "      border-bottom-color: var(--fill-color);\n",
              "    }\n",
              "    90% {\n",
              "      border-color: transparent;\n",
              "      border-bottom-color: var(--fill-color);\n",
              "    }\n",
              "  }\n",
              "</style>\n",
              "\n",
              "  <script>\n",
              "    async function quickchart(key) {\n",
              "      const quickchartButtonEl =\n",
              "        document.querySelector('#' + key + ' button');\n",
              "      quickchartButtonEl.disabled = true;  // To prevent multiple clicks.\n",
              "      quickchartButtonEl.classList.add('colab-df-spinner');\n",
              "      try {\n",
              "        const charts = await google.colab.kernel.invokeFunction(\n",
              "            'suggestCharts', [key], {});\n",
              "      } catch (error) {\n",
              "        console.error('Error during call to suggestCharts:', error);\n",
              "      }\n",
              "      quickchartButtonEl.classList.remove('colab-df-spinner');\n",
              "      quickchartButtonEl.classList.add('colab-df-quickchart-complete');\n",
              "    }\n",
              "    (() => {\n",
              "      let quickchartButtonEl =\n",
              "        document.querySelector('#df-f2c19305-8fc5-439b-b16b-ab878a6cd35c button');\n",
              "      quickchartButtonEl.style.display =\n",
              "        google.colab.kernel.accessAllowed ? 'block' : 'none';\n",
              "    })();\n",
              "  </script>\n",
              "</div>\n",
              "\n",
              "  <div id=\"id_dc889ca6-7398-473e-82a7-137d9698a2fa\">\n",
              "    <style>\n",
              "      .colab-df-generate {\n",
              "        background-color: #E8F0FE;\n",
              "        border: none;\n",
              "        border-radius: 50%;\n",
              "        cursor: pointer;\n",
              "        display: none;\n",
              "        fill: #1967D2;\n",
              "        height: 32px;\n",
              "        padding: 0 0 0 0;\n",
              "        width: 32px;\n",
              "      }\n",
              "\n",
              "      .colab-df-generate:hover {\n",
              "        background-color: #E2EBFA;\n",
              "        box-shadow: 0px 1px 2px rgba(60, 64, 67, 0.3), 0px 1px 3px 1px rgba(60, 64, 67, 0.15);\n",
              "        fill: #174EA6;\n",
              "      }\n",
              "\n",
              "      [theme=dark] .colab-df-generate {\n",
              "        background-color: #3B4455;\n",
              "        fill: #D2E3FC;\n",
              "      }\n",
              "\n",
              "      [theme=dark] .colab-df-generate:hover {\n",
              "        background-color: #434B5C;\n",
              "        box-shadow: 0px 1px 3px 1px rgba(0, 0, 0, 0.15);\n",
              "        filter: drop-shadow(0px 1px 2px rgba(0, 0, 0, 0.3));\n",
              "        fill: #FFFFFF;\n",
              "      }\n",
              "    </style>\n",
              "    <button class=\"colab-df-generate\" onclick=\"generateWithVariable('pop_gdf')\"\n",
              "            title=\"Generate code using this dataframe.\"\n",
              "            style=\"display:none;\">\n",
              "\n",
              "  <svg xmlns=\"http://www.w3.org/2000/svg\" height=\"24px\"viewBox=\"0 0 24 24\"\n",
              "       width=\"24px\">\n",
              "    <path d=\"M7,19H8.4L18.45,9,17,7.55,7,17.6ZM5,21V16.75L18.45,3.32a2,2,0,0,1,2.83,0l1.4,1.43a1.91,1.91,0,0,1,.58,1.4,1.91,1.91,0,0,1-.58,1.4L9.25,21ZM18.45,9,17,7.55Zm-12,3A5.31,5.31,0,0,0,4.9,8.1,5.31,5.31,0,0,0,1,6.5,5.31,5.31,0,0,0,4.9,4.9,5.31,5.31,0,0,0,6.5,1,5.31,5.31,0,0,0,8.1,4.9,5.31,5.31,0,0,0,12,6.5,5.46,5.46,0,0,0,6.5,12Z\"/>\n",
              "  </svg>\n",
              "    </button>\n",
              "    <script>\n",
              "      (() => {\n",
              "      const buttonEl =\n",
              "        document.querySelector('#id_dc889ca6-7398-473e-82a7-137d9698a2fa button.colab-df-generate');\n",
              "      buttonEl.style.display =\n",
              "        google.colab.kernel.accessAllowed ? 'block' : 'none';\n",
              "\n",
              "      buttonEl.onclick = () => {\n",
              "        google.colab.notebook.generateWithVariable('pop_gdf');\n",
              "      }\n",
              "      })();\n",
              "    </script>\n",
              "  </div>\n",
              "\n",
              "    </div>\n",
              "  </div>\n"
            ],
            "application/vnd.google.colaboratory.intrinsic+json": {
              "type": "dataframe",
              "variable_name": "pop_gdf"
            }
          },
          "metadata": {},
          "execution_count": 7
        }
      ]
    },
    {
      "cell_type": "code",
      "source": [
        "pop_gdf['ID'] = pop_df.index\n",
        "pop_gdf.head()"
      ],
      "metadata": {
        "colab": {
          "base_uri": "https://localhost:8080/",
          "height": 206
        },
        "id": "e-dbFIayB34j",
        "outputId": "64724d41-c2bd-4374-c60c-759659bbacc6"
      },
      "execution_count": 8,
      "outputs": [
        {
          "output_type": "execute_result",
          "data": {
            "text/plain": [
              "         Lat        Lon  Population                   geometry  ID\n",
              "0  44.215417  19.839028    0.496571  POINT (19.83903 44.21542)   0\n",
              "1  44.917639  20.304028    6.588225  POINT (20.30403 44.91764)   1\n",
              "2  44.900972  20.282361    6.588225  POINT (20.28236 44.90097)   2\n",
              "3  44.903472  20.287083    6.588225  POINT (20.28708 44.90347)   3\n",
              "4  44.857917  20.335417    6.588225  POINT (20.33542 44.85792)   4"
            ],
            "text/html": [
              "\n",
              "  <div id=\"df-b1a188e1-e1c7-473a-9131-f1511ede7273\" class=\"colab-df-container\">\n",
              "    <div>\n",
              "<style scoped>\n",
              "    .dataframe tbody tr th:only-of-type {\n",
              "        vertical-align: middle;\n",
              "    }\n",
              "\n",
              "    .dataframe tbody tr th {\n",
              "        vertical-align: top;\n",
              "    }\n",
              "\n",
              "    .dataframe thead th {\n",
              "        text-align: right;\n",
              "    }\n",
              "</style>\n",
              "<table border=\"1\" class=\"dataframe\">\n",
              "  <thead>\n",
              "    <tr style=\"text-align: right;\">\n",
              "      <th></th>\n",
              "      <th>Lat</th>\n",
              "      <th>Lon</th>\n",
              "      <th>Population</th>\n",
              "      <th>geometry</th>\n",
              "      <th>ID</th>\n",
              "    </tr>\n",
              "  </thead>\n",
              "  <tbody>\n",
              "    <tr>\n",
              "      <th>0</th>\n",
              "      <td>44.215417</td>\n",
              "      <td>19.839028</td>\n",
              "      <td>0.496571</td>\n",
              "      <td>POINT (19.83903 44.21542)</td>\n",
              "      <td>0</td>\n",
              "    </tr>\n",
              "    <tr>\n",
              "      <th>1</th>\n",
              "      <td>44.917639</td>\n",
              "      <td>20.304028</td>\n",
              "      <td>6.588225</td>\n",
              "      <td>POINT (20.30403 44.91764)</td>\n",
              "      <td>1</td>\n",
              "    </tr>\n",
              "    <tr>\n",
              "      <th>2</th>\n",
              "      <td>44.900972</td>\n",
              "      <td>20.282361</td>\n",
              "      <td>6.588225</td>\n",
              "      <td>POINT (20.28236 44.90097)</td>\n",
              "      <td>2</td>\n",
              "    </tr>\n",
              "    <tr>\n",
              "      <th>3</th>\n",
              "      <td>44.903472</td>\n",
              "      <td>20.287083</td>\n",
              "      <td>6.588225</td>\n",
              "      <td>POINT (20.28708 44.90347)</td>\n",
              "      <td>3</td>\n",
              "    </tr>\n",
              "    <tr>\n",
              "      <th>4</th>\n",
              "      <td>44.857917</td>\n",
              "      <td>20.335417</td>\n",
              "      <td>6.588225</td>\n",
              "      <td>POINT (20.33542 44.85792)</td>\n",
              "      <td>4</td>\n",
              "    </tr>\n",
              "  </tbody>\n",
              "</table>\n",
              "</div>\n",
              "    <div class=\"colab-df-buttons\">\n",
              "\n",
              "  <div class=\"colab-df-container\">\n",
              "    <button class=\"colab-df-convert\" onclick=\"convertToInteractive('df-b1a188e1-e1c7-473a-9131-f1511ede7273')\"\n",
              "            title=\"Convert this dataframe to an interactive table.\"\n",
              "            style=\"display:none;\">\n",
              "\n",
              "  <svg xmlns=\"http://www.w3.org/2000/svg\" height=\"24px\" viewBox=\"0 -960 960 960\">\n",
              "    <path d=\"M120-120v-720h720v720H120Zm60-500h600v-160H180v160Zm220 220h160v-160H400v160Zm0 220h160v-160H400v160ZM180-400h160v-160H180v160Zm440 0h160v-160H620v160ZM180-180h160v-160H180v160Zm440 0h160v-160H620v160Z\"/>\n",
              "  </svg>\n",
              "    </button>\n",
              "\n",
              "  <style>\n",
              "    .colab-df-container {\n",
              "      display:flex;\n",
              "      gap: 12px;\n",
              "    }\n",
              "\n",
              "    .colab-df-convert {\n",
              "      background-color: #E8F0FE;\n",
              "      border: none;\n",
              "      border-radius: 50%;\n",
              "      cursor: pointer;\n",
              "      display: none;\n",
              "      fill: #1967D2;\n",
              "      height: 32px;\n",
              "      padding: 0 0 0 0;\n",
              "      width: 32px;\n",
              "    }\n",
              "\n",
              "    .colab-df-convert:hover {\n",
              "      background-color: #E2EBFA;\n",
              "      box-shadow: 0px 1px 2px rgba(60, 64, 67, 0.3), 0px 1px 3px 1px rgba(60, 64, 67, 0.15);\n",
              "      fill: #174EA6;\n",
              "    }\n",
              "\n",
              "    .colab-df-buttons div {\n",
              "      margin-bottom: 4px;\n",
              "    }\n",
              "\n",
              "    [theme=dark] .colab-df-convert {\n",
              "      background-color: #3B4455;\n",
              "      fill: #D2E3FC;\n",
              "    }\n",
              "\n",
              "    [theme=dark] .colab-df-convert:hover {\n",
              "      background-color: #434B5C;\n",
              "      box-shadow: 0px 1px 3px 1px rgba(0, 0, 0, 0.15);\n",
              "      filter: drop-shadow(0px 1px 2px rgba(0, 0, 0, 0.3));\n",
              "      fill: #FFFFFF;\n",
              "    }\n",
              "  </style>\n",
              "\n",
              "    <script>\n",
              "      const buttonEl =\n",
              "        document.querySelector('#df-b1a188e1-e1c7-473a-9131-f1511ede7273 button.colab-df-convert');\n",
              "      buttonEl.style.display =\n",
              "        google.colab.kernel.accessAllowed ? 'block' : 'none';\n",
              "\n",
              "      async function convertToInteractive(key) {\n",
              "        const element = document.querySelector('#df-b1a188e1-e1c7-473a-9131-f1511ede7273');\n",
              "        const dataTable =\n",
              "          await google.colab.kernel.invokeFunction('convertToInteractive',\n",
              "                                                    [key], {});\n",
              "        if (!dataTable) return;\n",
              "\n",
              "        const docLinkHtml = 'Like what you see? Visit the ' +\n",
              "          '<a target=\"_blank\" href=https://colab.research.google.com/notebooks/data_table.ipynb>data table notebook</a>'\n",
              "          + ' to learn more about interactive tables.';\n",
              "        element.innerHTML = '';\n",
              "        dataTable['output_type'] = 'display_data';\n",
              "        await google.colab.output.renderOutput(dataTable, element);\n",
              "        const docLink = document.createElement('div');\n",
              "        docLink.innerHTML = docLinkHtml;\n",
              "        element.appendChild(docLink);\n",
              "      }\n",
              "    </script>\n",
              "  </div>\n",
              "\n",
              "\n",
              "<div id=\"df-907c0636-6d3c-48fc-8cb9-b589aa3f54bb\">\n",
              "  <button class=\"colab-df-quickchart\" onclick=\"quickchart('df-907c0636-6d3c-48fc-8cb9-b589aa3f54bb')\"\n",
              "            title=\"Suggest charts\"\n",
              "            style=\"display:none;\">\n",
              "\n",
              "<svg xmlns=\"http://www.w3.org/2000/svg\" height=\"24px\"viewBox=\"0 0 24 24\"\n",
              "     width=\"24px\">\n",
              "    <g>\n",
              "        <path d=\"M19 3H5c-1.1 0-2 .9-2 2v14c0 1.1.9 2 2 2h14c1.1 0 2-.9 2-2V5c0-1.1-.9-2-2-2zM9 17H7v-7h2v7zm4 0h-2V7h2v10zm4 0h-2v-4h2v4z\"/>\n",
              "    </g>\n",
              "</svg>\n",
              "  </button>\n",
              "\n",
              "<style>\n",
              "  .colab-df-quickchart {\n",
              "      --bg-color: #E8F0FE;\n",
              "      --fill-color: #1967D2;\n",
              "      --hover-bg-color: #E2EBFA;\n",
              "      --hover-fill-color: #174EA6;\n",
              "      --disabled-fill-color: #AAA;\n",
              "      --disabled-bg-color: #DDD;\n",
              "  }\n",
              "\n",
              "  [theme=dark] .colab-df-quickchart {\n",
              "      --bg-color: #3B4455;\n",
              "      --fill-color: #D2E3FC;\n",
              "      --hover-bg-color: #434B5C;\n",
              "      --hover-fill-color: #FFFFFF;\n",
              "      --disabled-bg-color: #3B4455;\n",
              "      --disabled-fill-color: #666;\n",
              "  }\n",
              "\n",
              "  .colab-df-quickchart {\n",
              "    background-color: var(--bg-color);\n",
              "    border: none;\n",
              "    border-radius: 50%;\n",
              "    cursor: pointer;\n",
              "    display: none;\n",
              "    fill: var(--fill-color);\n",
              "    height: 32px;\n",
              "    padding: 0;\n",
              "    width: 32px;\n",
              "  }\n",
              "\n",
              "  .colab-df-quickchart:hover {\n",
              "    background-color: var(--hover-bg-color);\n",
              "    box-shadow: 0 1px 2px rgba(60, 64, 67, 0.3), 0 1px 3px 1px rgba(60, 64, 67, 0.15);\n",
              "    fill: var(--button-hover-fill-color);\n",
              "  }\n",
              "\n",
              "  .colab-df-quickchart-complete:disabled,\n",
              "  .colab-df-quickchart-complete:disabled:hover {\n",
              "    background-color: var(--disabled-bg-color);\n",
              "    fill: var(--disabled-fill-color);\n",
              "    box-shadow: none;\n",
              "  }\n",
              "\n",
              "  .colab-df-spinner {\n",
              "    border: 2px solid var(--fill-color);\n",
              "    border-color: transparent;\n",
              "    border-bottom-color: var(--fill-color);\n",
              "    animation:\n",
              "      spin 1s steps(1) infinite;\n",
              "  }\n",
              "\n",
              "  @keyframes spin {\n",
              "    0% {\n",
              "      border-color: transparent;\n",
              "      border-bottom-color: var(--fill-color);\n",
              "      border-left-color: var(--fill-color);\n",
              "    }\n",
              "    20% {\n",
              "      border-color: transparent;\n",
              "      border-left-color: var(--fill-color);\n",
              "      border-top-color: var(--fill-color);\n",
              "    }\n",
              "    30% {\n",
              "      border-color: transparent;\n",
              "      border-left-color: var(--fill-color);\n",
              "      border-top-color: var(--fill-color);\n",
              "      border-right-color: var(--fill-color);\n",
              "    }\n",
              "    40% {\n",
              "      border-color: transparent;\n",
              "      border-right-color: var(--fill-color);\n",
              "      border-top-color: var(--fill-color);\n",
              "    }\n",
              "    60% {\n",
              "      border-color: transparent;\n",
              "      border-right-color: var(--fill-color);\n",
              "    }\n",
              "    80% {\n",
              "      border-color: transparent;\n",
              "      border-right-color: var(--fill-color);\n",
              "      border-bottom-color: var(--fill-color);\n",
              "    }\n",
              "    90% {\n",
              "      border-color: transparent;\n",
              "      border-bottom-color: var(--fill-color);\n",
              "    }\n",
              "  }\n",
              "</style>\n",
              "\n",
              "  <script>\n",
              "    async function quickchart(key) {\n",
              "      const quickchartButtonEl =\n",
              "        document.querySelector('#' + key + ' button');\n",
              "      quickchartButtonEl.disabled = true;  // To prevent multiple clicks.\n",
              "      quickchartButtonEl.classList.add('colab-df-spinner');\n",
              "      try {\n",
              "        const charts = await google.colab.kernel.invokeFunction(\n",
              "            'suggestCharts', [key], {});\n",
              "      } catch (error) {\n",
              "        console.error('Error during call to suggestCharts:', error);\n",
              "      }\n",
              "      quickchartButtonEl.classList.remove('colab-df-spinner');\n",
              "      quickchartButtonEl.classList.add('colab-df-quickchart-complete');\n",
              "    }\n",
              "    (() => {\n",
              "      let quickchartButtonEl =\n",
              "        document.querySelector('#df-907c0636-6d3c-48fc-8cb9-b589aa3f54bb button');\n",
              "      quickchartButtonEl.style.display =\n",
              "        google.colab.kernel.accessAllowed ? 'block' : 'none';\n",
              "    })();\n",
              "  </script>\n",
              "</div>\n",
              "\n",
              "    </div>\n",
              "  </div>\n"
            ],
            "application/vnd.google.colaboratory.intrinsic+json": {
              "type": "dataframe",
              "variable_name": "pop_gdf"
            }
          },
          "metadata": {},
          "execution_count": 8
        }
      ]
    },
    {
      "cell_type": "code",
      "source": [
        "print('Total Population:',round(pop_gdf['Population'].sum()/1000000,2),'million')"
      ],
      "metadata": {
        "colab": {
          "base_uri": "https://localhost:8080/"
        },
        "id": "mdB0xE4NnuZh",
        "outputId": "b6a26b26-95b3-4e3b-a712-32b80fcdf8ca"
      },
      "execution_count": 10,
      "outputs": [
        {
          "output_type": "stream",
          "name": "stdout",
          "text": [
            "Total Population: 6.64 million\n"
          ]
        }
      ]
    },
    {
      "cell_type": "code",
      "source": [
        "pop_gdf = pop_gdf.rename(columns={'Lat': 'lat', 'Lon': 'lon'})\n",
        "gdf = gdf[['GID_2', 'NAME_2', 'ENGTYPE_2', 'geometry']]"
      ],
      "metadata": {
        "id": "dOQSJSEGoaM1"
      },
      "execution_count": 11,
      "outputs": []
    },
    {
      "cell_type": "code",
      "source": [
        "population_aoi = gpd.sjoin(pop_gdf, gdf, predicate='within',\n",
        "                           how = 'inner')"
      ],
      "metadata": {
        "id": "p5sKg9gjpOIE"
      },
      "execution_count": 12,
      "outputs": []
    },
    {
      "cell_type": "code",
      "source": [
        "#population_aoi.head()\n",
        "print('Total Population:',round(population_aoi['Population'].sum()/1000000,2),'million')"
      ],
      "metadata": {
        "colab": {
          "base_uri": "https://localhost:8080/"
        },
        "id": "4CHbyKd27xeJ",
        "outputId": "eb3eda87-35aa-452e-f3c8-b0d0230eabe1"
      },
      "execution_count": null,
      "outputs": [
        {
          "output_type": "stream",
          "name": "stdout",
          "text": [
            "Total Population: 6.64 million\n"
          ]
        }
      ]
    },
    {
      "cell_type": "markdown",
      "source": [
        "**Extracting Hospital Data from OpenStreetMap using Overpass API**"
      ],
      "metadata": {
        "id": "sSdl6_Ui3f8q"
      }
    },
    {
      "cell_type": "code",
      "source": [
        "import requests\n",
        "\n",
        "overpass_url = \"http://overpass-api.de/api/interpreter\"\n",
        "overpass_query = \"\"\"\n",
        "[out:json];\n",
        "area[\"ISO3166-1\"=\"RS\"];\n",
        "(node[\"amenity\"=\"hospital\"](area);\n",
        " way[\"amenity\"=\"hospital\"](area);\n",
        " rel[\"amenity\"=\"hospital\"](area);\n",
        ");\n",
        "out center;\n",
        "\"\"\"\n",
        "response = requests.get(overpass_url,\n",
        "                        params={'data': overpass_query})\n",
        "data = response.json()\n",
        "\n",
        "df_hospitals = pd.DataFrame(data['elements'])\n",
        "\n",
        "df_hospitals['name'] = df_hospitals['tags'].apply(lambda x:x['name'] if 'name' in list(x.keys()) else None)\n",
        "\n",
        "df_hospitals = df_hospitals[['id','lat','lon','name']].drop_duplicates()\n",
        "\n",
        "overpass_url = \"http://overpass-api.de/api/interpreter\"\n",
        "overpass_query = \"\"\"\n",
        "[out:json];\n",
        "area[\"ISO3166-1\"=\"RS\"];\n",
        "(node[\"amenity\"=\"clinic\"](area);\n",
        " way[\"amenity\"=\"clinic\"](area);\n",
        " rel[\"amenity\"=\"clinic\"](area);\n",
        ");\n",
        "out center;\n",
        "\"\"\"\n",
        "response = requests.get(overpass_url,\n",
        "                        params={'data': overpass_query})\n",
        "data = response.json()\n",
        "\n",
        "df_clinics = pd.DataFrame(data['elements'])\n",
        "df_clinics['name'] = df_clinics['tags'].apply(lambda x:x['name'] if 'name' in list(x.keys()) else None)\n",
        "df_clinics['amenity'] = df_clinics['tags'].apply(lambda x: x['healthcare'] if 'healthcare' in list(x.keys()) else None)\n",
        "\n",
        "df_clinics = df_clinics[['id','lat','lon','name','amenity']].drop_duplicates()\n",
        "\n",
        "df_health_osm = pd.concat([df_hospitals,df_clinics])\n",
        "df_health_osm = gpd.GeoDataFrame(df_health_osm, geometry=gpd.points_from_xy(df_health_osm.lon, df_health_osm.lat))\n",
        "df_health_osm = df_health_osm[['id','name','geometry']]\n",
        "\n",
        "print('Number of hospitals and clinics extracted:',len(df_health_osm))"
      ],
      "metadata": {
        "colab": {
          "base_uri": "https://localhost:8080/"
        },
        "id": "PlH_sOuHka_Y",
        "outputId": "51293bf8-44a6-4fc5-e2e1-bb4aee980460"
      },
      "execution_count": 14,
      "outputs": [
        {
          "output_type": "stream",
          "name": "stdout",
          "text": [
            "Number of hospitals and clinics extracted: 534\n"
          ]
        }
      ]
    },
    {
      "cell_type": "code",
      "source": [
        "##### Relook at what is happening here, doesn't feel right ####\n",
        "df_health_osm = df_health_osm.set_crs(gdf.crs)\n",
        "selected_hosp = gpd.sjoin(df_health_osm, gdf, predicate='within')"
      ],
      "metadata": {
        "id": "PDVku8H9xKs7"
      },
      "execution_count": 16,
      "outputs": []
    },
    {
      "cell_type": "code",
      "source": [
        "len(selected_hosp)"
      ],
      "metadata": {
        "colab": {
          "base_uri": "https://localhost:8080/"
        },
        "id": "zkAJ0XWdyKGS",
        "outputId": "8bd34dd9-8c5e-40d3-cdb9-758bf46c9abf"
      },
      "execution_count": 17,
      "outputs": [
        {
          "output_type": "execute_result",
          "data": {
            "text/plain": [
              "234"
            ]
          },
          "metadata": {},
          "execution_count": 17
        }
      ]
    },
    {
      "cell_type": "code",
      "source": [
        "#Save the HealthCare Facilities in Serbia CSV file\n",
        "from io import BytesIO\n",
        "\n",
        "# Convert DataFrame to CSV in memory\n",
        "csv_buffer = BytesIO()\n",
        "selected_hosp.to_csv(csv_buffer, index=False)\n",
        "\n",
        "# Move the buffer's position to the beginning\n",
        "csv_buffer.seek(0)\n",
        "\n",
        "def upload_csv_to_gcs(bucket_name, destination_blob_name, file_buffer):\n",
        "    \"\"\"Uploads a file from a buffer to Google Cloud Storage.\"\"\"\n",
        "    storage_client = storage.Client()\n",
        "    bucket = storage_client.bucket(bucket_name)\n",
        "    blob = bucket.blob(destination_blob_name)\n",
        "\n",
        "    # Upload the file-like object (buffer)\n",
        "    blob.upload_from_file(file_buffer, content_type='text/csv')\n",
        "    print(f\"File uploaded to {destination_blob_name}.\")\n",
        "\n",
        "# Define your GCS bucket name and destination path\n",
        "destination_blob_name = 'RS/processed-data/healthcare-facilities-withpopulationaccess.csv'\n",
        "\n",
        "# Upload the CSV from the buffer directly\n",
        "upload_csv_to_gcs(bucket_name, destination_blob_name, csv_buffer)\n"
      ],
      "metadata": {
        "colab": {
          "base_uri": "https://localhost:8080/"
        },
        "id": "PHpBJ7f9n-3M",
        "outputId": "d5905215-1b00-497d-b129-41336f3da6e1"
      },
      "execution_count": 32,
      "outputs": [
        {
          "output_type": "stream",
          "name": "stdout",
          "text": [
            "File uploaded to RS/processed-data/healthcare-facilities-withpopulationaccess.csv.\n"
          ]
        }
      ]
    },
    {
      "cell_type": "markdown",
      "source": [
        "**Accessibility Analysis - Using Open Route Service API**"
      ],
      "metadata": {
        "id": "uSVVfkHqC_cf"
      }
    },
    {
      "cell_type": "code",
      "source": [
        "def get_isochrone_osm (each_hosp,travel_time_secs):\n",
        "  body = {\"locations\":[[each_hosp.x,each_hosp.y]],\"range\":[travel_time_secs],\"range_type\":'time'}\n",
        "  headers = {\n",
        "      'Accept': 'application/json, application/geo+json, application/gpx+xml, img/png; charset=utf-8',\n",
        "      'Authorization': '5b3ce3597851110001cf624866056989d35f40c7bbb5d14df6969a1f',\n",
        "      'Content-Type': 'application/json; charset=utf-8'\n",
        "  }\n",
        "  call = requests.post('https://api.openrouteservice.org/v2/isochrones/foot-walking', json=body, headers=headers)\n",
        "\n",
        "  if(call.status_code==200):\n",
        "    #print(\"here\")\n",
        "    geom = (json.loads(call.text)['features'][0]['geometry'])\n",
        "    polygon_geom = Polygon(geom['coordinates'][0])\n",
        "    attempts_per_minute =+1\n",
        "    return polygon_geom\n",
        "\n",
        "  else:\n",
        "    #print(\"wtf is this\")\n",
        "    return None"
      ],
      "metadata": {
        "id": "J7mAY2rZC-7d"
      },
      "execution_count": 19,
      "outputs": []
    },
    {
      "cell_type": "code",
      "source": [
        "# How do we want to define the Travel Time as \"Accessible\"?\n",
        "\n",
        "#The API is limited to 20 Attempts per minute\n",
        "#Each iteration, time.sleep(3)\n",
        "cachement_area_osm = list()\n",
        "\n",
        "for geom in selected_hosp['geometry']:\n",
        "  accesible_area = get_isochrone_osm(geom, travel_time_secs=3600)\n",
        "  cachement_area_osm.append(accesible_area)\n",
        "  time.sleep(3)\n",
        "\n",
        "selected_hosp['cachment_area_osm'] = cachement_area_osm"
      ],
      "metadata": {
        "id": "PgjRulyG_v7o"
      },
      "execution_count": null,
      "outputs": []
    },
    {
      "cell_type": "code",
      "source": [
        "#Get Population Count of People with Access to Hospital\n",
        "def get_pop_count(cachment,pop_data):\n",
        "  if(cachment!=None):\n",
        "    pop_access = pop_data[pop_data.within(cachment)]\n",
        "    id_values = (pop_access['ID'].values)\n",
        "    pop_with_access = (pop_access['Population'].sum().round())\n",
        "    return id_values,pop_with_access\n",
        "  else:\n",
        "    return [None,None]"
      ],
      "metadata": {
        "id": "UCi6Jm9ONr9V"
      },
      "execution_count": 23,
      "outputs": []
    },
    {
      "cell_type": "code",
      "source": [
        "#!pip install tqdm\n",
        "from tqdm import tqdm\n",
        "tqdm.pandas()\n",
        "\n",
        "selected_hosp['id_with_access'], selected_hosp['pop_with_access'] = zip(*selected_hosp['cachment_area_osm'].progress_apply(get_pop_count, pop_data=population_aoi))"
      ],
      "metadata": {
        "colab": {
          "base_uri": "https://localhost:8080/"
        },
        "id": "ZsA-lcsRvqmM",
        "outputId": "215d2260-6531-45f4-89b3-27b64f5c5eda"
      },
      "execution_count": 25,
      "outputs": [
        {
          "output_type": "stream",
          "name": "stderr",
          "text": [
            "100%|██████████| 234/234 [04:56<00:00,  1.27s/it]\n"
          ]
        }
      ]
    },
    {
      "cell_type": "markdown",
      "source": [
        "**Aggregate Per Region to Identify % of Population with Access**"
      ],
      "metadata": {
        "id": "hhgP_VgrQNhk"
      }
    },
    {
      "cell_type": "code",
      "source": [
        "'''\n",
        "# This is how we make sure we aren't double counting\n",
        "# This is done for the entire poppulation, need to do it per Municipal Region\n",
        "\n",
        "list_ids_access = list(selected_hosp_temp['id_with_access'].values)\n",
        "\n",
        "#This function takes a single iterable as an argument and all the elements of the input iterable should also be iterable\n",
        "#and it returns a flattened iterable containing all the elements of the input iterable\n",
        "list_ids_access = list(itertools.chain.from_iterable(list_ids_access))\n",
        "\n",
        "#Limits the df to the population id that have access\n",
        "pop_with_access = population_aoi[population_aoi['ID'].isin(list_ids_access)]\n",
        "pop_without_access = population_aoi[~population_aoi['ID'].isin(list_ids_access)]\n",
        "\n",
        "original_access = round(pop_with_access['Population'].sum()*100/population_aoi['Population'].sum(),2)\n",
        "\n",
        "#print('Population with Access:',round(pop_with_access['Population'].sum()*100/population_aoi['Population'].sum(),2),'%')\n",
        "'''"
      ],
      "metadata": {
        "id": "a4bNjib8DxWh"
      },
      "execution_count": null,
      "outputs": []
    },
    {
      "cell_type": "code",
      "source": [
        "accessibility_df = list()"
      ],
      "metadata": {
        "id": "SNhaO901Ui8S"
      },
      "execution_count": 76,
      "outputs": []
    },
    {
      "cell_type": "code",
      "source": [
        "year = '2024'\n",
        "municipalities = population_aoi['GID_2'].unique()\n",
        "\n",
        "for municipality in municipalities:\n",
        "  selected_hosp_temp = selected_hosp[selected_hosp['GID_2'] == municipality]\n",
        "  population_aoi_temp = population_aoi[population_aoi['GID_2'] == municipality]\n",
        "\n",
        "  list_ids_access = list(selected_hosp_temp['id_with_access'].values)\n",
        "\n",
        "  if not list_ids_access:\n",
        "    pop_accessibility = 0\n",
        "\n",
        "  else:\n",
        "\n",
        "    # Assuming list_ids_access is a list of lists and may contain None\n",
        "    list_ids_access = [x for x in list_ids_access if x is not None]\n",
        "    list_ids_access = list(itertools.chain.from_iterable(list_ids_access))\n",
        "\n",
        "    pop_with_access = population_aoi_temp[population_aoi_temp['ID'].isin(list_ids_access)]\n",
        "    pop_without_access = population_aoi_temp[~population_aoi_temp['ID'].isin(list_ids_access)]\n",
        "\n",
        "    pop_accessibility = round(pop_with_access['Population'].sum()*100/population_aoi_temp['Population'].sum(),2)\n",
        "\n",
        "  accessibility_df.append([municipality, year, pop_accessibility])"
      ],
      "metadata": {
        "id": "qI_mYQB6UcST",
        "colab": {
          "base_uri": "https://localhost:8080/"
        },
        "outputId": "70a0a733-9a2e-4177-c8dc-ddfa5ab0d180"
      },
      "execution_count": 77,
      "outputs": [
        {
          "output_type": "stream",
          "name": "stderr",
          "text": [
            "<ipython-input-77-43b042ef9a03>:22: RuntimeWarning: invalid value encountered in scalar divide\n",
            "  pop_accessibility = round(pop_with_access['Population'].sum()*100/population_aoi_temp['Population'].sum(),2)\n"
          ]
        }
      ]
    },
    {
      "cell_type": "code",
      "source": [
        "# Define column names\n",
        "columns = ['GID_2', 'Year', 'healthcare-accessibility']\n",
        "\n",
        "# Create DataFrame\n",
        "df = pd.DataFrame(accessibility_df, columns=columns)"
      ],
      "metadata": {
        "colab": {
          "base_uri": "https://localhost:8080/"
        },
        "id": "GvB48LFP7Qx8",
        "outputId": "9b706d6d-e09f-42d5-9fe6-2ade9cf321f6"
      },
      "execution_count": 81,
      "outputs": [
        {
          "output_type": "stream",
          "name": "stdout",
          "text": [
            "          GID_2  Year  healthcare-accessibility\n",
            "0     SRB.7.6_1  2024                      0.00\n",
            "1     SRB.3.8_1  2024                     89.45\n",
            "2    SRB.3.16_1  2024                     46.77\n",
            "3    SRB.20.6_1  2024                      0.00\n",
            "4    SRB.20.4_1  2024                      0.00\n",
            "..          ...   ...                       ...\n",
            "156   SRB.5.3_1  2024                     52.50\n",
            "157  SRB.18.6_1  2024                      0.00\n",
            "158  SRB.18.1_1  2024                      0.00\n",
            "159  SRB.18.2_1  2024                     26.14\n",
            "160   SRB.4.2_1  2024                      0.00\n",
            "\n",
            "[161 rows x 3 columns]\n"
          ]
        }
      ]
    },
    {
      "cell_type": "code",
      "source": [
        "df = df.merge(center[['GID_2', 'NAME_2']],\n",
        "              how = 'left')\n",
        "\n",
        "# Define new column order\n",
        "new_column_order = ['GID_2', 'NAME_2', 'Year', 'healthcare-accessibility']\n",
        "\n",
        "# Reorder columns\n",
        "df = df[new_column_order]"
      ],
      "metadata": {
        "id": "jg0JoSrV7r-K"
      },
      "execution_count": 89,
      "outputs": []
    },
    {
      "cell_type": "code",
      "source": [
        "#Save the HealthCare Facilities in Serbia CSV file\n",
        "from io import BytesIO\n",
        "\n",
        "# Convert DataFrame to CSV in memory\n",
        "csv_buffer = BytesIO()\n",
        "df.to_csv(csv_buffer, index=False)\n",
        "\n",
        "# Move the buffer's position to the beginning\n",
        "csv_buffer.seek(0)\n",
        "\n",
        "def upload_csv_to_gcs(bucket_name, destination_blob_name, file_buffer):\n",
        "    \"\"\"Uploads a file from a buffer to Google Cloud Storage.\"\"\"\n",
        "    storage_client = storage.Client()\n",
        "    bucket = storage_client.bucket(bucket_name)\n",
        "    blob = bucket.blob(destination_blob_name)\n",
        "\n",
        "    # Upload the file-like object (buffer)\n",
        "    blob.upload_from_file(file_buffer, content_type='text/csv')\n",
        "    print(f\"File uploaded to {destination_blob_name}.\")\n",
        "\n",
        "# Define your GCS bucket name and destination path\n",
        "destination_blob_name = 'RS/processed-data/SRB_access_tohealthcarefacilities.csv'\n",
        "\n",
        "# Upload the CSV from the buffer directly\n",
        "upload_csv_to_gcs(bucket_name, destination_blob_name, csv_buffer)"
      ],
      "metadata": {
        "colab": {
          "base_uri": "https://localhost:8080/"
        },
        "id": "6qfVLjZR8RRV",
        "outputId": "7124eec8-ce9a-4cc8-e6c1-cf9845658150"
      },
      "execution_count": 91,
      "outputs": [
        {
          "output_type": "stream",
          "name": "stdout",
          "text": [
            "File uploaded to RS/processed-data/SRB_access_tohealthcarefacilities.csv.\n"
          ]
        }
      ]
    }
  ]
}
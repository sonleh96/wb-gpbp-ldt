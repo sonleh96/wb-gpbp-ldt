{
  "nbformat": 4,
  "nbformat_minor": 0,
  "metadata": {
    "colab": {
      "provenance": [],
      "authorship_tag": "ABX9TyOQ15G251rDEsntmrLDid7T",
      "include_colab_link": true
    },
    "kernelspec": {
      "name": "python3",
      "display_name": "Python 3"
    },
    "language_info": {
      "name": "python"
    }
  },
  "cells": [
    {
      "cell_type": "markdown",
      "metadata": {
        "id": "view-in-github",
        "colab_type": "text"
      },
      "source": [
        "<a href=\"https://colab.research.google.com/github/sonleh96/wb-gpbp-ldt/blob/dev-ghinwa/Total_Methane_Emissions_2022_District.ipynb\" target=\"_parent\"><img src=\"https://colab.research.google.com/assets/colab-badge.svg\" alt=\"Open In Colab\"/></a>"
      ]
    },
    {
      "cell_type": "code",
      "source": [
        "#Libraries Needed\n",
        "import geopandas as gpd\n",
        "import pandas as pd\n",
        "from google.cloud import storage\n",
        "from io import StringIO\n",
        "\n",
        "from shapely.geometry import Point"
      ],
      "metadata": {
        "id": "berhV9H1_WJb"
      },
      "execution_count": 1,
      "outputs": []
    },
    {
      "cell_type": "code",
      "source": [
        "from google.colab import auth\n",
        "auth.authenticate_user()"
      ],
      "metadata": {
        "id": "b7fwp7vp_V7p"
      },
      "execution_count": 2,
      "outputs": []
    },
    {
      "cell_type": "code",
      "execution_count": 3,
      "metadata": {
        "id": "tuOLWEWs-POb"
      },
      "outputs": [],
      "source": [
        "# Create a client\n",
        "client = storage.Client()\n",
        "\n",
        "# Access the Google Cloud Storage bucket\n",
        "bucket_name = 'wb-ldt'\n",
        "bucket = client.get_bucket(bucket_name)\n",
        "\n",
        "# Define the folder path in the bucket (ensure it ends with '/')\n",
        "folder_path = 'RS/raw-data/geospatial/climate-trace-emissions/filtered_emissions_data/'"
      ]
    },
    {
      "cell_type": "markdown",
      "source": [
        "**Download Emissions Data**"
      ],
      "metadata": {
        "id": "YwJ41J5FI0pT"
      }
    },
    {
      "cell_type": "code",
      "source": [
        "files = list()\n",
        "\n",
        "blobs = bucket.list_blobs(prefix=folder_path)\n",
        "for i, blob in enumerate(blobs):\n",
        "  if i == 0:\n",
        "    continue  # Skip iteration when i == 1\n",
        "\n",
        "  else:\n",
        "    files.append(blob.name)"
      ],
      "metadata": {
        "id": "hP4ZfqvoDZJt"
      },
      "execution_count": 4,
      "outputs": []
    },
    {
      "cell_type": "code",
      "source": [
        "# List and read files into DataFrames\n",
        "blobs = bucket.list_blobs(prefix=folder_path)\n",
        "\n",
        "# Initialize an empty list to hold DataFrames\n",
        "df_list = []\n",
        "\n",
        "# Iterate through the blobs\n",
        "for i, blob in enumerate(blobs):\n",
        "    # Skip the first file, if needed\n",
        "    if i == 0:\n",
        "        continue\n",
        "    else:\n",
        "        # Read the content of the blob (assuming it's a CSV file)\n",
        "        blob_content = blob.download_as_text()  # Download content as a string\n",
        "\n",
        "        # Convert the content into a DataFrame\n",
        "        df = pd.read_csv(StringIO(blob_content))\n",
        "\n",
        "        # Append the DataFrame to the list\n",
        "        df_list.append(df)\n",
        "        print(f\"Read {blob.name} into a DataFrame\")\n",
        "\n",
        "# Concatenate all DataFrames into a single DataFrame\n",
        "final_df = pd.concat(df_list, ignore_index=True)\n",
        "final_df_cleaned = final_df.drop_duplicates()"
      ],
      "metadata": {
        "colab": {
          "base_uri": "https://localhost:8080/"
        },
        "id": "ncKzgh4oDw-T",
        "outputId": "dd059b7b-9227-4ae6-ab45-5c6613ed0012"
      },
      "execution_count": 5,
      "outputs": [
        {
          "output_type": "stream",
          "name": "stdout",
          "text": [
            "Read RS/raw-data/geospatial/climate-trace-emissions/filtered_emissions_data/cement_emissions_sources.csv into a DataFrame\n",
            "Read RS/raw-data/geospatial/climate-trace-emissions/filtered_emissions_data/coal-mining_emissions_sources.csv into a DataFrame\n",
            "Read RS/raw-data/geospatial/climate-trace-emissions/filtered_emissions_data/copper-mining_emissions_sources.csv into a DataFrame\n",
            "Read RS/raw-data/geospatial/climate-trace-emissions/filtered_emissions_data/cropland-fires_emissions_sources.csv into a DataFrame\n",
            "Read RS/raw-data/geospatial/climate-trace-emissions/filtered_emissions_data/domestic-aviation_emissions_sources.csv into a DataFrame\n",
            "Read RS/raw-data/geospatial/climate-trace-emissions/filtered_emissions_data/domestic-shipping_emissions_sources.csv into a DataFrame\n",
            "Read RS/raw-data/geospatial/climate-trace-emissions/filtered_emissions_data/electricity-generation_emissions_sources.csv into a DataFrame\n",
            "Read RS/raw-data/geospatial/climate-trace-emissions/filtered_emissions_data/enteric-fermentation-cattle-pasture_emissions_sources.csv into a DataFrame\n",
            "Read RS/raw-data/geospatial/climate-trace-emissions/filtered_emissions_data/forest-land-clearing_emissions_sources.csv into a DataFrame\n",
            "Read RS/raw-data/geospatial/climate-trace-emissions/filtered_emissions_data/forest-land-degradation_emissions_sources.csv into a DataFrame\n",
            "Read RS/raw-data/geospatial/climate-trace-emissions/filtered_emissions_data/forest-land-fires_emissions_sources.csv into a DataFrame\n",
            "Read RS/raw-data/geospatial/climate-trace-emissions/filtered_emissions_data/international-aviation_emissions_sources.csv into a DataFrame\n",
            "Read RS/raw-data/geospatial/climate-trace-emissions/filtered_emissions_data/international-shipping_emissions_sources.csv into a DataFrame\n",
            "Read RS/raw-data/geospatial/climate-trace-emissions/filtered_emissions_data/manure-left-on-pasture-cattle_emissions_sources.csv into a DataFrame\n",
            "Read RS/raw-data/geospatial/climate-trace-emissions/filtered_emissions_data/net-forest-land_emissions_sources.csv into a DataFrame\n",
            "Read RS/raw-data/geospatial/climate-trace-emissions/filtered_emissions_data/net-shrubgrass_emissions_sources.csv into a DataFrame\n",
            "Read RS/raw-data/geospatial/climate-trace-emissions/filtered_emissions_data/net-wetland_emissions_sources.csv into a DataFrame\n",
            "Read RS/raw-data/geospatial/climate-trace-emissions/filtered_emissions_data/oil-and-gas-production-and-transport_emissions_sources.csv into a DataFrame\n",
            "Read RS/raw-data/geospatial/climate-trace-emissions/filtered_emissions_data/removals_emissions_sources.csv into a DataFrame\n",
            "Read RS/raw-data/geospatial/climate-trace-emissions/filtered_emissions_data/road-transportation_emissions_sources.csv into a DataFrame\n",
            "Read RS/raw-data/geospatial/climate-trace-emissions/filtered_emissions_data/shrubgrass-fires_emissions_sources.csv into a DataFrame\n",
            "Read RS/raw-data/geospatial/climate-trace-emissions/filtered_emissions_data/solid-waste-disposal_emissions_sources.csv into a DataFrame\n",
            "Read RS/raw-data/geospatial/climate-trace-emissions/filtered_emissions_data/steel_emissions_sources.csv into a DataFrame\n",
            "Read RS/raw-data/geospatial/climate-trace-emissions/filtered_emissions_data/synthetic-fertilizer-application_emissions_sources.csv into a DataFrame\n",
            "Read RS/raw-data/geospatial/climate-trace-emissions/filtered_emissions_data/wastewater-treatment-and-discharge_emissions_sources.csv into a DataFrame\n",
            "Read RS/raw-data/geospatial/climate-trace-emissions/filtered_emissions_data/water-reservoirs_emissions_sources.csv into a DataFrame\n",
            "Read RS/raw-data/geospatial/climate-trace-emissions/filtered_emissions_data/wetland-fires_emissions_sources.csv into a DataFrame\n"
          ]
        }
      ]
    },
    {
      "cell_type": "code",
      "source": [
        "final_df['gas'].unique()"
      ],
      "metadata": {
        "colab": {
          "base_uri": "https://localhost:8080/"
        },
        "id": "jUHSuomJPDaP",
        "outputId": "8889aa11-0f74-4946-e9dc-e0da79ab4e15"
      },
      "execution_count": 6,
      "outputs": [
        {
          "output_type": "execute_result",
          "data": {
            "text/plain": [
              "array(['ch4', 'co2', 'co2e_100yr', 'co2e_20yr', 'n2o'], dtype=object)"
            ]
          },
          "metadata": {},
          "execution_count": 6
        }
      ]
    },
    {
      "cell_type": "code",
      "source": [
        "# Assuming 'date_column' is the column you want to convert\n",
        "final_df_cleaned['start_time'] = pd.to_datetime(final_df_cleaned['start_time'], errors='coerce')\n",
        "\n",
        "# Now filter for rows where the year is 2022\n",
        "final_df = final_df_cleaned[(final_df_cleaned['start_time'].dt.year == 2022) & (final_df_cleaned['gas'] == 'ch4')]\n",
        "final_df = final_df[['source_id', 'source_name', 'source_type', 'sector', 'subsector', 'lat', 'lon', 'geometry_ref', 'gas', 'emissions_quantity', 'emissions_factor', 'emissions_factor_units']]"
      ],
      "metadata": {
        "id": "xYO7DmOzAPEz"
      },
      "execution_count": 7,
      "outputs": []
    },
    {
      "cell_type": "code",
      "source": [
        "len(final_df_cleaned)"
      ],
      "metadata": {
        "colab": {
          "base_uri": "https://localhost:8080/"
        },
        "id": "SegYbwq0yC-F",
        "outputId": "aa41b69d-6d86-4cee-ffec-0f4ece401259"
      },
      "execution_count": 8,
      "outputs": [
        {
          "output_type": "execute_result",
          "data": {
            "text/plain": [
              "96530"
            ]
          },
          "metadata": {},
          "execution_count": 8
        }
      ]
    },
    {
      "cell_type": "code",
      "source": [
        "# Display the filtered DataFrame\n",
        "len(final_df)"
      ],
      "metadata": {
        "colab": {
          "base_uri": "https://localhost:8080/"
        },
        "id": "FcEEd0VtxNwG",
        "outputId": "92e2b4bd-0e12-420a-d66e-0117c580fa06"
      },
      "execution_count": 9,
      "outputs": [
        {
          "output_type": "execute_result",
          "data": {
            "text/plain": [
              "2594"
            ]
          },
          "metadata": {},
          "execution_count": 9
        }
      ]
    },
    {
      "cell_type": "code",
      "source": [
        "# Convert the DataFrame into a GeoDataFrame using lat and lon columns\n",
        "final_df['geometry'] = final_df.apply(lambda row: Point((row['lon'], row['lat'])), axis=1)\n",
        "\n",
        "# Define the GeoDataFrame with a coordinate reference system (CRS) such as WGS84 (EPSG:4326)\n",
        "final_df = gpd.GeoDataFrame(final_df, geometry='geometry', crs=\"EPSG:4326\")"
      ],
      "metadata": {
        "id": "rX97E-hXEvKj"
      },
      "execution_count": 10,
      "outputs": []
    },
    {
      "cell_type": "markdown",
      "source": [
        "**Serbia Shape File**"
      ],
      "metadata": {
        "id": "43ciDhvkI3SN"
      }
    },
    {
      "cell_type": "code",
      "source": [
        "#Name of Shape File\n",
        "file_path = \"shapefiles/gadm41_SRB_2.json\"\n",
        "gcs_file_path = 'gs://' + bucket_name + '/' + file_path\n",
        "\n",
        "#Read Shape File --> The shape file gives a MultiPolygon Geometry Column\n",
        "gdf = gpd.read_file(gcs_file_path)\n",
        "\n",
        "#Adjust for GeoSpatial Data\n",
        "center = gpd.GeoDataFrame(gdf[['GID_1', 'NAME_1']])\n",
        "\n",
        "#Change the MultiPolygon Geometry Column to make it more useful\n",
        "center['geometry'] = gdf.centroid\n",
        "center = center.to_crs(gdf.crs)\n",
        "center['lat'] = center.geometry.y\n",
        "center['lon'] = center.geometry.x"
      ],
      "metadata": {
        "colab": {
          "base_uri": "https://localhost:8080/"
        },
        "id": "VXgF_jgMFLaE",
        "outputId": "cb1f07d5-95b1-43a9-d63e-226f74cb644e"
      },
      "execution_count": 11,
      "outputs": [
        {
          "output_type": "stream",
          "name": "stderr",
          "text": [
            "<ipython-input-11-1085f8ed562d>:12: UserWarning: Geometry is in a geographic CRS. Results from 'centroid' are likely incorrect. Use 'GeoSeries.to_crs()' to re-project geometries to a projected CRS before this operation.\n",
            "\n",
            "  center['geometry'] = gdf.centroid\n",
            "<ipython-input-11-1085f8ed562d>:12: FutureWarning: You are adding a column named 'geometry' to a GeoDataFrame constructed without an active geometry column. Currently, this automatically sets the active geometry column to 'geometry' but in the future that will no longer happen. Instead, either provide geometry to the GeoDataFrame constructor (GeoDataFrame(... geometry=GeoSeries()) or use `set_geometry('geometry')` to explicitly set the active geometry column.\n",
            "  center['geometry'] = gdf.centroid\n"
          ]
        }
      ]
    },
    {
      "cell_type": "code",
      "source": [
        "emissions = gpd.sjoin(final_df, gdf, predicate = 'within',\n",
        "                      how = 'inner')"
      ],
      "metadata": {
        "id": "EQxhljEmI9jD"
      },
      "execution_count": 12,
      "outputs": []
    },
    {
      "cell_type": "code",
      "source": [
        "grouped_emissions = emissions.groupby(['GID_1', 'NAME_1', 'gas']).agg({\n",
        "    'emissions_quantity': 'sum',        # Sum of the 'Sales' column\n",
        "    'emissions_factor': 'mean'     # Average of the 'Quantity' column\n",
        "})"
      ],
      "metadata": {
        "id": "tUxVVAjSJ1-x"
      },
      "execution_count": 13,
      "outputs": []
    },
    {
      "cell_type": "code",
      "source": [
        "grouped_emissions = grouped_emissions.reset_index()\n",
        "#len(grouped_emissions)"
      ],
      "metadata": {
        "id": "hVY9kwoWKZZi"
      },
      "execution_count": 14,
      "outputs": []
    },
    {
      "cell_type": "code",
      "source": [
        "grouped_emissions.head()"
      ],
      "metadata": {
        "colab": {
          "base_uri": "https://localhost:8080/",
          "height": 206
        },
        "id": "hUoN7ZgBP69T",
        "outputId": "58ee9ba3-358c-4d74-f0a2-14232ac6ca35"
      },
      "execution_count": 15,
      "outputs": [
        {
          "output_type": "execute_result",
          "data": {
            "text/plain": [
              "      GID_1      NAME_1  gas  emissions_quantity  emissions_factor\n",
              "0  SRB.10_1    Nišavski  ch4         2748.110647          0.025564\n",
              "1  SRB.11_1    Pčinjski  ch4         3854.151237          0.028772\n",
              "2  SRB.12_1    Pirotski  ch4         1405.439611          0.028843\n",
              "3  SRB.13_1  Podunavski  ch4          449.602840          0.029000\n",
              "4  SRB.14_1  Pomoravski  ch4         5873.560229          0.028878"
            ],
            "text/html": [
              "\n",
              "  <div id=\"df-8494741b-5650-43c6-a601-22456c0f2ad7\" class=\"colab-df-container\">\n",
              "    <div>\n",
              "<style scoped>\n",
              "    .dataframe tbody tr th:only-of-type {\n",
              "        vertical-align: middle;\n",
              "    }\n",
              "\n",
              "    .dataframe tbody tr th {\n",
              "        vertical-align: top;\n",
              "    }\n",
              "\n",
              "    .dataframe thead th {\n",
              "        text-align: right;\n",
              "    }\n",
              "</style>\n",
              "<table border=\"1\" class=\"dataframe\">\n",
              "  <thead>\n",
              "    <tr style=\"text-align: right;\">\n",
              "      <th></th>\n",
              "      <th>GID_1</th>\n",
              "      <th>NAME_1</th>\n",
              "      <th>gas</th>\n",
              "      <th>emissions_quantity</th>\n",
              "      <th>emissions_factor</th>\n",
              "    </tr>\n",
              "  </thead>\n",
              "  <tbody>\n",
              "    <tr>\n",
              "      <th>0</th>\n",
              "      <td>SRB.10_1</td>\n",
              "      <td>Nišavski</td>\n",
              "      <td>ch4</td>\n",
              "      <td>2748.110647</td>\n",
              "      <td>0.025564</td>\n",
              "    </tr>\n",
              "    <tr>\n",
              "      <th>1</th>\n",
              "      <td>SRB.11_1</td>\n",
              "      <td>Pčinjski</td>\n",
              "      <td>ch4</td>\n",
              "      <td>3854.151237</td>\n",
              "      <td>0.028772</td>\n",
              "    </tr>\n",
              "    <tr>\n",
              "      <th>2</th>\n",
              "      <td>SRB.12_1</td>\n",
              "      <td>Pirotski</td>\n",
              "      <td>ch4</td>\n",
              "      <td>1405.439611</td>\n",
              "      <td>0.028843</td>\n",
              "    </tr>\n",
              "    <tr>\n",
              "      <th>3</th>\n",
              "      <td>SRB.13_1</td>\n",
              "      <td>Podunavski</td>\n",
              "      <td>ch4</td>\n",
              "      <td>449.602840</td>\n",
              "      <td>0.029000</td>\n",
              "    </tr>\n",
              "    <tr>\n",
              "      <th>4</th>\n",
              "      <td>SRB.14_1</td>\n",
              "      <td>Pomoravski</td>\n",
              "      <td>ch4</td>\n",
              "      <td>5873.560229</td>\n",
              "      <td>0.028878</td>\n",
              "    </tr>\n",
              "  </tbody>\n",
              "</table>\n",
              "</div>\n",
              "    <div class=\"colab-df-buttons\">\n",
              "\n",
              "  <div class=\"colab-df-container\">\n",
              "    <button class=\"colab-df-convert\" onclick=\"convertToInteractive('df-8494741b-5650-43c6-a601-22456c0f2ad7')\"\n",
              "            title=\"Convert this dataframe to an interactive table.\"\n",
              "            style=\"display:none;\">\n",
              "\n",
              "  <svg xmlns=\"http://www.w3.org/2000/svg\" height=\"24px\" viewBox=\"0 -960 960 960\">\n",
              "    <path d=\"M120-120v-720h720v720H120Zm60-500h600v-160H180v160Zm220 220h160v-160H400v160Zm0 220h160v-160H400v160ZM180-400h160v-160H180v160Zm440 0h160v-160H620v160ZM180-180h160v-160H180v160Zm440 0h160v-160H620v160Z\"/>\n",
              "  </svg>\n",
              "    </button>\n",
              "\n",
              "  <style>\n",
              "    .colab-df-container {\n",
              "      display:flex;\n",
              "      gap: 12px;\n",
              "    }\n",
              "\n",
              "    .colab-df-convert {\n",
              "      background-color: #E8F0FE;\n",
              "      border: none;\n",
              "      border-radius: 50%;\n",
              "      cursor: pointer;\n",
              "      display: none;\n",
              "      fill: #1967D2;\n",
              "      height: 32px;\n",
              "      padding: 0 0 0 0;\n",
              "      width: 32px;\n",
              "    }\n",
              "\n",
              "    .colab-df-convert:hover {\n",
              "      background-color: #E2EBFA;\n",
              "      box-shadow: 0px 1px 2px rgba(60, 64, 67, 0.3), 0px 1px 3px 1px rgba(60, 64, 67, 0.15);\n",
              "      fill: #174EA6;\n",
              "    }\n",
              "\n",
              "    .colab-df-buttons div {\n",
              "      margin-bottom: 4px;\n",
              "    }\n",
              "\n",
              "    [theme=dark] .colab-df-convert {\n",
              "      background-color: #3B4455;\n",
              "      fill: #D2E3FC;\n",
              "    }\n",
              "\n",
              "    [theme=dark] .colab-df-convert:hover {\n",
              "      background-color: #434B5C;\n",
              "      box-shadow: 0px 1px 3px 1px rgba(0, 0, 0, 0.15);\n",
              "      filter: drop-shadow(0px 1px 2px rgba(0, 0, 0, 0.3));\n",
              "      fill: #FFFFFF;\n",
              "    }\n",
              "  </style>\n",
              "\n",
              "    <script>\n",
              "      const buttonEl =\n",
              "        document.querySelector('#df-8494741b-5650-43c6-a601-22456c0f2ad7 button.colab-df-convert');\n",
              "      buttonEl.style.display =\n",
              "        google.colab.kernel.accessAllowed ? 'block' : 'none';\n",
              "\n",
              "      async function convertToInteractive(key) {\n",
              "        const element = document.querySelector('#df-8494741b-5650-43c6-a601-22456c0f2ad7');\n",
              "        const dataTable =\n",
              "          await google.colab.kernel.invokeFunction('convertToInteractive',\n",
              "                                                    [key], {});\n",
              "        if (!dataTable) return;\n",
              "\n",
              "        const docLinkHtml = 'Like what you see? Visit the ' +\n",
              "          '<a target=\"_blank\" href=https://colab.research.google.com/notebooks/data_table.ipynb>data table notebook</a>'\n",
              "          + ' to learn more about interactive tables.';\n",
              "        element.innerHTML = '';\n",
              "        dataTable['output_type'] = 'display_data';\n",
              "        await google.colab.output.renderOutput(dataTable, element);\n",
              "        const docLink = document.createElement('div');\n",
              "        docLink.innerHTML = docLinkHtml;\n",
              "        element.appendChild(docLink);\n",
              "      }\n",
              "    </script>\n",
              "  </div>\n",
              "\n",
              "\n",
              "<div id=\"df-97d142cd-f2ce-44e2-a9f0-a90558ff4e19\">\n",
              "  <button class=\"colab-df-quickchart\" onclick=\"quickchart('df-97d142cd-f2ce-44e2-a9f0-a90558ff4e19')\"\n",
              "            title=\"Suggest charts\"\n",
              "            style=\"display:none;\">\n",
              "\n",
              "<svg xmlns=\"http://www.w3.org/2000/svg\" height=\"24px\"viewBox=\"0 0 24 24\"\n",
              "     width=\"24px\">\n",
              "    <g>\n",
              "        <path d=\"M19 3H5c-1.1 0-2 .9-2 2v14c0 1.1.9 2 2 2h14c1.1 0 2-.9 2-2V5c0-1.1-.9-2-2-2zM9 17H7v-7h2v7zm4 0h-2V7h2v10zm4 0h-2v-4h2v4z\"/>\n",
              "    </g>\n",
              "</svg>\n",
              "  </button>\n",
              "\n",
              "<style>\n",
              "  .colab-df-quickchart {\n",
              "      --bg-color: #E8F0FE;\n",
              "      --fill-color: #1967D2;\n",
              "      --hover-bg-color: #E2EBFA;\n",
              "      --hover-fill-color: #174EA6;\n",
              "      --disabled-fill-color: #AAA;\n",
              "      --disabled-bg-color: #DDD;\n",
              "  }\n",
              "\n",
              "  [theme=dark] .colab-df-quickchart {\n",
              "      --bg-color: #3B4455;\n",
              "      --fill-color: #D2E3FC;\n",
              "      --hover-bg-color: #434B5C;\n",
              "      --hover-fill-color: #FFFFFF;\n",
              "      --disabled-bg-color: #3B4455;\n",
              "      --disabled-fill-color: #666;\n",
              "  }\n",
              "\n",
              "  .colab-df-quickchart {\n",
              "    background-color: var(--bg-color);\n",
              "    border: none;\n",
              "    border-radius: 50%;\n",
              "    cursor: pointer;\n",
              "    display: none;\n",
              "    fill: var(--fill-color);\n",
              "    height: 32px;\n",
              "    padding: 0;\n",
              "    width: 32px;\n",
              "  }\n",
              "\n",
              "  .colab-df-quickchart:hover {\n",
              "    background-color: var(--hover-bg-color);\n",
              "    box-shadow: 0 1px 2px rgba(60, 64, 67, 0.3), 0 1px 3px 1px rgba(60, 64, 67, 0.15);\n",
              "    fill: var(--button-hover-fill-color);\n",
              "  }\n",
              "\n",
              "  .colab-df-quickchart-complete:disabled,\n",
              "  .colab-df-quickchart-complete:disabled:hover {\n",
              "    background-color: var(--disabled-bg-color);\n",
              "    fill: var(--disabled-fill-color);\n",
              "    box-shadow: none;\n",
              "  }\n",
              "\n",
              "  .colab-df-spinner {\n",
              "    border: 2px solid var(--fill-color);\n",
              "    border-color: transparent;\n",
              "    border-bottom-color: var(--fill-color);\n",
              "    animation:\n",
              "      spin 1s steps(1) infinite;\n",
              "  }\n",
              "\n",
              "  @keyframes spin {\n",
              "    0% {\n",
              "      border-color: transparent;\n",
              "      border-bottom-color: var(--fill-color);\n",
              "      border-left-color: var(--fill-color);\n",
              "    }\n",
              "    20% {\n",
              "      border-color: transparent;\n",
              "      border-left-color: var(--fill-color);\n",
              "      border-top-color: var(--fill-color);\n",
              "    }\n",
              "    30% {\n",
              "      border-color: transparent;\n",
              "      border-left-color: var(--fill-color);\n",
              "      border-top-color: var(--fill-color);\n",
              "      border-right-color: var(--fill-color);\n",
              "    }\n",
              "    40% {\n",
              "      border-color: transparent;\n",
              "      border-right-color: var(--fill-color);\n",
              "      border-top-color: var(--fill-color);\n",
              "    }\n",
              "    60% {\n",
              "      border-color: transparent;\n",
              "      border-right-color: var(--fill-color);\n",
              "    }\n",
              "    80% {\n",
              "      border-color: transparent;\n",
              "      border-right-color: var(--fill-color);\n",
              "      border-bottom-color: var(--fill-color);\n",
              "    }\n",
              "    90% {\n",
              "      border-color: transparent;\n",
              "      border-bottom-color: var(--fill-color);\n",
              "    }\n",
              "  }\n",
              "</style>\n",
              "\n",
              "  <script>\n",
              "    async function quickchart(key) {\n",
              "      const quickchartButtonEl =\n",
              "        document.querySelector('#' + key + ' button');\n",
              "      quickchartButtonEl.disabled = true;  // To prevent multiple clicks.\n",
              "      quickchartButtonEl.classList.add('colab-df-spinner');\n",
              "      try {\n",
              "        const charts = await google.colab.kernel.invokeFunction(\n",
              "            'suggestCharts', [key], {});\n",
              "      } catch (error) {\n",
              "        console.error('Error during call to suggestCharts:', error);\n",
              "      }\n",
              "      quickchartButtonEl.classList.remove('colab-df-spinner');\n",
              "      quickchartButtonEl.classList.add('colab-df-quickchart-complete');\n",
              "    }\n",
              "    (() => {\n",
              "      let quickchartButtonEl =\n",
              "        document.querySelector('#df-97d142cd-f2ce-44e2-a9f0-a90558ff4e19 button');\n",
              "      quickchartButtonEl.style.display =\n",
              "        google.colab.kernel.accessAllowed ? 'block' : 'none';\n",
              "    })();\n",
              "  </script>\n",
              "</div>\n",
              "\n",
              "    </div>\n",
              "  </div>\n"
            ],
            "application/vnd.google.colaboratory.intrinsic+json": {
              "type": "dataframe",
              "variable_name": "grouped_emissions",
              "summary": "{\n  \"name\": \"grouped_emissions\",\n  \"rows\": 25,\n  \"fields\": [\n    {\n      \"column\": \"GID_1\",\n      \"properties\": {\n        \"dtype\": \"string\",\n        \"num_unique_values\": 25,\n        \"samples\": [\n          \"SRB.18_1\",\n          \"SRB.25_1\",\n          \"SRB.10_1\"\n        ],\n        \"semantic_type\": \"\",\n        \"description\": \"\"\n      }\n    },\n    {\n      \"column\": \"NAME_1\",\n      \"properties\": {\n        \"dtype\": \"string\",\n        \"num_unique_values\": 25,\n        \"samples\": [\n          \"Severno-Banatski\",\n          \"Zlatiborski\",\n          \"Ni\\u0161avski\"\n        ],\n        \"semantic_type\": \"\",\n        \"description\": \"\"\n      }\n    },\n    {\n      \"column\": \"gas\",\n      \"properties\": {\n        \"dtype\": \"category\",\n        \"num_unique_values\": 1,\n        \"samples\": [\n          \"ch4\"\n        ],\n        \"semantic_type\": \"\",\n        \"description\": \"\"\n      }\n    },\n    {\n      \"column\": \"emissions_quantity\",\n      \"properties\": {\n        \"dtype\": \"number\",\n        \"std\": 11804.011423152704,\n        \"min\": 449.6028401757335,\n        \"max\": 57138.13390815552,\n        \"num_unique_values\": 25,\n        \"samples\": [\n          711.0579165412756\n        ],\n        \"semantic_type\": \"\",\n        \"description\": \"\"\n      }\n    },\n    {\n      \"column\": \"emissions_factor\",\n      \"properties\": {\n        \"dtype\": \"number\",\n        \"std\": 0.002630980709817676,\n        \"min\": 0.019338609798143704,\n        \"max\": 0.03083309993179248,\n        \"num_unique_values\": 25,\n        \"samples\": [\n          0.027107619835169804\n        ],\n        \"semantic_type\": \"\",\n        \"description\": \"\"\n      }\n    }\n  ]\n}"
            }
          },
          "metadata": {},
          "execution_count": 15
        }
      ]
    },
    {
      "cell_type": "code",
      "source": [
        "df = grouped_emissions.pivot(index='GID_1', columns='gas', values='emissions_quantity').reset_index()"
      ],
      "metadata": {
        "id": "Aw0V5MnARjUU"
      },
      "execution_count": 16,
      "outputs": []
    },
    {
      "cell_type": "code",
      "source": [
        "df = df.rename(columns= {\"ch4\": \"ch4_emissions_quantity\"})\n",
        "df.head()"
      ],
      "metadata": {
        "colab": {
          "base_uri": "https://localhost:8080/",
          "height": 206
        },
        "id": "lQUYmzllRsbV",
        "outputId": "5f2e2882-bd26-4616-8352-05c60c4602c1"
      },
      "execution_count": 17,
      "outputs": [
        {
          "output_type": "execute_result",
          "data": {
            "text/plain": [
              "gas     GID_1  ch4_emissions_quantity\n",
              "0    SRB.10_1             2748.110647\n",
              "1    SRB.11_1             3854.151237\n",
              "2    SRB.12_1             1405.439611\n",
              "3    SRB.13_1              449.602840\n",
              "4    SRB.14_1             5873.560229"
            ],
            "text/html": [
              "\n",
              "  <div id=\"df-e67bf1c5-d41f-46b6-9ba1-6da6371dbc04\" class=\"colab-df-container\">\n",
              "    <div>\n",
              "<style scoped>\n",
              "    .dataframe tbody tr th:only-of-type {\n",
              "        vertical-align: middle;\n",
              "    }\n",
              "\n",
              "    .dataframe tbody tr th {\n",
              "        vertical-align: top;\n",
              "    }\n",
              "\n",
              "    .dataframe thead th {\n",
              "        text-align: right;\n",
              "    }\n",
              "</style>\n",
              "<table border=\"1\" class=\"dataframe\">\n",
              "  <thead>\n",
              "    <tr style=\"text-align: right;\">\n",
              "      <th>gas</th>\n",
              "      <th>GID_1</th>\n",
              "      <th>ch4_emissions_quantity</th>\n",
              "    </tr>\n",
              "  </thead>\n",
              "  <tbody>\n",
              "    <tr>\n",
              "      <th>0</th>\n",
              "      <td>SRB.10_1</td>\n",
              "      <td>2748.110647</td>\n",
              "    </tr>\n",
              "    <tr>\n",
              "      <th>1</th>\n",
              "      <td>SRB.11_1</td>\n",
              "      <td>3854.151237</td>\n",
              "    </tr>\n",
              "    <tr>\n",
              "      <th>2</th>\n",
              "      <td>SRB.12_1</td>\n",
              "      <td>1405.439611</td>\n",
              "    </tr>\n",
              "    <tr>\n",
              "      <th>3</th>\n",
              "      <td>SRB.13_1</td>\n",
              "      <td>449.602840</td>\n",
              "    </tr>\n",
              "    <tr>\n",
              "      <th>4</th>\n",
              "      <td>SRB.14_1</td>\n",
              "      <td>5873.560229</td>\n",
              "    </tr>\n",
              "  </tbody>\n",
              "</table>\n",
              "</div>\n",
              "    <div class=\"colab-df-buttons\">\n",
              "\n",
              "  <div class=\"colab-df-container\">\n",
              "    <button class=\"colab-df-convert\" onclick=\"convertToInteractive('df-e67bf1c5-d41f-46b6-9ba1-6da6371dbc04')\"\n",
              "            title=\"Convert this dataframe to an interactive table.\"\n",
              "            style=\"display:none;\">\n",
              "\n",
              "  <svg xmlns=\"http://www.w3.org/2000/svg\" height=\"24px\" viewBox=\"0 -960 960 960\">\n",
              "    <path d=\"M120-120v-720h720v720H120Zm60-500h600v-160H180v160Zm220 220h160v-160H400v160Zm0 220h160v-160H400v160ZM180-400h160v-160H180v160Zm440 0h160v-160H620v160ZM180-180h160v-160H180v160Zm440 0h160v-160H620v160Z\"/>\n",
              "  </svg>\n",
              "    </button>\n",
              "\n",
              "  <style>\n",
              "    .colab-df-container {\n",
              "      display:flex;\n",
              "      gap: 12px;\n",
              "    }\n",
              "\n",
              "    .colab-df-convert {\n",
              "      background-color: #E8F0FE;\n",
              "      border: none;\n",
              "      border-radius: 50%;\n",
              "      cursor: pointer;\n",
              "      display: none;\n",
              "      fill: #1967D2;\n",
              "      height: 32px;\n",
              "      padding: 0 0 0 0;\n",
              "      width: 32px;\n",
              "    }\n",
              "\n",
              "    .colab-df-convert:hover {\n",
              "      background-color: #E2EBFA;\n",
              "      box-shadow: 0px 1px 2px rgba(60, 64, 67, 0.3), 0px 1px 3px 1px rgba(60, 64, 67, 0.15);\n",
              "      fill: #174EA6;\n",
              "    }\n",
              "\n",
              "    .colab-df-buttons div {\n",
              "      margin-bottom: 4px;\n",
              "    }\n",
              "\n",
              "    [theme=dark] .colab-df-convert {\n",
              "      background-color: #3B4455;\n",
              "      fill: #D2E3FC;\n",
              "    }\n",
              "\n",
              "    [theme=dark] .colab-df-convert:hover {\n",
              "      background-color: #434B5C;\n",
              "      box-shadow: 0px 1px 3px 1px rgba(0, 0, 0, 0.15);\n",
              "      filter: drop-shadow(0px 1px 2px rgba(0, 0, 0, 0.3));\n",
              "      fill: #FFFFFF;\n",
              "    }\n",
              "  </style>\n",
              "\n",
              "    <script>\n",
              "      const buttonEl =\n",
              "        document.querySelector('#df-e67bf1c5-d41f-46b6-9ba1-6da6371dbc04 button.colab-df-convert');\n",
              "      buttonEl.style.display =\n",
              "        google.colab.kernel.accessAllowed ? 'block' : 'none';\n",
              "\n",
              "      async function convertToInteractive(key) {\n",
              "        const element = document.querySelector('#df-e67bf1c5-d41f-46b6-9ba1-6da6371dbc04');\n",
              "        const dataTable =\n",
              "          await google.colab.kernel.invokeFunction('convertToInteractive',\n",
              "                                                    [key], {});\n",
              "        if (!dataTable) return;\n",
              "\n",
              "        const docLinkHtml = 'Like what you see? Visit the ' +\n",
              "          '<a target=\"_blank\" href=https://colab.research.google.com/notebooks/data_table.ipynb>data table notebook</a>'\n",
              "          + ' to learn more about interactive tables.';\n",
              "        element.innerHTML = '';\n",
              "        dataTable['output_type'] = 'display_data';\n",
              "        await google.colab.output.renderOutput(dataTable, element);\n",
              "        const docLink = document.createElement('div');\n",
              "        docLink.innerHTML = docLinkHtml;\n",
              "        element.appendChild(docLink);\n",
              "      }\n",
              "    </script>\n",
              "  </div>\n",
              "\n",
              "\n",
              "<div id=\"df-5cd44b36-7254-45db-a9b2-673fe0061359\">\n",
              "  <button class=\"colab-df-quickchart\" onclick=\"quickchart('df-5cd44b36-7254-45db-a9b2-673fe0061359')\"\n",
              "            title=\"Suggest charts\"\n",
              "            style=\"display:none;\">\n",
              "\n",
              "<svg xmlns=\"http://www.w3.org/2000/svg\" height=\"24px\"viewBox=\"0 0 24 24\"\n",
              "     width=\"24px\">\n",
              "    <g>\n",
              "        <path d=\"M19 3H5c-1.1 0-2 .9-2 2v14c0 1.1.9 2 2 2h14c1.1 0 2-.9 2-2V5c0-1.1-.9-2-2-2zM9 17H7v-7h2v7zm4 0h-2V7h2v10zm4 0h-2v-4h2v4z\"/>\n",
              "    </g>\n",
              "</svg>\n",
              "  </button>\n",
              "\n",
              "<style>\n",
              "  .colab-df-quickchart {\n",
              "      --bg-color: #E8F0FE;\n",
              "      --fill-color: #1967D2;\n",
              "      --hover-bg-color: #E2EBFA;\n",
              "      --hover-fill-color: #174EA6;\n",
              "      --disabled-fill-color: #AAA;\n",
              "      --disabled-bg-color: #DDD;\n",
              "  }\n",
              "\n",
              "  [theme=dark] .colab-df-quickchart {\n",
              "      --bg-color: #3B4455;\n",
              "      --fill-color: #D2E3FC;\n",
              "      --hover-bg-color: #434B5C;\n",
              "      --hover-fill-color: #FFFFFF;\n",
              "      --disabled-bg-color: #3B4455;\n",
              "      --disabled-fill-color: #666;\n",
              "  }\n",
              "\n",
              "  .colab-df-quickchart {\n",
              "    background-color: var(--bg-color);\n",
              "    border: none;\n",
              "    border-radius: 50%;\n",
              "    cursor: pointer;\n",
              "    display: none;\n",
              "    fill: var(--fill-color);\n",
              "    height: 32px;\n",
              "    padding: 0;\n",
              "    width: 32px;\n",
              "  }\n",
              "\n",
              "  .colab-df-quickchart:hover {\n",
              "    background-color: var(--hover-bg-color);\n",
              "    box-shadow: 0 1px 2px rgba(60, 64, 67, 0.3), 0 1px 3px 1px rgba(60, 64, 67, 0.15);\n",
              "    fill: var(--button-hover-fill-color);\n",
              "  }\n",
              "\n",
              "  .colab-df-quickchart-complete:disabled,\n",
              "  .colab-df-quickchart-complete:disabled:hover {\n",
              "    background-color: var(--disabled-bg-color);\n",
              "    fill: var(--disabled-fill-color);\n",
              "    box-shadow: none;\n",
              "  }\n",
              "\n",
              "  .colab-df-spinner {\n",
              "    border: 2px solid var(--fill-color);\n",
              "    border-color: transparent;\n",
              "    border-bottom-color: var(--fill-color);\n",
              "    animation:\n",
              "      spin 1s steps(1) infinite;\n",
              "  }\n",
              "\n",
              "  @keyframes spin {\n",
              "    0% {\n",
              "      border-color: transparent;\n",
              "      border-bottom-color: var(--fill-color);\n",
              "      border-left-color: var(--fill-color);\n",
              "    }\n",
              "    20% {\n",
              "      border-color: transparent;\n",
              "      border-left-color: var(--fill-color);\n",
              "      border-top-color: var(--fill-color);\n",
              "    }\n",
              "    30% {\n",
              "      border-color: transparent;\n",
              "      border-left-color: var(--fill-color);\n",
              "      border-top-color: var(--fill-color);\n",
              "      border-right-color: var(--fill-color);\n",
              "    }\n",
              "    40% {\n",
              "      border-color: transparent;\n",
              "      border-right-color: var(--fill-color);\n",
              "      border-top-color: var(--fill-color);\n",
              "    }\n",
              "    60% {\n",
              "      border-color: transparent;\n",
              "      border-right-color: var(--fill-color);\n",
              "    }\n",
              "    80% {\n",
              "      border-color: transparent;\n",
              "      border-right-color: var(--fill-color);\n",
              "      border-bottom-color: var(--fill-color);\n",
              "    }\n",
              "    90% {\n",
              "      border-color: transparent;\n",
              "      border-bottom-color: var(--fill-color);\n",
              "    }\n",
              "  }\n",
              "</style>\n",
              "\n",
              "  <script>\n",
              "    async function quickchart(key) {\n",
              "      const quickchartButtonEl =\n",
              "        document.querySelector('#' + key + ' button');\n",
              "      quickchartButtonEl.disabled = true;  // To prevent multiple clicks.\n",
              "      quickchartButtonEl.classList.add('colab-df-spinner');\n",
              "      try {\n",
              "        const charts = await google.colab.kernel.invokeFunction(\n",
              "            'suggestCharts', [key], {});\n",
              "      } catch (error) {\n",
              "        console.error('Error during call to suggestCharts:', error);\n",
              "      }\n",
              "      quickchartButtonEl.classList.remove('colab-df-spinner');\n",
              "      quickchartButtonEl.classList.add('colab-df-quickchart-complete');\n",
              "    }\n",
              "    (() => {\n",
              "      let quickchartButtonEl =\n",
              "        document.querySelector('#df-5cd44b36-7254-45db-a9b2-673fe0061359 button');\n",
              "      quickchartButtonEl.style.display =\n",
              "        google.colab.kernel.accessAllowed ? 'block' : 'none';\n",
              "    })();\n",
              "  </script>\n",
              "</div>\n",
              "\n",
              "    </div>\n",
              "  </div>\n"
            ],
            "application/vnd.google.colaboratory.intrinsic+json": {
              "type": "dataframe",
              "variable_name": "df",
              "summary": "{\n  \"name\": \"df\",\n  \"rows\": 25,\n  \"fields\": [\n    {\n      \"column\": \"GID_1\",\n      \"properties\": {\n        \"dtype\": \"string\",\n        \"num_unique_values\": 25,\n        \"samples\": [\n          \"SRB.18_1\",\n          \"SRB.25_1\",\n          \"SRB.10_1\"\n        ],\n        \"semantic_type\": \"\",\n        \"description\": \"\"\n      }\n    },\n    {\n      \"column\": \"ch4_emissions_quantity\",\n      \"properties\": {\n        \"dtype\": \"number\",\n        \"std\": 11804.011423152704,\n        \"min\": 449.6028401757335,\n        \"max\": 57138.13390815552,\n        \"num_unique_values\": 25,\n        \"samples\": [\n          711.0579165412756,\n          5264.112162613214,\n          2748.1106466807196\n        ],\n        \"semantic_type\": \"\",\n        \"description\": \"\"\n      }\n    }\n  ]\n}"
            }
          },
          "metadata": {},
          "execution_count": 17
        }
      ]
    },
    {
      "cell_type": "code",
      "source": [
        "df['year'] = 2022"
      ],
      "metadata": {
        "id": "icySpvN2SGF7"
      },
      "execution_count": 18,
      "outputs": []
    },
    {
      "cell_type": "code",
      "source": [
        "df = df.merge(grouped_emissions[['GID_1', 'NAME_1']],\n",
        "              how = 'inner')"
      ],
      "metadata": {
        "id": "JarNzmI2SOTv"
      },
      "execution_count": 19,
      "outputs": []
    },
    {
      "cell_type": "code",
      "source": [
        "len(df)"
      ],
      "metadata": {
        "colab": {
          "base_uri": "https://localhost:8080/"
        },
        "id": "pa2-npjASmg9",
        "outputId": "5c9a9c2e-c61e-4210-b34a-22dc8ee4e61d"
      },
      "execution_count": 21,
      "outputs": [
        {
          "output_type": "execute_result",
          "data": {
            "text/plain": [
              "25"
            ]
          },
          "metadata": {},
          "execution_count": 21
        }
      ]
    },
    {
      "cell_type": "code",
      "source": [
        "#Save the HealthCare Facilities in Serbia CSV file\n",
        "from io import BytesIO\n",
        "\n",
        "# Convert DataFrame to CSV in memory\n",
        "csv_buffer = BytesIO()\n",
        "df.to_csv(csv_buffer, index=False)\n",
        "\n",
        "# Move the buffer's position to the beginning\n",
        "csv_buffer.seek(0)\n",
        "\n",
        "def upload_csv_to_gcs(bucket_name, destination_blob_name, file_buffer):\n",
        "    \"\"\"Uploads a file from a buffer to Google Cloud Storage.\"\"\"\n",
        "    storage_client = storage.Client()\n",
        "    bucket = storage_client.bucket(bucket_name)\n",
        "    blob = bucket.blob(destination_blob_name)\n",
        "\n",
        "    # Upload the file-like object (buffer)\n",
        "    blob.upload_from_file(file_buffer, content_type='text/csv')\n",
        "    print(f\"File uploaded to {destination_blob_name}.\")\n",
        "\n",
        "# Define your GCS bucket name and destination path\n",
        "destination_blob_name = 'RS/processed-data-district/SRB_methane_emissions-2022.csv'\n",
        "\n",
        "# Upload the CSV from the buffer directly\n",
        "upload_csv_to_gcs(bucket_name, destination_blob_name, csv_buffer)"
      ],
      "metadata": {
        "colab": {
          "base_uri": "https://localhost:8080/"
        },
        "id": "Z_vcAdjpW58U",
        "outputId": "e7cf40fc-09c5-4dff-dbef-6da7e1a1b090"
      },
      "execution_count": 24,
      "outputs": [
        {
          "output_type": "stream",
          "name": "stdout",
          "text": [
            "File uploaded to RS/processed-data-district/SRB_methane_emissions-2022.csv.\n"
          ]
        }
      ]
    },
    {
      "cell_type": "code",
      "source": [
        "grouped_emissions = emissions.groupby(['GID_2', 'NAME_2', 'gas', 'sector']).agg({\n",
        "    'emissions_quantity': 'sum',        # Sum of the 'Sales' column\n",
        "    'emissions_factor': 'mean'     # Average of the 'Quantity' column\n",
        "})"
      ],
      "metadata": {
        "id": "VNwjVmeEfsP2"
      },
      "execution_count": null,
      "outputs": []
    },
    {
      "cell_type": "code",
      "source": [
        "grouped_emissions = grouped_emissions.reset_index()"
      ],
      "metadata": {
        "id": "9yKg386Hft4q"
      },
      "execution_count": null,
      "outputs": []
    },
    {
      "cell_type": "code",
      "source": [],
      "metadata": {
        "id": "Js5w4tbIRZrP"
      },
      "execution_count": null,
      "outputs": []
    },
    {
      "cell_type": "code",
      "source": [
        "#Save the HealthCare Facilities in Serbia CSV file\n",
        "from io import BytesIO\n",
        "\n",
        "# Convert DataFrame to CSV in memory\n",
        "csv_buffer = BytesIO()\n",
        "grouped_emissions.to_csv(csv_buffer, index=False)\n",
        "\n",
        "# Move the buffer's position to the beginning\n",
        "csv_buffer.seek(0)\n",
        "\n",
        "def upload_csv_to_gcs(bucket_name, destination_blob_name, file_buffer):\n",
        "    \"\"\"Uploads a file from a buffer to Google Cloud Storage.\"\"\"\n",
        "    storage_client = storage.Client()\n",
        "    bucket = storage_client.bucket(bucket_name)\n",
        "    blob = bucket.blob(destination_blob_name)\n",
        "\n",
        "    # Upload the file-like object (buffer)\n",
        "    blob.upload_from_file(file_buffer, content_type='text/csv')\n",
        "    print(f\"File uploaded to {destination_blob_name}.\")\n",
        "\n",
        "# Define your GCS bucket name and destination path\n",
        "destination_blob_name = 'RS/processed-data/SRB_emissions-per-sector-all-sources-2022.csv'\n",
        "\n",
        "# Upload the CSV from the buffer directly\n",
        "upload_csv_to_gcs(bucket_name, destination_blob_name, csv_buffer)"
      ],
      "metadata": {
        "colab": {
          "base_uri": "https://localhost:8080/"
        },
        "id": "XVe1yH2WfvC7",
        "outputId": "303dd9a5-08b9-4620-c351-706124f1ec4c"
      },
      "execution_count": null,
      "outputs": [
        {
          "output_type": "stream",
          "name": "stdout",
          "text": [
            "File uploaded to RS/processed-data/SRB_emissions-per-sector-all-sources-2022.csv.\n"
          ]
        }
      ]
    }
  ]
}